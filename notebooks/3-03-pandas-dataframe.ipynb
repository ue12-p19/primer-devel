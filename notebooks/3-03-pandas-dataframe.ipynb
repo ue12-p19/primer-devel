{
 "cells": [
  {
   "cell_type": "markdown",
   "metadata": {},
   "source": [
    "<div class=\"licence\">\n",
    "<span>Licence CC BY-NC-ND</span>\n",
    "<span>Valérie Roy</span>\n",
    "<span><img src=\"media/ensmp-25-alpha.png\" /></span>\n",
    "</div>"
   ]
  },
  {
   "cell_type": "markdown",
   "metadata": {},
   "source": [
    "# *pandas.DataFrame*\n",
    "\n",
    "\n",
    "   - **two-dimensional** array\n",
    "   - where **rows** and **columns** are indexed\n",
    "   - **missing** values are replaced by *numpy.NaN*\n",
    "   - **scalar** values are broadcasted"
   ]
  },
  {
   "cell_type": "markdown",
   "metadata": {},
   "source": [
    "   - can be built **several ways**, or most usually **read** from files (csv, json, …)"
   ]
  },
  {
   "cell_type": "code",
   "execution_count": null,
   "metadata": {},
   "outputs": [],
   "source": [
    "import pandas as pd"
   ]
  },
  {
   "cell_type": "markdown",
   "metadata": {
    "slideshow": {
     "slide_type": "slide"
    }
   },
   "source": [
    "## creating *pandas.DataFrame* from *pandas.Series*"
   ]
  },
  {
   "cell_type": "markdown",
   "metadata": {},
   "source": [
    "   - we create three **series of data**\n",
    "      - **distance**, **lowest_temp** and **highest_temp** related to the solar system\n",
    "   - series are **indexed by** the **names** of the planets\n",
    "   - some values are **missing**\n",
    "      - the **lowest** and the **highest** temperature of **neptune**, **saturn** and **uranus**\n",
    "   - all planets are from the **solar system**\n",
    "   \n",
    "   - **index** must be identical"
   ]
  },
  {
   "cell_type": "code",
   "execution_count": null,
   "metadata": {
    "slideshow": {
     "slide_type": "subslide"
    }
   },
   "outputs": [],
   "source": [
    "# distance is relative to Earth's \n",
    "distance = pd.Series([0.387, 0.723, 30, 1., 5.203, 1.523, 9.6, 19.19],\n",
    "                     index=['Mercury', 'Venus', 'Neptune', 'Earth', 'Jupiter', 'Mars', 'Saturn', 'Uranus'])\n",
    "\n",
    "lowest_temp = pd.Series([-200.0, 446.0,  -90.0, -125.0, -140.0],\n",
    "                        index=['Mercury', 'Venus', 'Earth', 'Jupiter', 'Mars'])\n",
    "\n",
    "highest_temp = pd.Series([430.0, 490.0, 60.0, 17.0, 20.0],\n",
    "                         index=['Mercury', 'Venus', 'Earth', 'Jupiter', 'Mars'])\n"
   ]
  },
  {
   "cell_type": "markdown",
   "metadata": {
    "slideshow": {
     "slide_type": "subslide"
    }
   },
   "source": [
    "we **group** the series using a **python dict** \n",
    "   - the **names** of the series are the **keys** of **dict**\n",
    "   - the **elements** of the series are the **values** "
   ]
  },
  {
   "cell_type": "code",
   "execution_count": null,
   "metadata": {},
   "outputs": [],
   "source": [
    "planets = pd.DataFrame({'distance': distance,\n",
    "                        'lowest temperature': lowest_temp, \n",
    "                        'highest temperature': highest_temp, \n",
    "                        'origin': 'solar system'})"
   ]
  },
  {
   "cell_type": "markdown",
   "metadata": {},
   "source": [
    "   - note that we give a single scalar value for the *'origin'* series\n",
    "   - the **single** value is **broadcasted** to the **entire column** (here *Solar System*)\n",
    "   - **missing** values are **replaced by** *numpy.NaN* (min/max temperature of neptune, saturn and uranus"
   ]
  },
  {
   "cell_type": "markdown",
   "metadata": {
    "slideshow": {
     "slide_type": "subslide"
    }
   },
   "source": [
    "## overview methods"
   ]
  },
  {
   "cell_type": "markdown",
   "metadata": {
    "slideshow": {
     "slide_type": ""
    }
   },
   "source": [
    "### a glimpse with *head()*"
   ]
  },
  {
   "cell_type": "code",
   "execution_count": null,
   "metadata": {
    "cell_style": "center",
    "slideshow": {
     "slide_type": ""
    }
   },
   "outputs": [],
   "source": [
    "# head() provides a nice way to have \n",
    "# a glimpse at the data\n",
    "# there's a tail() method as well of course\n",
    "\n",
    "planets.head()"
   ]
  },
  {
   "cell_type": "markdown",
   "metadata": {
    "slideshow": {
     "slide_type": "subslide"
    }
   },
   "source": [
    "### statistics with *describe()*"
   ]
  },
  {
   "cell_type": "code",
   "execution_count": null,
   "metadata": {},
   "outputs": [],
   "source": [
    "# another way to have an idea of the contents \n",
    "# is to see statistical info on the columns\n",
    "planets.describe()"
   ]
  },
  {
   "cell_type": "markdown",
   "metadata": {
    "slideshow": {
     "slide_type": "slide"
    }
   },
   "source": [
    "### naming"
   ]
  },
  {
   "cell_type": "code",
   "execution_count": null,
   "metadata": {
    "cell_style": "center"
   },
   "outputs": [],
   "source": [
    "# we can give a name to the index\n",
    "\n",
    "planets.index.name = 'planets names'"
   ]
  },
  {
   "cell_type": "code",
   "execution_count": null,
   "metadata": {},
   "outputs": [],
   "source": [
    "planets.head()"
   ]
  },
  {
   "cell_type": "markdown",
   "metadata": {
    "slideshow": {
     "slide_type": "slide"
    }
   },
   "source": [
    "### information on *pandas.DataFrame*"
   ]
  },
  {
   "cell_type": "code",
   "execution_count": null,
   "metadata": {
    "cell_style": "split"
   },
   "outputs": [],
   "source": [
    "# the index corresponds to a column\n",
    "planets.index"
   ]
  },
  {
   "cell_type": "code",
   "execution_count": null,
   "metadata": {},
   "outputs": [],
   "source": [
    "# its type is Index (not Series)\n",
    "type(planets.index)"
   ]
  },
  {
   "cell_type": "code",
   "execution_count": null,
   "metadata": {
    "cell_style": "split"
   },
   "outputs": [],
   "source": [
    "# column names\n",
    "planets.columns"
   ]
  },
  {
   "cell_type": "code",
   "execution_count": null,
   "metadata": {
    "slideshow": {
     "slide_type": "subslide"
    }
   },
   "outputs": [],
   "source": [
    "# you can transpose a *pandas.DataFrame*\n",
    "# like a numpy array\n",
    "    \n",
    "# in this view columns and rows are swapped\n",
    "planets.T "
   ]
  },
  {
   "cell_type": "code",
   "execution_count": null,
   "metadata": {},
   "outputs": [],
   "source": [
    "# miscell information on missing data,\n",
    "# types, memory usage, ..\n",
    "\n",
    "planets.info()"
   ]
  },
  {
   "cell_type": "markdown",
   "metadata": {
    "slideshow": {
     "slide_type": "slide"
    }
   },
   "source": [
    "## accessing elements "
   ]
  },
  {
   "cell_type": "markdown",
   "metadata": {
    "slideshow": {
     "slide_type": ""
    }
   },
   "source": [
    "### accessing columns"
   ]
  },
  {
   "cell_type": "code",
   "execution_count": null,
   "metadata": {
    "cell_style": "split"
   },
   "outputs": [],
   "source": [
    "# to retrieve columns by name\n",
    "# we use the [] operator\n",
    "# NOTE: this returns a reference\n",
    "#  to the Series object,\n",
    "#  and NOT a copy\n",
    "\n",
    "planets['distance'] "
   ]
  },
  {
   "cell_type": "code",
   "execution_count": null,
   "metadata": {
    "cell_style": "split"
   },
   "outputs": [],
   "source": [
    "# we can also use the attribute operator\n",
    "# when possible \n",
    "# this WON'T WORK for example\n",
    "# with 'lowest temperature'\n",
    "# because of the space in its name\n",
    "\n",
    "planets.distance"
   ]
  },
  {
   "cell_type": "code",
   "execution_count": null,
   "metadata": {
    "slideshow": {
     "slide_type": "subslide"
    }
   },
   "outputs": [],
   "source": [
    "# we can extract several columns at once \n",
    "# and get another DataFrame object\n",
    "\n",
    "planets[['distance', 'lowest temperature', 'highest temperature']]"
   ]
  },
  {
   "cell_type": "markdown",
   "metadata": {
    "slideshow": {
     "slide_type": "slide"
    }
   },
   "source": [
    "### indexing using **labels** with *pandas.DataFrame.loc*"
   ]
  },
  {
   "cell_type": "markdown",
   "metadata": {},
   "source": [
    "the classical way\n",
    "   - **standard** (python and numpy) **indexing operators** **[]** and attribute operator **.**\n",
    "   - are **available** and **intuitive**\n",
    "\n",
    "   \n",
    "However\n",
    "   - using **standard operators** has  **optimization** limits\n",
    "   - for **production code** use the **optimized pandas data access methods** \n",
    "   \n",
    "   \n",
    "http://pandas.pydata.org/pandas-docs/stable/indexing.html"
   ]
  },
  {
   "cell_type": "markdown",
   "metadata": {
    "slideshow": {
     "slide_type": "subslide"
    }
   },
   "source": [
    "**several forms for the `loc` indexing scheme**\n",
    "   - *df.loc[row_label]*\n",
    "   - *df.loc[row_label, column_label]*"
   ]
  },
  {
   "cell_type": "markdown",
   "metadata": {
    "cell_style": "center",
    "slideshow": {
     "slide_type": ""
    }
   },
   "source": [
    "*row_label* and *column_label* can be:\n",
    "   - **a single label**\n",
    "   - **list of labels**\n",
    "   - **slices** with labels\n",
    "   - **masks** (**Boolean array**)"
   ]
  },
  {
   "cell_type": "code",
   "execution_count": null,
   "metadata": {
    "cell_style": "center",
    "slideshow": {
     "slide_type": ""
    }
   },
   "outputs": [],
   "source": [
    "# loc[] returns a single value\n",
    "# when denoting a single cell\n",
    "\n",
    "planets.loc['Earth', 'distance']"
   ]
  },
  {
   "cell_type": "code",
   "execution_count": null,
   "metadata": {
    "cell_style": "split",
    "slideshow": {
     "slide_type": "subslide"
    }
   },
   "outputs": [],
   "source": [
    "# this denotes a row so it's a Series\n",
    "\n",
    "type(planets.loc['Earth'])"
   ]
  },
  {
   "cell_type": "code",
   "execution_count": null,
   "metadata": {
    "cell_style": "split"
   },
   "outputs": [],
   "source": [
    "# as we can see here\n",
    "\n",
    "planets.loc['Earth']"
   ]
  },
  {
   "cell_type": "code",
   "execution_count": null,
   "metadata": {
    "cell_style": "split"
   },
   "outputs": [],
   "source": [
    "# because we use a list for the row\n",
    "# we receive a Series too\n",
    "\n",
    "type(planets.loc[['Earth'], 'distance'])"
   ]
  },
  {
   "cell_type": "code",
   "execution_count": null,
   "metadata": {
    "cell_style": "split"
   },
   "outputs": [],
   "source": [
    "# this is a Series\n",
    "\n",
    "planets.loc[['Earth'], 'distance']"
   ]
  },
  {
   "cell_type": "code",
   "execution_count": null,
   "metadata": {
    "cell_style": "split"
   },
   "outputs": [],
   "source": [
    "# ditto\n",
    "\n",
    "type(planets.loc['Earth', ['distance']])"
   ]
  },
  {
   "cell_type": "code",
   "execution_count": null,
   "metadata": {
    "cell_style": "split"
   },
   "outputs": [],
   "source": [
    "\n",
    "planets.loc['Earth', ['distance']]"
   ]
  },
  {
   "cell_type": "markdown",
   "metadata": {
    "slideshow": {
     "slide_type": "subslide"
    }
   },
   "source": [
    "when *row_label* and *column_label* are **lists of labels**\n",
    "   - it returns a *pandas.DataFrame*"
   ]
  },
  {
   "cell_type": "code",
   "execution_count": null,
   "metadata": {
    "cell_style": "split"
   },
   "outputs": [],
   "source": [
    "type(planets.loc[['Earth']])"
   ]
  },
  {
   "cell_type": "code",
   "execution_count": null,
   "metadata": {
    "cell_style": "split"
   },
   "outputs": [],
   "source": [
    "planets.loc[['Earth']]"
   ]
  },
  {
   "cell_type": "code",
   "execution_count": null,
   "metadata": {},
   "outputs": [],
   "source": [
    "planets.loc[['Earth', 'Mars']]"
   ]
  },
  {
   "cell_type": "markdown",
   "metadata": {
    "slideshow": {
     "slide_type": "subslide"
    }
   },
   "source": [
    "### slicing\n",
    "\n",
    "- rows from 'Earth' included to 'Mars'**included**\n",
    "- all columns *':'*"
   ]
  },
  {
   "cell_type": "code",
   "execution_count": null,
   "metadata": {},
   "outputs": [],
   "source": [
    "planets.loc['Earth':'Mars', :]"
   ]
  },
  {
   "cell_type": "markdown",
   "metadata": {
    "slideshow": {
     "slide_type": "subslide"
    }
   },
   "source": [
    "   - every other row: `::2`\n",
    "   - columns from *distance* to *highest temperature* **included**"
   ]
  },
  {
   "cell_type": "code",
   "execution_count": null,
   "metadata": {},
   "outputs": [],
   "source": [
    "# odd rows only, 3 columns only\n",
    "\n",
    "planets.loc[::2, 'distance':'highest temperature']"
   ]
  },
  {
   "cell_type": "markdown",
   "metadata": {
    "slideshow": {
     "slide_type": "subslide"
    }
   },
   "source": [
    "   - *planets* **farther than** earth from the sum"
   ]
  },
  {
   "cell_type": "code",
   "execution_count": null,
   "metadata": {},
   "outputs": [],
   "source": [
    "planets.loc[planets.loc[:, 'distance'] > 1]"
   ]
  },
  {
   "cell_type": "markdown",
   "metadata": {
    "slideshow": {
     "slide_type": "slide"
    }
   },
   "source": [
    "### indexing using a **position** with  *pandas.DataFrame.iloc*"
   ]
  },
  {
   "cell_type": "markdown",
   "metadata": {},
   "source": [
    "#### accessing elements using *pandas.DataFrame.iloc*\n",
    "   - *df.loc[row_id]*\n",
    "   - *df.loc[row_id, column_id]*\n",
    "   \n",
    "\n",
    "*row_id* and *column_id* can be:\n",
    "   - **integer**\n",
    "   - **list of integers**\n",
    "   - **slices**\n",
    "   - **masks** (**Boolean array**)  "
   ]
  },
  {
   "cell_type": "code",
   "execution_count": null,
   "metadata": {
    "slideshow": {
     "slide_type": "subslide"
    }
   },
   "outputs": [],
   "source": [
    "planets_1 = pd.DataFrame([[1.000, -90.0, 60.0],\n",
    "                          [5.203, -125.0, 17.0],\n",
    "                          [1.523, -140.0, 20.0],\n",
    "                          [0.387, -200.0, 430.0]],\n",
    "                         \n",
    "                         index= ['Earth', 'Jupiter', 'Mars', 'Mercury'],\n",
    "                         \n",
    "                         columns=['distance', 'lowest temperature', 'highest temperature'])"
   ]
  },
  {
   "cell_type": "code",
   "execution_count": null,
   "metadata": {
    "cell_style": "split",
    "slideshow": {
     "slide_type": "subslide"
    }
   },
   "outputs": [],
   "source": [
    "# the first row\n",
    "\n",
    "# returns a Series\n",
    "\n",
    "planets.iloc[0] "
   ]
  },
  {
   "cell_type": "code",
   "execution_count": null,
   "metadata": {
    "cell_style": "split"
   },
   "outputs": [],
   "source": [
    "# the first and the third rows\n",
    "    \n",
    "# returns a DataFrame\n",
    "\n",
    "planets.iloc[[0, 2]] "
   ]
  },
  {
   "cell_type": "code",
   "execution_count": null,
   "metadata": {
    "cell_style": "center",
    "slideshow": {
     "slide_type": "subslide"
    }
   },
   "outputs": [],
   "source": [
    "# [1, 3] for the second and the fourth columns\n",
    "# [0, 2] for the first and the third rows\n",
    "\n",
    "# returns a DataFrame\n",
    "\n",
    "planets.iloc[[0, 2], [1, 3]]"
   ]
  },
  {
   "cell_type": "code",
   "execution_count": null,
   "metadata": {
    "cell_style": "split"
   },
   "outputs": [],
   "source": [
    "# first row, first column (as a float)\n",
    "\n",
    "# returns a scalar  \n",
    "\n",
    "planets.iloc[0, 1]"
   ]
  },
  {
   "cell_type": "code",
   "execution_count": null,
   "metadata": {
    "cell_style": "split"
   },
   "outputs": [],
   "source": [
    "# same but because we use lists \n",
    "# we receive a dataframe instead of a scalar\n",
    "\n",
    "planets.iloc[[0], [1]] # pandas.DataFrame"
   ]
  },
  {
   "cell_type": "markdown",
   "metadata": {
    "slideshow": {
     "slide_type": "subslide"
    }
   },
   "source": [
    "   - **rows** from **position** 0 to **position** 2 **excluded** (*python slicing rules*)\n",
    "   - **columns** from **position** 1 to position 3 **excluded** (*python slicing rules*)"
   ]
  },
  {
   "cell_type": "code",
   "execution_count": null,
   "metadata": {},
   "outputs": [],
   "source": [
    "planets.iloc[0:2, 1:3] # pandas.DataFrame"
   ]
  },
  {
   "cell_type": "markdown",
   "metadata": {
    "slideshow": {
     "slide_type": "subslide"
    }
   },
   "source": [
    "   - all rows *':'*\n",
    "   - columns from 1 to 3 excluded"
   ]
  },
  {
   "cell_type": "code",
   "execution_count": null,
   "metadata": {},
   "outputs": [],
   "source": [
    "planets.iloc[:, 1:3]"
   ]
  },
  {
   "cell_type": "markdown",
   "metadata": {
    "slideshow": {
     "slide_type": "subslide"
    }
   },
   "source": [
    "   - all columns *':'*\n",
    "   - rows from 0 to 3 excluded"
   ]
  },
  {
   "cell_type": "code",
   "execution_count": null,
   "metadata": {},
   "outputs": [],
   "source": [
    "planets.iloc[0:3, :]"
   ]
  },
  {
   "cell_type": "markdown",
   "metadata": {
    "slideshow": {
     "slide_type": "slide"
    }
   },
   "source": [
    "### rows and columns are indexed"
   ]
  },
  {
   "cell_type": "markdown",
   "metadata": {},
   "source": [
    "in a **data frame**\n",
    "   - the **rows** and the **columns** are **indexed**\n",
    "   - the type is *pandas.Index* (for short)"
   ]
  },
  {
   "cell_type": "code",
   "execution_count": null,
   "metadata": {},
   "outputs": [],
   "source": [
    "type(planets_1.index), type(planets_1.columns)"
   ]
  },
  {
   "cell_type": "code",
   "execution_count": null,
   "metadata": {},
   "outputs": [],
   "source": [
    "# this class is also exposed directly\n",
    "# in the toplevel pandas namespace\n",
    "\n",
    "pd.Index"
   ]
  },
  {
   "cell_type": "markdown",
   "metadata": {
    "slideshow": {
     "slide_type": "subslide"
    }
   },
   "source": [
    "   - you can create an object **Index**\n",
    "   - and pass it to the data frame **constructor**"
   ]
  },
  {
   "cell_type": "code",
   "execution_count": null,
   "metadata": {},
   "outputs": [],
   "source": [
    "index_rows = pd.Index(['Earth', 'Jupiter', 'Mars','Mercury',\n",
    "                       'Neptune', 'Saturn', 'Uranus', 'Venus'])"
   ]
  },
  {
   "cell_type": "code",
   "execution_count": null,
   "metadata": {},
   "outputs": [],
   "source": [
    "index_cols = pd.Index(['distance', 'lowest temperature',\n",
    "                     'highest temperature'])"
   ]
  },
  {
   "cell_type": "code",
   "execution_count": null,
   "metadata": {
    "cell_style": "split"
   },
   "outputs": [],
   "source": [
    "planets_3 = pd.DataFrame(\n",
    "     [[1.000, -90.0, 60.0],\n",
    "      [5.203, -125.0, 17.0],\n",
    "      [1.523, -140.0, 20.0],\n",
    "      [0.387, -200.0, 430.0],\n",
    "      [30.0],\n",
    "      [9.600],\n",
    "      [ 19.190],\n",
    "      [ 0.723, 446.0, 490.0]],                         \n",
    "     index = index_rows,\n",
    "     columns = index_cols)"
   ]
  },
  {
   "cell_type": "code",
   "execution_count": null,
   "metadata": {
    "cell_style": "split"
   },
   "outputs": [],
   "source": [
    "planets_3"
   ]
  },
  {
   "cell_type": "markdown",
   "metadata": {
    "slideshow": {
     "slide_type": "slide"
    }
   },
   "source": [
    "##  applying vectorized functions to *pandas.DataFrame*"
   ]
  },
  {
   "cell_type": "markdown",
   "metadata": {},
   "source": [
    "   - *pandas.DataFrame* columns are stored in *numpy.ndarray*\n",
    "   - **ufuncs** functions can be **applied** to *pandas.Series*\n",
    "   - **rows** and **columns** labels are preserved"
   ]
  },
  {
   "cell_type": "code",
   "execution_count": null,
   "metadata": {
    "slideshow": {
     "slide_type": "subslide"
    }
   },
   "outputs": [],
   "source": [
    "import numpy as np\n",
    "\n",
    "df = pd.DataFrame(np.linspace(0, 2*np.pi, 100), columns=['angle'])"
   ]
  },
  {
   "cell_type": "code",
   "execution_count": null,
   "metadata": {
    "cell_style": "split"
   },
   "outputs": [],
   "source": [
    "df.head()"
   ]
  },
  {
   "cell_type": "code",
   "execution_count": null,
   "metadata": {
    "cell_style": "split"
   },
   "outputs": [],
   "source": [
    "df['sinus'] = np.sin(df)\n",
    "df.head(3)"
   ]
  },
  {
   "cell_type": "code",
   "execution_count": null,
   "metadata": {
    "cell_style": "center"
   },
   "outputs": [],
   "source": [
    "df['cosinus'] = np.cos(df['angle'])\n",
    "df.head(3)"
   ]
  },
  {
   "cell_type": "markdown",
   "metadata": {
    "slideshow": {
     "slide_type": "subslide"
    }
   },
   "source": [
    "we can combine series like numpy arrays;  \n",
    "here we check on the first 3 rows that\n",
    "\n",
    "$$\n",
    "sin^2 x + cos^2 x = 1\n",
    "$$"
   ]
  },
  {
   "cell_type": "code",
   "execution_count": null,
   "metadata": {
    "slideshow": {
     "slide_type": ""
    }
   },
   "outputs": [],
   "source": [
    "( np.power(df['sinus'], 2) + np.power(df['cosinus'], 2) )[0:3]"
   ]
  },
  {
   "cell_type": "markdown",
   "metadata": {
    "slideshow": {
     "slide_type": "slide"
    }
   },
   "source": [
    "### plotting"
   ]
  },
  {
   "cell_type": "code",
   "execution_count": null,
   "metadata": {
    "slideshow": {
     "slide_type": ""
    }
   },
   "outputs": [],
   "source": [
    "from matplotlib import pyplot as plt\n",
    "%matplotlib inline"
   ]
  },
  {
   "cell_type": "code",
   "execution_count": null,
   "metadata": {
    "cell_style": "center"
   },
   "outputs": [],
   "source": [
    "df[['sinus', 'cosinus']].plot();"
   ]
  },
  {
   "cell_type": "markdown",
   "metadata": {
    "slideshow": {
     "slide_type": "subslide"
    }
   },
   "source": [
    "***\n",
    "\n",
    "**exercise**\n",
    "\n",
    "for all planets farther from the sun than the earth (inclusive), compute a dataframe\n",
    "with their names and minimal temperatures."
   ]
  },
  {
   "cell_type": "markdown",
   "metadata": {
    "slideshow": {
     "slide_type": "slide"
    }
   },
   "source": [
    "****\n",
    "remaining of this notebook are optional complements"
   ]
  },
  {
   "cell_type": "markdown",
   "metadata": {},
   "source": [
    "## miscell other features"
   ]
  },
  {
   "cell_type": "markdown",
   "metadata": {
    "slideshow": {
     "slide_type": "slide"
    }
   },
   "source": [
    "### creating *pandas.DataFrame* by specifying parameters *data*, *columns* and *index*"
   ]
  },
  {
   "cell_type": "code",
   "execution_count": null,
   "metadata": {},
   "outputs": [],
   "source": [
    "planets_1 = pd.DataFrame(\n",
    "     [[1.000, -90.0, 60.0],\n",
    "      [5.203, -125.0, 17.0],\n",
    "      [1.523, -140.0, 20.0],\n",
    "      [0.387, -200.0, 430.0],\n",
    "      [30.0],\n",
    "      [9.600],\n",
    "      [ 19.190],\n",
    "      [ 0.723, 446.0, 490.0]],\n",
    "     index=['Earth', 'Jupiter', 'Mars', 'Mercury',\n",
    "            'Neptune', 'Saturn', 'Uranus', 'Venus'],\n",
    "     columns=['distance', 'lowest temperature', 'highest temperature'])"
   ]
  },
  {
   "cell_type": "code",
   "execution_count": null,
   "metadata": {},
   "outputs": [],
   "source": [
    "planets_1.head(3)"
   ]
  },
  {
   "cell_type": "markdown",
   "metadata": {
    "slideshow": {
     "slide_type": "slide"
    }
   },
   "source": [
    "### sorting *pandas.DataFrame* according **columns**"
   ]
  },
  {
   "cell_type": "code",
   "execution_count": null,
   "metadata": {},
   "outputs": [],
   "source": [
    "df = pd.DataFrame({ 'col1':  [19, 3, 26, 46, 4, 19],\n",
    "                    'col2': ['h', 'w', 'y', 'd', 'm', 'w'],\n",
    "                    'col3':  [8.45, 19.23, 89.56, 17.5, 54.76, 89.56]})"
   ]
  },
  {
   "cell_type": "code",
   "execution_count": null,
   "metadata": {},
   "outputs": [],
   "source": [
    "df.sort_values(by='col1', ascending=False)"
   ]
  },
  {
   "cell_type": "markdown",
   "metadata": {
    "slideshow": {
     "slide_type": "subslide"
    }
   },
   "source": [
    "   - **first** *col1* is **sorted**\n",
    "   - then, for **identical values**, *col2* is sorted "
   ]
  },
  {
   "cell_type": "code",
   "execution_count": null,
   "metadata": {},
   "outputs": [],
   "source": [
    "df.sort_values(by=['col1', 'col2'], ascending=False)"
   ]
  },
  {
   "cell_type": "markdown",
   "metadata": {
    "slideshow": {
     "slide_type": "subslide"
    }
   },
   "source": [
    "   - you can sort only a few elements (*pandas.DataFrame.nlargest()*, *pandas.DataFrame.nsmallest()*)\n",
    "   - (*it might be faster on large datasets*)"
   ]
  },
  {
   "cell_type": "code",
   "execution_count": null,
   "metadata": {},
   "outputs": [],
   "source": [
    "df.nlargest(2, 'col3')"
   ]
  },
  {
   "cell_type": "code",
   "execution_count": null,
   "metadata": {},
   "outputs": [],
   "source": [
    "df.nsmallest(3, 'col1')"
   ]
  },
  {
   "cell_type": "markdown",
   "metadata": {
    "slideshow": {
     "slide_type": "slide"
    }
   },
   "source": [
    "### 6) changing the *pandas.DataFrame* *index*"
   ]
  },
  {
   "cell_type": "markdown",
   "metadata": {},
   "source": [
    "   - *pandas.DataFramce.set_index(new_column)*\n",
    "   - *pandas.DataFramce.reset_index()*\n",
    "   - direct assignement"
   ]
  },
  {
   "cell_type": "code",
   "execution_count": null,
   "metadata": {},
   "outputs": [],
   "source": [
    "planets = pd.DataFrame([[1.000, -90.0, 60.0],\n",
    "                          [5.203, -125.0, 17.0],],                         \n",
    "                         index= ['Earth', 'Jupiter'],                         \n",
    "                         columns=['distance', 'lowest temperature', 'highest temperature'])"
   ]
  },
  {
   "cell_type": "markdown",
   "metadata": {
    "slideshow": {
     "slide_type": "subslide"
    }
   },
   "source": [
    "   - with *pandas.DataFramce.set_index* you **index** by **another** column"
   ]
  },
  {
   "cell_type": "code",
   "execution_count": null,
   "metadata": {},
   "outputs": [],
   "source": [
    "planets.set_index('distance')"
   ]
  },
  {
   "cell_type": "markdown",
   "metadata": {
    "slideshow": {
     "slide_type": ""
    }
   },
   "source": [
    "   - with *pandas.DataFramce.reset_index*  the **index** became a **normal** *pandas.DataFrame* column "
   ]
  },
  {
   "cell_type": "code",
   "execution_count": null,
   "metadata": {},
   "outputs": [],
   "source": [
    "planets.reset_index()"
   ]
  },
  {
   "cell_type": "markdown",
   "metadata": {
    "slideshow": {
     "slide_type": "subslide"
    }
   },
   "source": [
    "   - with direct assigment you create a new index"
   ]
  },
  {
   "cell_type": "code",
   "execution_count": null,
   "metadata": {},
   "outputs": [],
   "source": [
    "planets"
   ]
  },
  {
   "cell_type": "code",
   "execution_count": null,
   "metadata": {},
   "outputs": [],
   "source": [
    "planets.index = ['la terre', 'jupiter']"
   ]
  }
 ],
 "metadata": {
  "celltoolbar": "Slideshow",
  "ipub": {
   "sphinx": {
    "toggle_input": true,
    "toggle_input_all": true,
    "toggle_output": true,
    "toggle_output_all": true
   }
  },
  "kernelspec": {
   "display_name": "Python 3",
   "language": "python",
   "name": "python3"
  },
  "language_info": {
   "codemirror_mode": {
    "name": "ipython",
    "version": 3
   },
   "file_extension": ".py",
   "mimetype": "text/x-python",
   "name": "python",
   "nbconvert_exporter": "python",
   "pygments_lexer": "ipython3",
   "version": "3.7.3"
  },
  "notebookname": "dataframes",
  "rise": {
   "autolaunch": true,
   "slideNumber": "c/t",
   "start_slideshow_at": "selected",
   "theme": "sky",
   "transition": "cube"
  },
  "version": "1.0"
 },
 "nbformat": 4,
 "nbformat_minor": 4
}
