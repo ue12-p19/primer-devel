{
 "cells": [
  {
   "cell_type": "markdown",
   "metadata": {},
   "source": [
    "<div class=\"licence\">\n",
    "<span>Licence CC BY-NC-ND</span>\n",
    "<span>Valérie Roy</span>\n",
    "<span><img src=\"media/ensmp-25-alpha.png\" /></span>\n",
    "</div>"
   ]
  },
  {
   "cell_type": "markdown",
   "metadata": {},
   "source": [
    "# Pandas"
   ]
  },
  {
   "cell_type": "markdown",
   "metadata": {},
   "source": [
    "**this course is inspired by**\n",
    "   - Arnaud Legout, Inria, (courses and MOOC python)\n",
    "   - Thierry Parmentelat (the numeric part of the MOOC python)\n",
    " "
   ]
  },
  {
   "cell_type": "markdown",
   "metadata": {},
   "source": [
    "**see also: pandas cheat sheet**\n",
    "   - https://pandas.pydata.org/Pandas_Cheat_Sheet.pdf"
   ]
  },
  {
   "cell_type": "markdown",
   "metadata": {
    "slideshow": {
     "slide_type": "slide"
    }
   },
   "source": [
    "## history\n",
    "   - **under development** since 2008\n",
    "   - try to **close the gap** between **python**, **statistical computing** and **multidimensional  datasets**\n",
    "   - not very **intuitive** but very **powerful** and there is **no better** solution\n",
    "   \n",
    "   \n",
    "   - PyHPC11 (Python High-Performance and Scientific Computing conference 2011):\n",
    "      - https://www.dlr.de/sc/Portaldata/15/Resources/dokumente/pyhpc2011/submissions/pyhpc2011_submission_9.pdf"
   ]
  },
  {
   "cell_type": "markdown",
   "metadata": {
    "slideshow": {
     "slide_type": "subslide"
    }
   },
   "source": [
    "## objectives\n",
    "\n",
    "   - data **arrays** with **labeled axes**\n",
    "   - **vectorized** operations\n",
    "   - handling of **missing data**\n",
    "   - **merge**, **pivot**, **groupy** other **relation** operations\n",
    "   - automatic or explicit **data alignment**\n",
    "   - integrated **time series** functionality"
   ]
  },
  {
   "cell_type": "markdown",
   "metadata": {
    "slideshow": {
     "slide_type": "subslide"
    }
   },
   "source": [
    "## pandas versus numpy\n",
    "\n",
    "   - numpy contains **efficient** array **creation** and **manipulations**\n",
    "   - pandas offers an **index-based structuration** to numpy.ndarray\n",
    "\n",
    "  - see http://pandas.pydata.org/pandas-docs/stable/\n",
    "  \n",
    "  \n",
    "\n",
    "   - pandas uses numpy as a **black-box**\n",
    "   - **no assumption** is made on memory allocation\n",
    "   \n",
    "   \n",
    "   - i.e. pandas works mainly with **copies** instead of **in-place** modification\n",
    "   - see https://stackoverflow.com/questions/23296282/what-rules-does-pandas-use-to-generate-a-view-vs-a-copy\n",
    "   \n",
    "   \n",
    "\n",
    "   - **in-place** modification in pandas are usually an assignment after the copy\n",
    "   - see https://stackoverflow.com/questions/22532302/pandas-peculiar-performance-drop-for-inplace-rename-after-dropna/22533110#22533110                  127"
   ]
  },
  {
   "cell_type": "markdown",
   "metadata": {
    "slideshow": {
     "slide_type": "subslide"
    }
   },
   "source": [
    "## install and import"
   ]
  },
  {
   "cell_type": "markdown",
   "metadata": {},
   "source": [
    "like always, install if needed from the terminal with\n",
    "\n",
    "```bash\n",
    "pip install pandas\n",
    "```"
   ]
  },
  {
   "cell_type": "code",
   "execution_count": null,
   "metadata": {},
   "outputs": [],
   "source": [
    "import pandas as pd"
   ]
  },
  {
   "cell_type": "code",
   "execution_count": null,
   "metadata": {},
   "outputs": [],
   "source": [
    "# show version\n",
    "\n",
    "pd.__version__"
   ]
  },
  {
   "cell_type": "markdown",
   "metadata": {
    "slideshow": {
     "slide_type": "subslide"
    }
   },
   "source": [
    "## first-class citizens"
   ]
  },
  {
   "cell_type": "markdown",
   "metadata": {},
   "source": [
    "there are two main pandas containers\n",
    "   - ***pandas.Series*** is for **one-dimensional** arrays (think, a column)\n",
    "   - ***pandas.DataFrame*** is for **two-dimensional** arrays (think, a spreadsheet)"
   ]
  },
  {
   "cell_type": "markdown",
   "metadata": {
    "slideshow": {
     "slide_type": "slide"
    }
   },
   "source": [
    "# *pandas.Series*"
   ]
  },
  {
   "cell_type": "markdown",
   "metadata": {},
   "source": [
    "a Series instance contains\n",
    "   - an **array-like** data\n",
    "   - an **array-like** index of same length as the data\n",
    "   - by default, the index starts at $0$"
   ]
  },
  {
   "cell_type": "markdown",
   "metadata": {
    "slideshow": {
     "slide_type": "slide"
    }
   },
   "source": [
    "## creating *pandas.Series* from arrays"
   ]
  },
  {
   "cell_type": "markdown",
   "metadata": {},
   "source": [
    "example\n",
    "   - we have $11$ **European countries** with their **names**\n",
    "   - their corresponding **total areas** in $km^2$\n",
    "      - Russia, Ukraine, France, Spain, Sweden, Norway, Germany, Finland, Poland, Italy, UnitedKingdom\n",
    "      - 3972400, 603628, 551695, 505992, 450295, 385178, 357578, 338145, 312685, 301338, 242495"
   ]
  },
  {
   "cell_type": "markdown",
   "metadata": {},
   "source": [
    "we can create a *pandas.Series* with the areas"
   ]
  },
  {
   "cell_type": "code",
   "execution_count": null,
   "metadata": {},
   "outputs": [],
   "source": [
    "import pandas as pd"
   ]
  },
  {
   "cell_type": "code",
   "execution_count": null,
   "metadata": {},
   "outputs": [],
   "source": [
    "areas = [3972400, 603628, 551695, 505992, 450295, 385178,\n",
    "                   357578, 338145, 312685, 301338, 242495]\n",
    "sa = pd.Series(areas)\n",
    "sa"
   ]
  },
  {
   "cell_type": "markdown",
   "metadata": {
    "slideshow": {
     "slide_type": "subslide"
    }
   },
   "source": [
    "   - by **default** a *pandas.Series* is **indexed** by **numbers**\n",
    "   - the **type** of the elements is here *int64*"
   ]
  },
  {
   "cell_type": "code",
   "execution_count": null,
   "metadata": {},
   "outputs": [],
   "source": [
    "sa.index"
   ]
  },
  {
   "cell_type": "markdown",
   "metadata": {},
   "source": [
    "   - the **index** is also called the **keys**"
   ]
  },
  {
   "cell_type": "code",
   "execution_count": null,
   "metadata": {},
   "outputs": [],
   "source": [
    "sa.keys() is sa.index"
   ]
  },
  {
   "cell_type": "markdown",
   "metadata": {},
   "source": [
    "   - they are the **same** **python** object"
   ]
  },
  {
   "cell_type": "markdown",
   "metadata": {
    "slideshow": {
     "slide_type": "slide"
    }
   },
   "source": [
    "## providing an index to a *pandas.Series*"
   ]
  },
  {
   "cell_type": "markdown",
   "metadata": {},
   "source": [
    "   - in our example, the serie is **indexed** by **numbers**\n",
    "   - we can index it by the **names** of the countries"
   ]
  },
  {
   "cell_type": "code",
   "execution_count": null,
   "metadata": {},
   "outputs": [],
   "source": [
    "countries = ['Russia', 'Ukraine', 'France', 'Spain',\n",
    "             'Sweden', 'Norway',  'Germany', 'Finland',\n",
    "             'Poland', 'Italy', 'UnitedKingdom']\n",
    "sc = pd.Series(areas, index = countries)"
   ]
  },
  {
   "cell_type": "code",
   "execution_count": null,
   "metadata": {},
   "outputs": [],
   "source": [
    "sc.index"
   ]
  },
  {
   "cell_type": "markdown",
   "metadata": {
    "slideshow": {
     "slide_type": "subslide"
    }
   },
   "source": [
    "   - **index** needs not be **unique**"
   ]
  },
  {
   "cell_type": "code",
   "execution_count": null,
   "metadata": {},
   "outputs": [],
   "source": [
    "index = ['a', 'b', 'c', 'a', 'c']\n",
    "s = pd.Series([10, 39, 27, 8, 46], index = index)"
   ]
  },
  {
   "cell_type": "code",
   "execution_count": null,
   "metadata": {
    "cell_style": "split"
   },
   "outputs": [],
   "source": [
    "# index 'a' has two values\n",
    "s['a']"
   ]
  },
  {
   "cell_type": "code",
   "execution_count": null,
   "metadata": {
    "cell_style": "split"
   },
   "outputs": [],
   "source": [
    "# we can test if an index is in the series\n",
    "\n",
    "\n",
    "'a' in s"
   ]
  },
  {
   "cell_type": "code",
   "execution_count": null,
   "metadata": {
    "cell_style": "split"
   },
   "outputs": [],
   "source": [
    "# we can **reorganize** the index of a serie\n",
    "s = pd.Series([10, 39, 27, 8, 46],\n",
    "              index = ['d', 'b', 'c', 'a', 'e'])"
   ]
  },
  {
   "cell_type": "code",
   "execution_count": null,
   "metadata": {
    "cell_style": "split"
   },
   "outputs": [],
   "source": [
    "s.reindex(['a', 'b', 'c', 'd', 'e', 'f'],\n",
    "          fill_value=0)"
   ]
  },
  {
   "cell_type": "markdown",
   "metadata": {
    "slideshow": {
     "slide_type": "slide"
    }
   },
   "source": [
    "## creating *pandas.Series* from a dictionary"
   ]
  },
  {
   "cell_type": "markdown",
   "metadata": {},
   "source": [
    "   - **keys** of the *dict* are **indexes**\n",
    "   - **values** of the *dict* are **elements**"
   ]
  },
  {
   "cell_type": "code",
   "execution_count": null,
   "metadata": {},
   "outputs": [],
   "source": [
    "d = {'Russia': 3972400, 'Ukraine': 603628, 'France': 551695, 'Spain': 505992,\n",
    "     'Sweden': 450295, 'Norway': 385178, 'Germany': 357578, 'Finland': 338145,\n",
    "     'Poland': 312685, 'Italy': 301338, 'UnitedKingdom': 242495}\n",
    "\n",
    "scd = pd.Series(d)"
   ]
  },
  {
   "cell_type": "code",
   "execution_count": null,
   "metadata": {},
   "outputs": [],
   "source": [
    "scd.index"
   ]
  },
  {
   "cell_type": "markdown",
   "metadata": {
    "slideshow": {
     "slide_type": "slide"
    }
   },
   "source": [
    "## types of elements of a *pandas.Series*"
   ]
  },
  {
   "cell_type": "code",
   "execution_count": null,
   "metadata": {},
   "outputs": [],
   "source": [
    "index = ['a', 'b', 'c', 'a', 'c']\n",
    "s = pd.Series([10, 39, 27, 8, 46], index = index)"
   ]
  },
  {
   "cell_type": "code",
   "execution_count": null,
   "metadata": {},
   "outputs": [],
   "source": [
    "s.index"
   ]
  },
  {
   "cell_type": "markdown",
   "metadata": {},
   "source": [
    "in this example\n",
    "   - the **type** of the **index** is *object*\n",
    "   - and not a **fixed-length** array of characters like in *numpy.ndarray* "
   ]
  },
  {
   "cell_type": "code",
   "execution_count": null,
   "metadata": {},
   "outputs": [],
   "source": [
    "s.index.dtype # 'O' stands for object"
   ]
  },
  {
   "cell_type": "markdown",
   "metadata": {
    "slideshow": {
     "slide_type": "subslide"
    }
   },
   "source": [
    "   - a *pandas.Series* can hold data of any type but the type is **unique**(*)\n",
    "   - but the types of the element\n",
    "   - when the type is *object* elements are **references** to Python **objects**"
   ]
  },
  {
   "cell_type": "markdown",
   "metadata": {},
   "source": [
    "(*) **unlike** python where containers can hold objects of **any types** and are **heterogeneous**"
   ]
  },
  {
   "cell_type": "code",
   "execution_count": null,
   "metadata": {},
   "outputs": [],
   "source": [
    "l = [1, 'toto', 12.89, {'a':1}, (10, 230)]\n",
    "[type(e) for e in l]"
   ]
  },
  {
   "cell_type": "markdown",
   "metadata": {
    "slideshow": {
     "slide_type": "slide"
    }
   },
   "source": [
    "## naming the element and the index of a series"
   ]
  },
  {
   "cell_type": "code",
   "execution_count": null,
   "metadata": {},
   "outputs": [],
   "source": [
    "s = pd.Series({'Russia': 3972400, 'Ukraine': 603628, 'France': 551695})\n",
    "s"
   ]
  },
  {
   "cell_type": "code",
   "execution_count": null,
   "metadata": {},
   "outputs": [],
   "source": [
    "s.name = 'areas'\n",
    "s.index.name = 'countries'\n",
    "s.head()"
   ]
  },
  {
   "cell_type": "markdown",
   "metadata": {
    "slideshow": {
     "slide_type": "slide"
    }
   },
   "source": [
    "## accessing elements in a *pandas.Series*"
   ]
  },
  {
   "cell_type": "code",
   "execution_count": null,
   "metadata": {},
   "outputs": [],
   "source": [
    "countries = ['Russia', 'Ukraine', 'France', 'Spain', 'Sweden', 'Norway',\n",
    "                       'Germany', 'Finland', 'Poland', 'Italy', 'UnitedKingdom']\n",
    "areas = [3972400, 603628, 551695, 505992, 450295, 385178,\n",
    "                   357578, 338145, 312685, 301338, 242495]\n",
    "sc = pd.Series(areas, index = countries)"
   ]
  },
  {
   "cell_type": "markdown",
   "metadata": {
    "slideshow": {
     "slide_type": "subslide"
    }
   },
   "source": [
    "### **accessing** elements by their **index** (their **key**)"
   ]
  },
  {
   "cell_type": "markdown",
   "metadata": {},
   "source": [
    "the **strong** way"
   ]
  },
  {
   "cell_type": "code",
   "execution_count": null,
   "metadata": {
    "cell_style": "split"
   },
   "outputs": [],
   "source": [
    "sc['Spain']"
   ]
  },
  {
   "cell_type": "code",
   "execution_count": null,
   "metadata": {
    "cell_style": "split"
   },
   "outputs": [],
   "source": [
    "'Spain' in sc "
   ]
  },
  {
   "cell_type": "markdown",
   "metadata": {},
   "source": [
    "in case of **absence**: the **strong** way produces an **error**"
   ]
  },
  {
   "cell_type": "code",
   "execution_count": null,
   "metadata": {
    "cell_style": "split"
   },
   "outputs": [],
   "source": [
    "try:\n",
    "    sc['Denmark']\n",
    "except KeyError as e:\n",
    "    print(e, 'is not an index')"
   ]
  },
  {
   "cell_type": "code",
   "execution_count": null,
   "metadata": {
    "cell_style": "split"
   },
   "outputs": [],
   "source": [
    "'Denmark' in sc"
   ]
  },
  {
   "cell_type": "markdown",
   "metadata": {
    "slideshow": {
     "slide_type": "subslide"
    }
   },
   "source": [
    "### **accessing** elements by their **index** using *pandas.Series.loc[]*\n",
    "\n",
    "- it is a **property** not a **function**"
   ]
  },
  {
   "cell_type": "markdown",
   "metadata": {},
   "source": [
    "access the element of index **Russia** in the serie"
   ]
  },
  {
   "cell_type": "code",
   "execution_count": null,
   "metadata": {},
   "outputs": [],
   "source": [
    "sc.loc['Russia'] # the same element as sc['Russia']"
   ]
  },
  {
   "cell_type": "markdown",
   "metadata": {},
   "source": [
    "in case of **absence**: it produces an **error**"
   ]
  },
  {
   "cell_type": "code",
   "execution_count": null,
   "metadata": {},
   "outputs": [],
   "source": [
    "try:\n",
    "    sc.loc['Denmark']\n",
    "except KeyError as e:\n",
    "    print(e, 'is not an index')"
   ]
  },
  {
   "cell_type": "markdown",
   "metadata": {
    "slideshow": {
     "slide_type": "subslide"
    }
   },
   "source": [
    "### **accessing** elements by the **position** of their index using *pandas.Series.iloc[]*\n",
    "\n",
    "   - the position of the **key** in the list of **index**"
   ]
  },
  {
   "cell_type": "code",
   "execution_count": null,
   "metadata": {},
   "outputs": [],
   "source": [
    "# 'Russia' is the **first** index - so 0 \n",
    "sc.iloc[0] # the same element as sc.loc['Russia']"
   ]
  },
  {
   "cell_type": "code",
   "execution_count": null,
   "metadata": {
    "cell_style": "split"
   },
   "outputs": [],
   "source": [
    "sc.iloc[-1] # the last one like in python"
   ]
  },
  {
   "cell_type": "code",
   "execution_count": null,
   "metadata": {
    "cell_style": "split"
   },
   "outputs": [],
   "source": [
    "sc.iloc[0:3] # several indexes"
   ]
  },
  {
   "cell_type": "markdown",
   "metadata": {},
   "source": [
    "in case of **absence**: it produces an **error**"
   ]
  },
  {
   "cell_type": "code",
   "execution_count": null,
   "metadata": {},
   "outputs": [],
   "source": [
    "try:\n",
    "    sc.iloc[1000]\n",
    "except IndexError as e:\n",
    "    print(e)"
   ]
  },
  {
   "cell_type": "markdown",
   "metadata": {
    "slideshow": {
     "slide_type": "slide"
    }
   },
   "source": [
    "## changing the value of an element"
   ]
  },
  {
   "cell_type": "code",
   "execution_count": null,
   "metadata": {},
   "outputs": [],
   "source": [
    "s = pd.Series([10, 47, 47, 67], index=['a', 'b', 'c', 'a'])"
   ]
  },
  {
   "cell_type": "code",
   "execution_count": null,
   "metadata": {},
   "outputs": [],
   "source": [
    "s['a']"
   ]
  },
  {
   "cell_type": "code",
   "execution_count": null,
   "metadata": {
    "cell_style": "split"
   },
   "outputs": [],
   "source": [
    "s['a'] = 17 # you modify all the 'a'"
   ]
  },
  {
   "cell_type": "code",
   "execution_count": null,
   "metadata": {
    "cell_style": "split"
   },
   "outputs": [],
   "source": [
    "s['a']"
   ]
  },
  {
   "cell_type": "markdown",
   "metadata": {},
   "source": [
    "   - you modify the **original** array (**not** a copy of the array)"
   ]
  },
  {
   "cell_type": "markdown",
   "metadata": {
    "cell_style": "split",
    "slideshow": {
     "slide_type": ""
    }
   },
   "source": [
    "s.dtype"
   ]
  },
  {
   "cell_type": "code",
   "execution_count": null,
   "metadata": {
    "cell_style": "split",
    "slideshow": {
     "slide_type": ""
    }
   },
   "outputs": [],
   "source": [
    "type(s['c'])"
   ]
  },
  {
   "cell_type": "markdown",
   "metadata": {
    "slideshow": {
     "slide_type": "subslide"
    }
   },
   "source": [
    "**be sure to use proper type**"
   ]
  },
  {
   "cell_type": "code",
   "execution_count": null,
   "metadata": {},
   "outputs": [],
   "source": [
    "s['c'] = \"toto\""
   ]
  },
  {
   "cell_type": "markdown",
   "metadata": {},
   "source": [
    "   - the **type** of the elements **changed**\n",
    "   - it was integer it became **string** (objects)"
   ]
  },
  {
   "cell_type": "code",
   "execution_count": null,
   "metadata": {
    "cell_style": "split"
   },
   "outputs": [],
   "source": [
    "type(s['c'])"
   ]
  },
  {
   "cell_type": "code",
   "execution_count": null,
   "metadata": {
    "cell_style": "split"
   },
   "outputs": [],
   "source": [
    "s.dtype"
   ]
  },
  {
   "cell_type": "markdown",
   "metadata": {
    "slideshow": {
     "slide_type": "subslide"
    }
   },
   "source": [
    "## adding elements in a Series"
   ]
  },
  {
   "cell_type": "markdown",
   "metadata": {},
   "source": [
    "   - the same way you change an existing one\n",
    "   - you **give** a new **pair** $(index,\\ value)$"
   ]
  },
  {
   "cell_type": "code",
   "execution_count": null,
   "metadata": {
    "cell_style": "split"
   },
   "outputs": [],
   "source": [
    "s['v'] = 134"
   ]
  },
  {
   "cell_type": "code",
   "execution_count": null,
   "metadata": {
    "cell_style": "split"
   },
   "outputs": [],
   "source": [
    "s"
   ]
  },
  {
   "cell_type": "markdown",
   "metadata": {
    "slideshow": {
     "slide_type": "subslide"
    }
   },
   "source": [
    "## deleting an element with  *pandas.Serie.drop*"
   ]
  },
  {
   "cell_type": "markdown",
   "metadata": {},
   "source": [
    "   - it allocates and returns the new *pandas.Series*\n"
   ]
  },
  {
   "cell_type": "code",
   "execution_count": null,
   "metadata": {
    "cell_style": "split"
   },
   "outputs": [],
   "source": [
    "sc.drop('Russia')"
   ]
  },
  {
   "cell_type": "code",
   "execution_count": null,
   "metadata": {
    "cell_style": "split"
   },
   "outputs": [],
   "source": [
    "sc = sc.drop('Russia')"
   ]
  },
  {
   "cell_type": "markdown",
   "metadata": {},
   "source": [
    "   - or you can do it **inplace** (it will *modify* the Series object)"
   ]
  },
  {
   "cell_type": "code",
   "execution_count": null,
   "metadata": {
    "cell_style": "center"
   },
   "outputs": [],
   "source": [
    "sc = sc.drop('Spain', inplace=True)"
   ]
  },
  {
   "cell_type": "markdown",
   "metadata": {
    "slideshow": {
     "slide_type": "slide"
    }
   },
   "source": [
    "## **vectorized** operations on *pandas.Series*"
   ]
  },
  {
   "cell_type": "markdown",
   "metadata": {},
   "source": [
    "Series can be subject to advanced array indexing, as well broadcast-based assignment  \n",
    "just like numpy arrays"
   ]
  },
  {
   "cell_type": "code",
   "execution_count": null,
   "metadata": {
    "cell_style": "split"
   },
   "outputs": [],
   "source": [
    "s = pd.Series([56, 45, 23, 8, 19, 34],\n",
    "              index=['a', 'b', 'c', 'd', 'e', 'f'])\n",
    "s"
   ]
  },
  {
   "cell_type": "code",
   "execution_count": null,
   "metadata": {
    "cell_style": "split"
   },
   "outputs": [],
   "source": [
    "# we could have done also\n",
    "# s.loc[s<30] \n",
    "\n",
    "\n",
    "\n",
    "s[s<30]"
   ]
  },
  {
   "cell_type": "code",
   "execution_count": null,
   "metadata": {
    "cell_style": "split"
   },
   "outputs": [],
   "source": [
    "# we can modify the selected elements\n",
    "s.loc[s<30] = 30 # threshold"
   ]
  },
  {
   "cell_type": "code",
   "execution_count": null,
   "metadata": {
    "cell_style": "split"
   },
   "outputs": [],
   "source": [
    "s[s<=30]"
   ]
  },
  {
   "cell_type": "markdown",
   "metadata": {
    "slideshow": {
     "slide_type": "slide"
    }
   },
   "source": [
    "***\n",
    "remaining slides in this notebook are optional"
   ]
  },
  {
   "cell_type": "markdown",
   "metadata": {
    "slideshow": {
     "slide_type": "slide"
    }
   },
   "source": [
    "## contains ?"
   ]
  },
  {
   "cell_type": "code",
   "execution_count": null,
   "metadata": {},
   "outputs": [],
   "source": [
    "s = pd.Series([10, 47, 47, 67], index=['a', 'b', 'c', 'a'])"
   ]
  },
  {
   "cell_type": "markdown",
   "metadata": {
    "slideshow": {
     "slide_type": ""
    }
   },
   "source": [
    "### check whether values are contained in a series"
   ]
  },
  {
   "cell_type": "markdown",
   "metadata": {
    "cell_style": "split"
   },
   "source": [
    "the **direct** way"
   ]
  },
  {
   "cell_type": "code",
   "execution_count": null,
   "metadata": {
    "cell_style": "split"
   },
   "outputs": [],
   "source": [
    "s == 10"
   ]
  },
  {
   "cell_type": "markdown",
   "metadata": {},
   "source": [
    "   - the **proper** way"
   ]
  },
  {
   "cell_type": "code",
   "execution_count": null,
   "metadata": {
    "cell_style": "split"
   },
   "outputs": [],
   "source": [
    "s.isin([10]) # a single element"
   ]
  },
  {
   "cell_type": "code",
   "execution_count": null,
   "metadata": {
    "cell_style": "split"
   },
   "outputs": [],
   "source": [
    "s.isin([100, 47]) # several selements"
   ]
  },
  {
   "cell_type": "markdown",
   "metadata": {
    "slideshow": {
     "slide_type": "subslide"
    }
   },
   "source": [
    "### check whether values are indexes in a series"
   ]
  },
  {
   "cell_type": "code",
   "execution_count": null,
   "metadata": {
    "cell_style": "split"
   },
   "outputs": [],
   "source": [
    "# the python way\n",
    "'a' in s"
   ]
  },
  {
   "cell_type": "code",
   "execution_count": null,
   "metadata": {
    "cell_style": "split"
   },
   "outputs": [],
   "source": [
    "# the pandas way\n",
    "s.index.isin(['a', 'd'])"
   ]
  },
  {
   "cell_type": "markdown",
   "metadata": {
    "slideshow": {
     "slide_type": "slide"
    }
   },
   "source": [
    "## iterating over a *Series* with *pandas.Series.items*"
   ]
  },
  {
   "cell_type": "markdown",
   "metadata": {},
   "source": [
    "   - you obtain a python *zip* i.e. a comprehension of $(index, values)$"
   ]
  },
  {
   "cell_type": "code",
   "execution_count": null,
   "metadata": {},
   "outputs": [],
   "source": [
    "zsa = sa.items() # the iterable contain the numbered elements\n",
    "zsa"
   ]
  },
  {
   "cell_type": "code",
   "execution_count": null,
   "metadata": {},
   "outputs": [],
   "source": [
    "for index, value in zsa:\n",
    "    print(f\"index={index}, value={value}\")"
   ]
  },
  {
   "cell_type": "markdown",
   "metadata": {
    "slideshow": {
     "slide_type": "slide"
    }
   },
   "source": [
    "## **implicit** type conversion\n",
    "\n",
    "- type conversion can be done **automatically**"
   ]
  },
  {
   "cell_type": "markdown",
   "metadata": {},
   "source": [
    "   - changing or adding elements can **change** the **data-type** of the array"
   ]
  },
  {
   "cell_type": "code",
   "execution_count": null,
   "metadata": {},
   "outputs": [],
   "source": [
    "s = pd.Series([10, 47, 47, 67], index=['a', 'b', 'c', 'a'])"
   ]
  },
  {
   "cell_type": "code",
   "execution_count": null,
   "metadata": {},
   "outputs": [],
   "source": [
    "s.dtype"
   ]
  },
  {
   "cell_type": "code",
   "execution_count": null,
   "metadata": {},
   "outputs": [],
   "source": [
    "s + s # the add of 64-bits integers"
   ]
  },
  {
   "cell_type": "markdown",
   "metadata": {},
   "source": [
    "   - we add an element of type **character string**"
   ]
  },
  {
   "cell_type": "code",
   "execution_count": null,
   "metadata": {},
   "outputs": [],
   "source": [
    "s['w'] = '101'"
   ]
  },
  {
   "cell_type": "markdown",
   "metadata": {},
   "source": [
    "   - you **silently** change the data-type of the array "
   ]
  },
  {
   "cell_type": "markdown",
   "metadata": {},
   "source": [
    "   - when **printed** the array **looks** the same !\n",
    "   - but **from now on** elements are **references** to objects\n",
    "   - elements indexed by *['a', 'b', 'c']* are **references to 64-bits integer** objects\n",
    "   - the element indexed by *'w'* is a **reference to a character string** object"
   ]
  },
  {
   "cell_type": "code",
   "execution_count": null,
   "metadata": {},
   "outputs": [],
   "source": [
    "s"
   ]
  },
  {
   "cell_type": "code",
   "execution_count": null,
   "metadata": {},
   "outputs": [],
   "source": [
    "s.dtype"
   ]
  },
  {
   "cell_type": "markdown",
   "metadata": {},
   "source": [
    "   - but:"
   ]
  },
  {
   "cell_type": "code",
   "execution_count": null,
   "metadata": {},
   "outputs": [],
   "source": [
    "[type(e) for e in s.array]   # the last one is a **str** not an **int**"
   ]
  },
  {
   "cell_type": "code",
   "execution_count": null,
   "metadata": {},
   "outputs": [],
   "source": [
    "s + s"
   ]
  },
  {
   "cell_type": "markdown",
   "metadata": {},
   "source": [
    "   - $+$ is the **addition of integers**\n",
    "   - $+$ is the **concatenation of strings**"
   ]
  },
  {
   "cell_type": "markdown",
   "metadata": {},
   "source": [
    "performance (be careful):\n",
    "   - operations on *numpy.ndarray* with **elements of type *object***\n",
    "   - are **slower** that operation on *numpy.ndarray* with **elements of type **numeric** (int32, int64, float64, etc.)"
   ]
  },
  {
   "cell_type": "code",
   "execution_count": null,
   "metadata": {},
   "outputs": [],
   "source": [
    "import numpy as np"
   ]
  },
  {
   "cell_type": "code",
   "execution_count": null,
   "metadata": {},
   "outputs": [],
   "source": [
    "s = pd.Series([10, 47, 47, 67], index=['a', 'b', 'c', 'a'])\n",
    "s.dtype # dtype('int64')\n",
    "np.power(s, 2)"
   ]
  },
  {
   "cell_type": "markdown",
   "metadata": {},
   "source": [
    "   - the **operation** is done directely on **64-bits** integers"
   ]
  },
  {
   "cell_type": "code",
   "execution_count": null,
   "metadata": {},
   "outputs": [],
   "source": [
    "s['w'] = '101'  # we add an element of type str\n",
    "s.dtype         # dtype('O')\n",
    "                # the type of the array changed to **object**\n",
    "s.drop(['w'], inplace= True) # we remove the element of type str\n",
    "s.dtype        # dtype('O') the type remains **object**"
   ]
  },
  {
   "cell_type": "code",
   "execution_count": null,
   "metadata": {},
   "outputs": [],
   "source": [
    "np.power(s, 2)"
   ]
  },
  {
   "cell_type": "markdown",
   "metadata": {},
   "source": [
    "   - the **operation** is done on **64-bits**\n",
    "   - but now the integers are **referenced** by the array\n",
    "   - (one **indirection** has been added)"
   ]
  },
  {
   "cell_type": "markdown",
   "metadata": {
    "slideshow": {
     "slide_type": "slide"
    }
   },
   "source": [
    "## **explicit type** conversion with *pandas.Series.astype*"
   ]
  },
  {
   "cell_type": "markdown",
   "metadata": {},
   "source": [
    "   - type conversion can be done **explicitly**"
   ]
  },
  {
   "cell_type": "code",
   "execution_count": null,
   "metadata": {},
   "outputs": [],
   "source": [
    "s = pd.Series([10.20, 47, 47, 67], index=['a', 'b', 'c', 'a'])"
   ]
  },
  {
   "cell_type": "code",
   "execution_count": null,
   "metadata": {},
   "outputs": [],
   "source": [
    "s"
   ]
  },
  {
   "cell_type": "code",
   "execution_count": null,
   "metadata": {},
   "outputs": [],
   "source": [
    "import numpy as np"
   ]
  },
  {
   "cell_type": "markdown",
   "metadata": {},
   "source": [
    "   - we change the type"
   ]
  },
  {
   "cell_type": "code",
   "execution_count": null,
   "metadata": {},
   "outputs": [],
   "source": [
    "s.astype(np.int32)"
   ]
  },
  {
   "cell_type": "markdown",
   "metadata": {},
   "source": [
    "   - it returns a new *pandas.Series*\n",
    "   - with converted values"
   ]
  },
  {
   "cell_type": "markdown",
   "metadata": {
    "slideshow": {
     "slide_type": "slide"
    }
   },
   "source": [
    "## accessing the underlying *numpy.ndarray* from a *pandas.Series*"
   ]
  },
  {
   "cell_type": "markdown",
   "metadata": {},
   "source": [
    "**it is recommended to use**:\n",
    "\n",
    "   - *np.Series.array* is a wrapper arround the **underlying data**\n",
    "   - *np.Series.to_numpy* returns the **underlying** *numpy.ndarray*"
   ]
  },
  {
   "cell_type": "code",
   "execution_count": null,
   "metadata": {
    "cell_style": "split"
   },
   "outputs": [],
   "source": [
    "s = pd.Series(['a', 'b', 'c'])\n",
    "s"
   ]
  },
  {
   "cell_type": "code",
   "execution_count": null,
   "metadata": {
    "cell_style": "split"
   },
   "outputs": [],
   "source": [
    "s.array"
   ]
  },
  {
   "cell_type": "code",
   "execution_count": null,
   "metadata": {},
   "outputs": [],
   "source": [
    "s.to_numpy()"
   ]
  },
  {
   "cell_type": "markdown",
   "metadata": {},
   "source": [
    "#### it is recommended to avoid *Series.values*\n",
    "   - it returns a *numpy* array **representing the underlying data**\n",
    "   - **but** it has **inconsistent behaviour** (it is not deprecated)\n",
    "   - (https://pandas-docs.github.io/pandas-docs-travis/whatsnew/v0.24.0.html#accessing-the-values-in-a-series-or-index)\n",
    "\n",
    "      "
   ]
  }
 ],
 "metadata": {
  "celltoolbar": "Slideshow",
  "ipub": {
   "sphinx": {
    "toggle_input": true,
    "toggle_input_all": true,
    "toggle_output": true,
    "toggle_output_all": true
   }
  },
  "kernelspec": {
   "display_name": "Python 3",
   "language": "python",
   "name": "python3"
  },
  "language_info": {
   "codemirror_mode": {
    "name": "ipython",
    "version": 3
   },
   "file_extension": ".py",
   "mimetype": "text/x-python",
   "name": "python",
   "nbconvert_exporter": "python",
   "pygments_lexer": "ipython3",
   "version": "3.7.3"
  },
  "notebookname": "series",
  "rise": {
   "autolaunch": true,
   "slideNumber": "c/t",
   "start_slideshow_at": "selected",
   "theme": "sky",
   "transition": "cube"
  },
  "version": "1.0"
 },
 "nbformat": 4,
 "nbformat_minor": 4
}
