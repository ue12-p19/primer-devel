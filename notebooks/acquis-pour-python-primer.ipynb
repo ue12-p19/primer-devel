{
 "cells": [
  {
   "cell_type": "markdown",
   "metadata": {
    "slideshow": {
     "slide_type": "slide"
    }
   },
   "source": [
    "# vérification des acquis pour python-primer\n",
    "\n",
    "## I. exercices"
   ]
  },
  {
   "cell_type": "markdown",
   "metadata": {
    "slideshow": {
     "slide_type": "slide"
    }
   },
   "source": [
    "### 1) exercices sur les chaînes de caractères\n",
    "   1. créer une chaîne de caractères en python\n",
    "   1. l'imprimer la ainsi que sa longueur en utilisant le format **f** de **print**\n",
    "   \n",
    "   \n",
    "   1. créer une autre chaîne de caractères\n",
    "   1. concaténer les deux chaînes\n",
    "   1. mettre le résultat en majuscule"
   ]
  },
  {
   "cell_type": "markdown",
   "metadata": {
    "slideshow": {
     "slide_type": "slide"
    }
   },
   "source": [
    "## exercices avancés sur les chaînes de caractères   \n",
    "   \n",
    "  \n",
    "   1. créer une chaîne multi-lignes et l'afficher\n",
    "   1. découper la chaîne pour obtenir une liste des lignes (méthode **split**)"
   ]
  },
  {
   "cell_type": "markdown",
   "metadata": {
    "slideshow": {
     "slide_type": "slide"
    }
   },
   "source": [
    "### 2) exercices sur les entiers\n",
    "   1. créer 2 entiers et en faire la division entière\n",
    "   1. tester si un entier est pair et inférieur à 12"
   ]
  },
  {
   "cell_type": "markdown",
   "metadata": {
    "slideshow": {
     "slide_type": "slide"
    }
   },
   "source": [
    "### 3) exercices sur le slicing\n",
    "   1. créer la chaîne de caractères:  j'adore python et numpy !\n",
    "   1. accéder au premier et au dernier caractère de la chaîne 'j' et '!'\n",
    "   1. découper la chaîne pour ne garder que \"adore\"\n",
    "   1. renverser la chaîne: ! ypmun te nohtyp eroda'j\n",
    "   1. découper la chaîne pour ne garder que \"jaoepto tnmy!"
   ]
  },
  {
   "cell_type": "markdown",
   "metadata": {
    "slideshow": {
     "slide_type": "slide"
    }
   },
   "source": [
    "### 4) exercices sur les fonctions\n",
    "   1. implémenter la suite de fibonacci $u_0=0, u_1 = 1$, $u_n = u_{n-1} + u_{n-1}$ de manière à ce que sa complexité soit linéraire et non exponentielle\n",
    "   1. mettez un docstring à la fonction (message de help en première ligne de la fonction)\n",
    "   1. faites une fonction foo qui prend deux paramètres dont le dernier est optionnel et vaut $0$ par défaut"
   ]
  },
  {
   "cell_type": "markdown",
   "metadata": {
    "slideshow": {
     "slide_type": "slide"
    }
   },
   "source": [
    "### 5) exercices sur les exceptions\n",
    "   1. diviser un entier par *0* que constatez-vous ?\n",
    "   1. rattraper l'exception afin que le programme ne soit pas arrêté"
   ]
  },
  {
   "cell_type": "markdown",
   "metadata": {
    "slideshow": {
     "slide_type": "slide"
    }
   },
   "source": [
    "### 6) rappels sur les types\n",
    "\n",
    "-----------------\n",
    "\n",
    "   - Python est un paradigme **orienté objet**: toutes vos **données sont des objets**\n",
    "   - chaque objet a un **type**\n",
    "   - un *module* a un type, une *fonction* a un type, un *entier* a un type...\n",
    "   - le type d'un objet définit le **comportement des opérations** qu'on applique à l'objet\n",
    "   - e.g. le **+** de chaînes de caractères ne se comporte pas comme le **+** des entiers !\n",
    "   \n",
    "   ----------------\n",
    "   \n",
    "   \n",
    "   - une **méthode** est une fonction qui s'appelle **à travers un objet**\n",
    "   - *'abc'.upper()* est la méthode *upper* du type *str*"
   ]
  },
  {
   "cell_type": "markdown",
   "metadata": {
    "slideshow": {
     "slide_type": "slide"
    }
   },
   "source": [
    "### 7) exercices sur les listes\n",
    "   1. construire une liste contenant un entier, une chaînes de caractères, un flottant, une fonction, un booléen\n",
    "   1. modifier le premier élément de la liste\n",
    "   1. slicer la liste de manière à n'en garder qu'un élément sur 2 à partir du début\n",
    "   1. tester si un élément est dans la liste\n",
    "   1. créer une nouvelle liste contenant une liste\n",
    "   1. concaténer les deux listes\n",
    "   1. imprimer les éléments de la liste \n",
    "   "
   ]
  },
  {
   "cell_type": "markdown",
   "metadata": {
    "slideshow": {
     "slide_type": "slide"
    }
   },
   "source": [
    "## 8) exercices sur les tuples\n",
    " \n",
    "   1. créer un tuple\n",
    "   1. le modifier\n",
    "   1. que se passe-t-il ? et pourquoi ? "
   ]
  },
  {
   "cell_type": "markdown",
   "metadata": {
    "slideshow": {
     "slide_type": "slide"
    }
   },
   "source": [
    "### 9) exercices sur les dictionnaires\n",
    "   1. créer un dictionnaire avec des paires de noms de personne et d'age\n",
    "   1. afficher le type d'un dictionnaire\n",
    "   1. tester si un noms est dans le dictionnaire et si oui modifier son age\n",
    "   1. que renvoie la fonction **items** appliquée à un dictionnaire ?\n",
    "   1. imprimer les noms et l'age de toutes les personnes du dictionnaire  "
   ]
  },
  {
   "cell_type": "markdown",
   "metadata": {
    "slideshow": {
     "slide_type": "slide"
    }
   },
   "source": [
    "### 10) références\n",
    "\n",
    "   - en programmation, on manipule très souvent des **références** vers des objets\n",
    "   - par exemple: quand on passe un argument à une fonction, on crée une (nouvelle) référence vers un objet existant, on ne copie pas l'objet (en python)\n",
    "   - cela permet d'éviter les copies inutiles\n",
    "   - on peut ainsi accéder à un objet de plusieurs manières (**références partagées)"
   ]
  },
  {
   "cell_type": "markdown",
   "metadata": {
    "slideshow": {
     "slide_type": "slide"
    }
   },
   "source": [
    "###  exercices sur les références\n",
    "   \n",
    "   1. créer une liste l contenant deux entiers\n",
    "   1. créer une liste m contenant deux fois la liste l comme objet deux fois\n",
    "   1. rajouter un élément à l\n",
    "   1. afficher m\n",
    "   1. que se passe-t-il ?"
   ]
  },
  {
   "cell_type": "markdown",
   "metadata": {
    "slideshow": {
     "slide_type": "slide"
    }
   },
   "source": [
    "### 11) exercices sur les itérateurs simples\n",
    "\n",
    "   1. itérer sur le **range** des 100 premiers entiers\n",
    "   1. quel est le type de l'objet **range** créé ?   \n",
    "   1. à quoi sert la fonction **enumerate** ?\n",
    "   \n",
    "   \n",
    "**avancé**  \n",
    "   - visionner les slides 4, 5 et 6 de https://nbhosting.inria.fr/auditor/notebook/mines-python-primer:python/notebooks/1-08-iterations\n",
    "   \n",
    "   "
   ]
  },
  {
   "cell_type": "markdown",
   "metadata": {
    "slideshow": {
     "slide_type": "slide"
    }
   },
   "source": [
    "### 12 classes\n",
    "\n",
    "choisir entre la classe des rationnels (simple) et la classe des quaternions (plus compliqué)\n",
    "\n",
    "1) implémenter la classe des rationnels\n",
    "   - avec les méthodes addition, produit et opposé\n",
    "   - n'oubliez pas le constructeur \n",
    "   - https://fr.wikipedia.org/wiki/Nombre_rationnel\n",
    "\n",
    "2) https://nbhosting.inria.fr/auditor/notebook/mines-python-primer@jlab/notebooks/1-10-classes"
   ]
  },
  {
   "cell_type": "markdown",
   "metadata": {
    "slideshow": {
     "slide_type": "slide"
    }
   },
   "source": [
    "# vérification des acquis pour python-primer\n",
    "\n",
    "## II. exercices avancés"
   ]
  },
  {
   "cell_type": "markdown",
   "metadata": {
    "slideshow": {
     "slide_type": "slide"
    }
   },
   "source": [
    "### 1) PGCD"
   ]
  },
  {
   "cell_type": "markdown",
   "metadata": {},
   "source": [
    "https://nbhosting.inria.fr/auditor/notebook/python3-s2:exos/w4/w4-s3-x1-pgcd"
   ]
  },
  {
   "cell_type": "code",
   "execution_count": 42,
   "metadata": {},
   "outputs": [],
   "source": [
    "def pgcd(a, b):\n",
    "    \"\"\"\n",
    "    retourne le pgcd de a et b\n",
    "    par convention on admet que\n",
    "    pgcd(0, n) == pgcd(n, 0) = n\n",
    "    \"\"\"\n",
    "    pass  # votre code ici"
   ]
  },
  {
   "cell_type": "markdown",
   "metadata": {
    "slideshow": {
     "slide_type": "slide"
    }
   },
   "source": [
    "### 2) Power en log(n)"
   ]
  },
  {
   "cell_type": "markdown",
   "metadata": {},
   "source": [
    "https://nbhosting.inria.fr/auditor/notebook/python3-s2:exos/w4/w4-s3-x4-power"
   ]
  },
  {
   "cell_type": "code",
   "execution_count": 43,
   "metadata": {},
   "outputs": [],
   "source": [
    "def power(x, n):\n",
    "    \"\"\"\n",
    "    retourne x à la puissance n en O(log(n))\n",
    "    \"\"\"\n",
    "    pass # votre code ici"
   ]
  },
  {
   "cell_type": "markdown",
   "metadata": {
    "slideshow": {
     "slide_type": "slide"
    }
   },
   "source": [
    "### 3) outils d'itération utiles: product, permutations...\n",
    "   - visionner les slides 7, 8, 9 et 10 de https://nbhosting.inria.fr/auditor/notebook/mines-python-primer:python/notebooks/1-08-iterations   "
   ]
  },
  {
   "cell_type": "markdown",
   "metadata": {
    "slideshow": {
     "slide_type": "slide"
    }
   },
   "source": [
    "# vérification des acquis pour python-primer\n",
    "\n",
    "## III. à savoir"
   ]
  },
  {
   "cell_type": "markdown",
   "metadata": {
    "slideshow": {
     "slide_type": "slide"
    }
   },
   "source": [
    "## les objectifs\n",
    "\n",
    "   - acquérir un *vernis* sur les concepts du langage **python** et les outils de base de *calcul scientifique* **numpy, pandas, matplotlib**\n",
    "   \n",
    "   \n",
    "   \n",
    "   - afin que vous soyez capables de lire et d'écrire du code simple\n",
    "   \n",
    "   \n",
    "   - mettre en oeuvre ce code simple dans un notebook et progressivement dans des programmes autonomes\n",
    "   \n",
    "   \n",
    "   \n",
    "   - vous pouvez rester sur les notebooks pendant la série de 3 cours"
   ]
  },
  {
   "cell_type": "markdown",
   "metadata": {
    "slideshow": {
     "slide_type": "slide"
    }
   },
   "source": [
    "## installations   \n",
    "\n",
    "   - progressivement les élèves installeront **python, numpy, pandas, matplotlib** (et **git**)\n",
    "   \n",
    "   \n",
    "   - avec un éditeur de texte pour les programmes (Visual Studio Code , ou ce que vous voulez)\n",
    "   - pour VSCode voir l'intro https://nbhosting.inria.fr/auditor/notebook/python-slides:extras/slides-extras/07-vscode\n",
    "   \n",
    "   \n",
    "   - un terminal (de préférence bash) pour lancer l'**interprête python** et exécuter des commandes simples (créer un répertoire, y aller...) "
   ]
  },
  {
   "cell_type": "markdown",
   "metadata": {
    "slideshow": {
     "slide_type": "slide"
    }
   },
   "source": [
    "## les outils utilisés par les enseignants\n",
    "\n",
    "\n",
    "   - https:nbhosting.inria.fr (notebooks prêt à l'emploi: aucune installation nécessaire)\n",
    "   \n",
    "   \n",
    "   - http://flotpython-primer.readthedocs.io (la version html des slides)\n",
    "   \n",
    "   \n",
    "   - https://discourse.mines-paristech.fr (un forum de discussion"
   ]
  },
  {
   "cell_type": "markdown",
   "metadata": {
    "slideshow": {
     "slide_type": "slide"
    }
   },
   "source": [
    "## savoir ce qu'est un notebook\n",
    "\n",
    "   - un document hybride qui mélange du texte formatté, des équations et des illustrations, avec des fragments de code exécutable, possiblement interactifs\n",
    "   \n",
    "   \n",
    "   - [vidéo introductive sur python et les notebooks](https://youtu.be/ULzWaZQa1Dc)"
   ]
  }
 ],
 "metadata": {
  "celltoolbar": "Slideshow",
  "kernelspec": {
   "display_name": "Python 3",
   "language": "python",
   "name": "python3"
  },
  "language_info": {
   "codemirror_mode": {
    "name": "ipython",
    "version": 3
   },
   "file_extension": ".py",
   "mimetype": "text/x-python",
   "name": "python",
   "nbconvert_exporter": "python",
   "pygments_lexer": "ipython3",
   "version": "3.7.3"
  }
 },
 "nbformat": 4,
 "nbformat_minor": 2
}
