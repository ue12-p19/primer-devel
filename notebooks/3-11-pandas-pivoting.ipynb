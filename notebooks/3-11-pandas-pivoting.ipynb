{
 "cells": [
  {
   "cell_type": "markdown",
   "metadata": {},
   "source": [
    "<div class=\"licence\">\n",
    "<span>Licence CC BY-NC-ND</span>\n",
    "<span>Valérie Roy</span>\n",
    "<span><img src=\"media/ensmp-25-alpha.png\" /></span>\n",
    "</div>"
   ]
  },
  {
   "cell_type": "markdown",
   "metadata": {},
   "source": [
    "# pivoting tables for grouping\n",
    "\n",
    "we'll study 2 examples:\n",
    "\n",
    "* category-based:\n",
    "  * 'category' means a data is among a (small) finite set of possible values\n",
    "  * example: 'male' or 'female'; 'lower', 'middle', 'upper'\n",
    "\n",
    "* bin-based: \n",
    "  * for valued data, we can always turn them into a category\n",
    "  * by defining 'bins' - i.e. intervals\n",
    "  * to turn that data into a category"
   ]
  },
  {
   "cell_type": "markdown",
   "metadata": {
    "cell_style": "center",
    "slideshow": {
     "slide_type": "subslide"
    }
   },
   "source": [
    "## example 1: category-based (Titanic survival rate by class and sex)\n",
    "\n",
    "we have a **dataset** about the sinking of **titanic**  \n",
    "that gives for each **passenger** - among others:\n",
    "- his/her **survival** (yes or no), **sex**, **class** (first, second, third), and **age**"
   ]
  },
  {
   "cell_type": "code",
   "execution_count": null,
   "metadata": {
    "cell_style": "split"
   },
   "outputs": [],
   "source": [
    "import numpy as np\n",
    "import pandas as pd\n",
    "\n",
    "# importing the whole dataset\n",
    "df = pd.read_csv('titanic.csv')\n",
    "\n",
    "# let's see what's in there for us\n",
    "for column in df.columns:\n",
    "    print(column, end=\" \")"
   ]
  },
  {
   "cell_type": "markdown",
   "metadata": {
    "cell_style": "split",
    "slideshow": {
     "slide_type": ""
    }
   },
   "source": [
    "that's a little too much\n",
    "- we keep the **interesting columns** \n",
    "- using *read_csv*'s `usecols` parameter "
   ]
  },
  {
   "cell_type": "code",
   "execution_count": null,
   "metadata": {
    "cell_style": "split"
   },
   "outputs": [],
   "source": [
    "df = pd.read_csv(\n",
    "    'titanic.csv', \n",
    "    usecols=['Survived', 'Pclass', 'Sex', 'Age'])\n",
    "# displayed on next slide"
   ]
  },
  {
   "cell_type": "code",
   "execution_count": null,
   "metadata": {
    "cell_style": "split",
    "slideshow": {
     "slide_type": "subslide"
    }
   },
   "outputs": [],
   "source": [
    "df.head(3)"
   ]
  },
  {
   "cell_type": "code",
   "execution_count": null,
   "metadata": {
    "cell_style": "split",
    "slideshow": {
     "slide_type": ""
    }
   },
   "outputs": [],
   "source": [
    "#  number of passengers in each class\n",
    "\n",
    "\n",
    "df['Pclass'].value_counts()"
   ]
  },
  {
   "cell_type": "markdown",
   "metadata": {
    "cell_style": "split",
    "slideshow": {
     "slide_type": ""
    }
   },
   "source": [
    "suppose you want to know\n",
    "   - the **survival rate** depending on the **sex** and the **class** "
   ]
  },
  {
   "cell_type": "markdown",
   "metadata": {
    "cell_style": "split"
   },
   "source": [
    "- this can be done with the *pandas.DataFrame.pivot_table* **method**"
   ]
  },
  {
   "cell_type": "markdown",
   "metadata": {
    "cell_style": "center",
    "slideshow": {
     "slide_type": "subslide"
    }
   },
   "source": [
    "we are going to\n",
    "\n",
    "* group data that have the same **sex** index and the same **Pclass** column\n",
    "* and on each group, compute the **mean** of their **survival status**\n",
    "\n",
    "in terms of the `pivot_table` parameter, this translates into\n",
    "   - the **value** to be **aggregated** here **Survived**\n",
    "   - the **aggregation** function here the *numpy.mean*\n",
    "   - the **key** to be the **index**   here the column **sex**\n",
    "   - the **key** to be the **column**  here the column **Pclass**"
   ]
  },
  {
   "cell_type": "code",
   "execution_count": null,
   "metadata": {},
   "outputs": [],
   "source": [
    "# the result of pivot_table is a new dataframe\n",
    "\n",
    "df.pivot_table('Survived', index='Sex', columns='Pclass', aggfunc=np.mean)"
   ]
  },
  {
   "cell_type": "markdown",
   "metadata": {
    "slideshow": {
     "slide_type": "slide"
    }
   },
   "source": [
    "## example 2: bin-based (survival rate by age group)"
   ]
  },
  {
   "cell_type": "markdown",
   "metadata": {},
   "source": [
    "   - you want to **compute** the **survival rate** by **age group**\n",
    "   - but we do not have **age group**\n",
    "   - so we must **pack** the ages in **bins** representing **age groupe**"
   ]
  },
  {
   "cell_type": "markdown",
   "metadata": {},
   "source": [
    "   - we create **bins** of ages and **names** for those **bins**"
   ]
  },
  {
   "cell_type": "code",
   "execution_count": null,
   "metadata": {},
   "outputs": [],
   "source": [
    "# her we define the threshhold or our age groups\n",
    "age_groups = [0, 11, 17, 25, 35, 45, 55, 65, 100] \n",
    "\n",
    "# and for convenience we give each of them a handy label\n",
    "age_group_names = ['<11', '11-17', '17-25', '25-35', '35-45', '45-55', '55-65', '>65'] "
   ]
  },
  {
   "cell_type": "markdown",
   "metadata": {
    "slideshow": {
     "slide_type": "subslide"
    }
   },
   "source": [
    "- we create a new category **column**, that gives the person's **age group** \n",
    "- using the *pandas.cut* **method** with the **bins** and the **names** parameters\n",
    "- we just **add** the column in our data frame"
   ]
  },
  {
   "cell_type": "code",
   "execution_count": null,
   "metadata": {},
   "outputs": [],
   "source": [
    "df['Age group'] = pd.cut(\n",
    "    df['Age'], bins=age_groups, labels=age_group_names)\n",
    "\n",
    "df.head()"
   ]
  },
  {
   "cell_type": "markdown",
   "metadata": {
    "slideshow": {
     "slide_type": "subslide"
    }
   },
   "source": [
    "- so now we have a category column\n",
    "- so we use *pivot_table*\n",
    "- to compute a new **data frame** with the  **survival rate** by **age group**"
   ]
  },
  {
   "cell_type": "code",
   "execution_count": null,
   "metadata": {},
   "outputs": [],
   "source": [
    "# this time on a  single column 'sex'\n",
    "df.pivot_table('Survived', index=['Sex'], columns='Age group', aggfunc=np.mean)"
   ]
  },
  {
   "cell_type": "markdown",
   "metadata": {},
   "source": [
    "   - a **higher** rate of **women** was **saved** in **all** categories except **children under 11**\n",
    "   - where $55 \\%$ of the boys were saved against $54 \\%$ of the girls"
   ]
  },
  {
   "cell_type": "code",
   "execution_count": null,
   "metadata": {},
   "outputs": [],
   "source": [
    "# if we're just interested in the global survival rate\n",
    "# by age-group, then just don't specify an index parameter\n",
    "# (or say index=[])\n",
    "df.pivot_table('Survived', index=[], columns='Age group', aggfunc=np.mean)"
   ]
  },
  {
   "cell_type": "markdown",
   "metadata": {
    "slideshow": {
     "slide_type": "subslide"
    }
   },
   "source": [
    "   - we **do not need** to **add** a column to the **data frame**\n",
    "   - here we  **pass** the number of **bins** and their **names**\n",
    "   - pandas will automatically split the 'age' image in 3 equal intervals"
   ]
  },
  {
   "cell_type": "code",
   "execution_count": null,
   "metadata": {},
   "outputs": [],
   "source": [
    "col = pd.cut(df['Age'], 3, labels=['child', 'adult', 'old'])\n",
    "display(col.head(3))\n",
    "display(col.tail(3))"
   ]
  },
  {
   "cell_type": "code",
   "execution_count": null,
   "metadata": {
    "slideshow": {
     "slide_type": "subslide"
    }
   },
   "outputs": [],
   "source": [
    "# same use of pivot_table as before, except that\n",
    "# col is not a part of df\n",
    "df.pivot_table('Survived', index=['Sex', 'Pclass'], columns=col, aggfunc=np.mean)"
   ]
  },
  {
   "cell_type": "markdown",
   "metadata": {
    "slideshow": {
     "slide_type": "slide"
    }
   },
   "source": [
    "## digression: tweaking data"
   ]
  },
  {
   "cell_type": "code",
   "execution_count": null,
   "metadata": {
    "slideshow": {
     "slide_type": ""
    }
   },
   "outputs": [],
   "source": [
    "df = pd.read_csv('titanic.csv', usecols=('Pclass', 'Age', 'Sex'))"
   ]
  },
  {
   "cell_type": "markdown",
   "metadata": {},
   "source": [
    "  - example of changing the **data**\n",
    "  - for example, we want to **replace** the **number** code  \n",
    "    of classes by a more user-friendly **name** ('first' instead of 1)\n",
    "  "
   ]
  },
  {
   "cell_type": "code",
   "execution_count": null,
   "metadata": {
    "cell_style": "split"
   },
   "outputs": [],
   "source": [
    "# we start with creating a mask that is\n",
    "# True on all people in first class\n",
    "\n",
    "mask = (df['Pclass'] == 1)"
   ]
  },
  {
   "cell_type": "code",
   "execution_count": null,
   "metadata": {
    "cell_style": "split"
   },
   "outputs": [],
   "source": [
    "# we have a mask of indexes\n",
    "mask.head()"
   ]
  },
  {
   "cell_type": "markdown",
   "metadata": {
    "slideshow": {
     "slide_type": "subslide"
    }
   },
   "source": [
    "- we **locate** the **true** values\n",
    "- and replace their **Pclass** column **value** by the string **'first'**\n",
    "- always use **loc** or **iloc**  \n",
    "  **never** use a classical **array** assignement"
   ]
  },
  {
   "cell_type": "code",
   "execution_count": null,
   "metadata": {
    "cell_style": "split"
   },
   "outputs": [],
   "source": [
    "df.loc[ mask, 'Pclass'] = 'first'"
   ]
  },
  {
   "cell_type": "code",
   "execution_count": null,
   "metadata": {
    "cell_style": "split"
   },
   "outputs": [],
   "source": [
    "# and so on\n",
    "df.loc[ df['Pclass'] == 2, 'Pclass'] = 'second'\n",
    "df.loc[ df['Pclass'] == 3, 'Pclass'] = 'third'"
   ]
  },
  {
   "cell_type": "code",
   "execution_count": null,
   "metadata": {},
   "outputs": [],
   "source": [
    "df.head()"
   ]
  }
 ],
 "metadata": {
  "celltoolbar": "Slideshow",
  "ipub": {
   "sphinx": {
    "toggle_input": true,
    "toggle_input_all": true,
    "toggle_output": true,
    "toggle_output_all": true
   }
  },
  "kernelspec": {
   "display_name": "Python 3",
   "language": "python",
   "name": "python3"
  },
  "language_info": {
   "codemirror_mode": {
    "name": "ipython",
    "version": 3
   },
   "file_extension": ".py",
   "mimetype": "text/x-python",
   "name": "python",
   "nbconvert_exporter": "python",
   "pygments_lexer": "ipython3",
   "version": "3.7.3"
  },
  "notebookname": "pivoting",
  "rise": {
   "autolaunch": true,
   "slideNumber": "c/t",
   "start_slideshow_at": "selected",
   "theme": "sky",
   "transition": "cube"
  },
  "version": "1.0"
 },
 "nbformat": 4,
 "nbformat_minor": 4
}
