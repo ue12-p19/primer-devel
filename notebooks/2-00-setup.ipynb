{
 "cells": [
  {
   "cell_type": "markdown",
   "metadata": {},
   "source": [
    "<div class=\"licence\">\n",
    "<span>Licence CC BY-NC-ND</span>\n",
    "<span>Valérie Roy</span>\n",
    "<span><img src=\"media/ensmp-25-alpha.png\" /></span>\n",
    "</div>"
   ]
  },
  {
   "cell_type": "markdown",
   "metadata": {
    "slideshow": {
     "slide_type": "slide"
    }
   },
   "source": [
    "# primer python-numérique numpy\n",
    "\n",
    "   - https://docs.scipy.org/doc/numpy/reference/\n",
    "   - http://scipy-lectures.org/intro/index.html"
   ]
  },
  {
   "cell_type": "markdown",
   "metadata": {
    "slideshow": {
     "slide_type": "slide"
    }
   },
   "source": [
    "## a quick story of numpy\n",
    "   - **Numpy 1.0** in 2006\n",
    "   - reused old projects **Numeric** and **Numarray**\n",
    "   - no single coordinator, no single aim\n",
    "   - *Guido van Rossum* **refused** to add Numeric in the Python standard library\n",
    "      + (code not maintainable)\n",
    "   - *Travis Oliphant* merged Numeric and Numarray to create **numpy**\n",
    "\n",
    "\n",
    "   - many *numpy* operations are programmed in **C** making it faster."
   ]
  },
  {
   "cell_type": "markdown",
   "metadata": {
    "slideshow": {
     "slide_type": "slide"
    }
   },
   "source": [
    "## Setting-up Your environment \"Python for Data Science\""
   ]
  },
  {
   "cell_type": "markdown",
   "metadata": {},
   "source": [
    "   - all **mathematic and computer science courses** will use **python**, **Ipython** and the **Jupyter notebook**\n",
    "   - the extension of a notebook file is **.ipynb** (for **Ipython Notebook**)"
   ]
  },
  {
   "cell_type": "markdown",
   "metadata": {},
   "source": [
    "### two **distinct** ways to **work**:\n",
    "   1. you can acess a **remote** **nbhosting** (hosting of notebooks)\n",
    "   1. you **download** the files locally on **your computer** (by cloning the repositories) and you run them on your **system**"
   ]
  },
  {
   "cell_type": "markdown",
   "metadata": {
    "slideshow": {
     "slide_type": "slide"
    }
   },
   "source": [
    "### acessing a remote nbhosting (hosting of notebooks)\n",
    "\n",
    "   - it is here https://nbhosting-dev.inria.fr/auditor/courses/\n",
    "   - you will have a **login/passwd**"
   ]
  },
  {
   "cell_type": "markdown",
   "metadata": {
    "slideshow": {
     "slide_type": "slide"
    }
   },
   "source": [
    "### working locally on your computer"
   ]
  },
  {
   "cell_type": "markdown",
   "metadata": {
    "slideshow": {
     "slide_type": "-"
    }
   },
   "source": [
    "   - you will need a lot of **libraries**\n",
    "   - we **recommend** you install **miniconda** for **Python 3.7**\n",
    "   - and do **additional** installations of **packages** with **pip install**\n",
    "   \n",
    "   - see the installation instructions here https://docs.conda.io/en/latest/miniconda.html\n",
    "   - install the **Python 3.7** miniconda"
   ]
  },
  {
   "cell_type": "markdown",
   "metadata": {
    "slideshow": {
     "slide_type": "slide"
    }
   },
   "source": [
    "**mini-conda**\n",
    "\n",
    "you will get at minima, the libraries needed for this course:\n",
    "   - **python** version $\\geq 3.$\n",
    "   - **numpy**\n",
    "   - **pandas**\n",
    "   - **matplotlib**\n",
    "   - **ipython**\n",
    "   - **jupyter**"
   ]
  },
  {
   "cell_type": "markdown",
   "metadata": {
    "cell_style": "center",
    "slideshow": {
     "slide_type": "-"
    }
   },
   "source": [
    "   - you can also simply use **pip install -r requirements.txt**\n",
    "   - that will take care of installing everything for you"
   ]
  }
 ],
 "metadata": {
  "celltoolbar": "Slideshow",
  "ipub": {
   "sphinx": {
    "toggle_input": true,
    "toggle_input_all": true,
    "toggle_output": true,
    "toggle_output_all": true
   }
  },
  "kernelspec": {
   "display_name": "Python 3",
   "language": "python",
   "name": "python3"
  },
  "language_info": {
   "codemirror_mode": {
    "name": "ipython",
    "version": 3
   },
   "file_extension": ".py",
   "mimetype": "text/x-python",
   "name": "python",
   "nbconvert_exporter": "python",
   "pygments_lexer": "ipython3",
   "version": "3.7.3"
  },
  "notebookname": "setting up your environment",
  "rise": {
   "autolaunch": true,
   "slideNumber": "c/t",
   "start_slideshow_at": "selected",
   "theme": "sky",
   "transition": "cube"
  },
  "version": "1.0"
 },
 "nbformat": 4,
 "nbformat_minor": 2
}
