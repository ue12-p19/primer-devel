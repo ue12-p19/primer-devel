{
 "cells": [
  {
   "cell_type": "markdown",
   "metadata": {},
   "source": [
    "<div class=\"licence\">\n",
    "<span>Licence CC BY-NC-ND</span>\n",
    "<span>Valérie Roy</span>\n",
    "<span><img src=\"media/ensmp-25-alpha.png\" /></span>\n",
    "</div>"
   ]
  },
  {
   "cell_type": "code",
   "execution_count": null,
   "metadata": {},
   "outputs": [],
   "source": [
    "import numpy as np"
   ]
  },
  {
   "cell_type": "markdown",
   "metadata": {
    "slideshow": {
     "slide_type": "slide"
    }
   },
   "source": [
    "# Broadcasting when working with arrays of different sizes"
   ]
  },
  {
   "cell_type": "markdown",
   "metadata": {
    "slideshow": {
     "slide_type": "slide"
    }
   },
   "source": [
    "## reminder about the dimensions\n",
    "\n",
    "**dimension 2**\n",
    "   - *shape=(r, c)* is a matrix with *r* **rows** and *c* **columns**\n",
    "   \n",
    "   \n",
    "**dimension 3**\n",
    "   - *shape=(p, r, c)* is *p* **frames** each one with a matrix with *r* **rows** and *c* **columns**\n",
    "   \n",
    "   \n",
    "**greater dimension**\n",
    "   - *shape=(g1, ..., g, r, c)*\n",
    "   - the two last elements are always *r* **rows**, and *c* **columns**\n",
    "   - the others are **frames**"
   ]
  },
  {
   "cell_type": "markdown",
   "metadata": {
    "slideshow": {
     "slide_type": "slide"
    }
   },
   "source": [
    "## operations on arrays of the same shape\n",
    "   - operations are done on **pairs of arrays**\n",
    "   - on an **element-by-element** basis\n",
    "   - the two **arrays** must have **exactly the same shape**"
   ]
  },
  {
   "cell_type": "code",
   "execution_count": null,
   "metadata": {
    "cell_style": "split"
   },
   "outputs": [],
   "source": [
    "a = np.arange(0, 10).reshape(2, 5)\n",
    "a"
   ]
  },
  {
   "cell_type": "code",
   "execution_count": null,
   "metadata": {
    "cell_style": "split"
   },
   "outputs": [],
   "source": [
    "b = np.arange(10, 20).reshape(2, 5)\n",
    "b"
   ]
  },
  {
   "cell_type": "markdown",
   "metadata": {
    "cell_style": "center"
   },
   "source": [
    "the arrays have the same dimension  \n",
    "the **multiplication** element-by-element is **straightforward**"
   ]
  },
  {
   "cell_type": "code",
   "execution_count": null,
   "metadata": {
    "cell_style": "center"
   },
   "outputs": [],
   "source": [
    "a * b"
   ]
  },
  {
   "cell_type": "markdown",
   "metadata": {
    "slideshow": {
     "slide_type": "slide"
    }
   },
   "source": [
    "##  operation when arrays have different *but consistent* sizes\n",
    "   - *numpy* **relaxes** the constraint i.e. the arrays can have **different shapes**\n",
    "   - the **shapes** must meet **certain conditions**"
   ]
  },
  {
   "cell_type": "markdown",
   "metadata": {},
   "source": [
    "for example:"
   ]
  },
  {
   "cell_type": "code",
   "execution_count": null,
   "metadata": {
    "cell_style": "split"
   },
   "outputs": [],
   "source": [
    "a = np.arange(0, 4)\n",
    "a"
   ]
  },
  {
   "cell_type": "code",
   "execution_count": null,
   "metadata": {
    "cell_style": "split"
   },
   "outputs": [],
   "source": [
    "b = np.array([10])\n",
    "b"
   ]
  },
  {
   "cell_type": "markdown",
   "metadata": {},
   "source": [
    "   - to **add** the array [0, 1, 2, 3] to the array [10] \n",
    "   - the array [10] is simply **expended** to **match the size** of *a*\n",
    "   - *b* became [10, 10, 10, 10]"
   ]
  },
  {
   "cell_type": "code",
   "execution_count": null,
   "metadata": {
    "cell_style": "split"
   },
   "outputs": [],
   "source": [
    "a + b"
   ]
  },
  {
   "cell_type": "code",
   "execution_count": null,
   "metadata": {
    "cell_style": "split"
   },
   "outputs": [],
   "source": [
    "10 + a # the same with a single value"
   ]
  },
  {
   "cell_type": "markdown",
   "metadata": {
    "slideshow": {
     "slide_type": "slide"
    }
   },
   "source": [
    "## broadcasting **rules**\n",
    "\n",
    "   - when arrays **do not have** the **same** shape\n",
    "   - *numpy* **expands** the arrays (*when possible*)\n",
    "   - for an **element-by-element** operation to **take place**\n",
    "\n",
    "   \n",
    "   \n",
    "   - dimensions are **compared** from **right** to **left**\n",
    "   - *columns*, then *rows*, then *frames*, ...\n",
    "   \n",
    "   \n",
    "   - dimensions are taken **pairwise**\n",
    "   - broadcasting is **possible**\n",
    "      1. when the **dimensions** are **identical**\n",
    "      1. when **one** is $1$\n",
    "      \n",
    "      \n",
    "   \n",
    "   - https://docs.scipy.org/doc/numpy/user/basics.broadcasting.html\n",
    "   - http://scipy.github.io/old-wiki/pages/EricsBroadcastingDoc"
   ]
  },
  {
   "cell_type": "markdown",
   "metadata": {
    "slideshow": {
     "slide_type": "slide"
    }
   },
   "source": [
    "## example when sizes are consistant"
   ]
  },
  {
   "cell_type": "code",
   "execution_count": null,
   "metadata": {
    "cell_style": "split"
   },
   "outputs": [],
   "source": [
    "a = 100 * np.ones((3, 4))\n",
    "\n",
    "print('a =', a)\n",
    "print()\n",
    "\n",
    "b = 4\n",
    "print('b =', b)\n",
    "print()\n",
    "\n",
    "print('a + b =', a + b)"
   ]
  },
  {
   "cell_type": "markdown",
   "metadata": {
    "cell_style": "split"
   },
   "source": [
    "the **shape** of $a$ is $(2_a, 3_a)$  \n",
    "the **shape** of $b$ is $(1_b)$\n",
    "   - $3_a$ is **compared** to $1_b$\n",
    "   - $b$ **became** one row of size $3$ i.e. $b^\\prime = [4, 4, 4]$\n",
    "   \n",
    "the **shape** of $b^\\prime$ is **now** $(1^\\prime_b, 3^\\prime_b)$\n",
    "   - $2_a$ is **compared** to $1^\\prime_b$\n",
    "   - $b^\\prime$ **became** two rows i.e. $b^{\\prime\\prime} = [[4, 4, 4], [4, 4, 4]]$\n",
    "   \n",
    "the **shape** of $b^{\\prime\\prime}$ is **now** $(2^{\\prime\\prime}_b, {\\prime\\prime}_b)$\n",
    "   \n",
    "$\\Rightarrow$ the two arrays can be added **element by element**\n",
    "   "
   ]
  },
  {
   "cell_type": "markdown",
   "metadata": {
    "slideshow": {
     "slide_type": "slide"
    }
   },
   "source": [
    "## example when sizes are not consistant\n",
    "   - shapes **cannot** be **broadcast**"
   ]
  },
  {
   "cell_type": "code",
   "execution_count": null,
   "metadata": {
    "cell_style": "split"
   },
   "outputs": [],
   "source": [
    "a = 100 * np.ones((2, 3))\n",
    "print(a)\n",
    "\n",
    "print()\n",
    "\n",
    "b = 10 * np.ones((2, 4))\n",
    "print(b)"
   ]
  },
  {
   "cell_type": "code",
   "execution_count": null,
   "metadata": {
    "cell_style": "split"
   },
   "outputs": [],
   "source": [
    "try:\n",
    "    a + b\n",
    "except ValueError as e:\n",
    "    print(e)"
   ]
  },
  {
   "cell_type": "markdown",
   "metadata": {
    "cell_style": "split"
   },
   "source": [
    "the **shape** of $a$ is $(2_a, 3_a)$  \n",
    "the **shape** of $b$ is $(2_b, 4_b)$\n",
    "   \n",
    "**broadcasting** must compare the pair $(3_a, 4_b)$ to $(2_a, 2_b)$  \n",
    "   - $3_a$ is **compared** to $4_b$ and **no rule** can be applied\n",
    "   \n",
    "the operation **does not follow the rules** $\\Rightarrow$ **it fails**"
   ]
  },
  {
   "cell_type": "markdown",
   "metadata": {
    "slideshow": {
     "slide_type": "slide"
    }
   },
   "source": [
    "## a more complex example"
   ]
  },
  {
   "cell_type": "code",
   "execution_count": null,
   "metadata": {
    "cell_style": "split"
   },
   "outputs": [],
   "source": [
    "a = 9 * np.ones((1, 3))\n",
    "print('a = ', a)\n",
    "print()\n",
    "\n",
    "b = 100 * np.ones((4, 1))\n",
    "print('b =', b)\n",
    "\n",
    "print()\n",
    "print(a + b)"
   ]
  },
  {
   "cell_type": "markdown",
   "metadata": {
    "cell_style": "split"
   },
   "source": [
    "the **shape** of $a$ is $(1_a, 3_a)$  \n",
    "the **shape** of $b$ is $(4_b, 1_b)$\n",
    "      \n",
    "broadcasting compares $3_a$ and $1_b$  \n",
    "$b$ is broadcast to **fit** $3$ **columns**  \n",
    "[[100., 100., 100.],  \n",
    " [100., 100., 100.],  \n",
    " [100., 100., 100.],  \n",
    " [100., 100., 100.]]\n",
    "\n",
    "broadcasting compare $(1_a, 4_b)$   \n",
    "$a$ is broadcast to **fit** $4$ **rows**\n",
    "[[9., 9., 9.],  \n",
    " [9., 9., 9.],  \n",
    " [9., 9., 9.],  \n",
    " [9., 9., 9.]]\n",
    "   \n",
    "the **element by element** operation can take **place**  "
   ]
  },
  {
   "cell_type": "markdown",
   "metadata": {
    "slideshow": {
     "slide_type": "slide"
    }
   },
   "source": [
    "## broadcasting in greater dimension"
   ]
  },
  {
   "cell_type": "code",
   "execution_count": null,
   "metadata": {
    "cell_style": "split"
   },
   "outputs": [],
   "source": [
    "a = 100 * np.ones((2, 3, 4))\n",
    "a"
   ]
  },
  {
   "cell_type": "code",
   "execution_count": null,
   "metadata": {
    "cell_style": "split"
   },
   "outputs": [],
   "source": [
    "b0 = 10\n",
    "a + b0"
   ]
  },
  {
   "cell_type": "code",
   "execution_count": null,
   "metadata": {
    "cell_style": "split"
   },
   "outputs": [],
   "source": [
    "b1 = 9 * np.ones((3, 1))\n",
    "print(b1)\n",
    "a + b1"
   ]
  },
  {
   "cell_type": "code",
   "execution_count": null,
   "metadata": {
    "cell_style": "split"
   },
   "outputs": [],
   "source": [
    "b2 = 8 * np.ones((1, 4))\n",
    "print(b2)\n",
    "a + b2"
   ]
  },
  {
   "cell_type": "markdown",
   "metadata": {
    "slideshow": {
     "slide_type": "slide"
    }
   },
   "source": [
    "## Broadcasting and vectorization\n",
    "   - broadcasting is **very efficient**\n",
    "   - the broadcast elements are **not actually** created in memory\n",
    "   - broadcasting is based on **optimized C code**\n",
    "   - it has the **same efficiency** as **vectorized** operations"
   ]
  }
 ],
 "metadata": {
  "celltoolbar": "Slideshow",
  "ipub": {
   "sphinx": {
    "toggle_input": true,
    "toggle_input_all": true,
    "toggle_output": true,
    "toggle_output_all": true
   }
  },
  "kernelspec": {
   "display_name": "Python 3",
   "language": "python",
   "name": "python3"
  },
  "language_info": {
   "codemirror_mode": {
    "name": "ipython",
    "version": 3
   },
   "file_extension": ".py",
   "mimetype": "text/x-python",
   "name": "python",
   "nbconvert_exporter": "python",
   "pygments_lexer": "ipython3",
   "version": "3.7.3"
  },
  "notebookname": "broadcasting",
  "rise": {
   "autolaunch": true,
   "slideNumber": "c/t",
   "start_slideshow_at": "selected",
   "theme": "sky",
   "transition": "cube"
  },
  "version": "1.0"
 },
 "nbformat": 4,
 "nbformat_minor": 4
}
