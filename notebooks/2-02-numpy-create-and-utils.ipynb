{
 "cells": [
  {
   "cell_type": "markdown",
   "metadata": {},
   "source": [
    "<div class=\"licence\">\n",
    "<span>Licence CC BY-NC-ND</span>\n",
    "<span>Valérie Roy</span>\n",
    "<span><img src=\"media/ensmp-25-alpha.png\" /></span>\n",
    "</div>"
   ]
  },
  {
   "cell_type": "code",
   "execution_count": null,
   "metadata": {},
   "outputs": [],
   "source": [
    "import numpy as np"
   ]
  },
  {
   "cell_type": "markdown",
   "metadata": {
    "slideshow": {
     "slide_type": "slide"
    }
   },
   "source": [
    "# multi-dimensional arrays"
   ]
  },
  {
   "cell_type": "markdown",
   "metadata": {
    "cell_style": "center"
   },
   "source": [
    "   - for now we have only created **flat** arrays like **vectors**\n",
    "   - **but** with *numpy* you can create **multi-dimensional** arrays like **matrices**\n",
    "   \n",
    "\n",
    "   - for **multi-dimensional** arrays the underlying memory space is **still** a one-dimensional segment\n",
    "   - **but** it is viewed as a **multi-dimensional array**  "
   ]
  },
  {
   "cell_type": "markdown",
   "metadata": {
    "slideshow": {
     "slide_type": "slide"
    }
   },
   "source": [
    "## shape of an array\n",
    "   - with the function *numpy.ndarray.shape*"
   ]
  },
  {
   "cell_type": "markdown",
   "metadata": {},
   "source": [
    "we **initialize** the *numpy.ndarray* with a **flat** structure"
   ]
  },
  {
   "cell_type": "code",
   "execution_count": null,
   "metadata": {},
   "outputs": [],
   "source": [
    "a = np.array([1, 2, 3, 4, 5, 6], np.int32)\n",
    "a"
   ]
  },
  {
   "cell_type": "markdown",
   "metadata": {},
   "source": [
    "we can see that its **shape** is a **one**-dimentional array"
   ]
  },
  {
   "cell_type": "code",
   "execution_count": null,
   "metadata": {},
   "outputs": [],
   "source": [
    "a.shape"
   ]
  },
  {
   "cell_type": "markdown",
   "metadata": {
    "slideshow": {
     "slide_type": "slide"
    }
   },
   "source": [
    "## creation of multi-dimensional arrays\n",
    "   - with the *function* *numpy.array*"
   ]
  },
  {
   "cell_type": "markdown",
   "metadata": {
    "cell_style": "center"
   },
   "source": [
    "we create a *2 x 3* matrix\n",
    "   - by *initializing* the array with a **structured** array\n",
    "   - here a list of the two **rows** of the matrix"
   ]
  },
  {
   "cell_type": "code",
   "execution_count": null,
   "metadata": {
    "cell_style": "center"
   },
   "outputs": [],
   "source": [
    "a = np.array([[1, 2, 3], [4, 5, 6]], np.int32)  # a (2 x 3) arrays of 32-bits integers\n",
    "a"
   ]
  },
  {
   "cell_type": "markdown",
   "metadata": {
    "cell_style": "split"
   },
   "source": [
    "its shape is *2 x 3* (two *rows*, 3 *columns*)"
   ]
  },
  {
   "cell_type": "code",
   "execution_count": null,
   "metadata": {
    "cell_style": "split"
   },
   "outputs": [],
   "source": [
    "a.shape"
   ]
  },
  {
   "cell_type": "markdown",
   "metadata": {
    "slideshow": {
     "slide_type": "slide"
    }
   },
   "source": [
    "## methods to create arrays in *numpy* \n",
    "\n",
    "| methods                    | what they do                           \t|\n",
    "|---------------------------|-------------------------------------------|\n",
    "| *numpy.array*  \t| create an array                           |\n",
    "| *numpy.empty*  \t| return an empty without initializing its elements |\n",
    "| *numpy.zeros*  \t| return an array filled with $0.$ (float)  |\n",
    "| *numpy.ones*  \t| return an array filled with $1.$ (float)  |\n",
    "| *numpy.linspace* | floats spaced evenly within on an interval |\n",
    "| *numpy.arange*   | integers spaced  evenly on an interval   |\n",
    "| *numpy.random.** | random sampling                           |\n",
    "| *numpy.logspace* | return numbers spaced evenly on a log scale  |"
   ]
  },
  {
   "cell_type": "markdown",
   "metadata": {
    "slideshow": {
     "slide_type": "slide"
    }
   },
   "source": [
    "## creating empty arrays"
   ]
  },
  {
   "cell_type": "markdown",
   "metadata": {},
   "source": [
    "you have to give the **shape** of the array (with the eponym parameter)"
   ]
  },
  {
   "cell_type": "markdown",
   "metadata": {},
   "source": [
    "an array of shape *3 lines x 2 columns*\n",
    "   - **without** initialisation"
   ]
  },
  {
   "cell_type": "code",
   "execution_count": null,
   "metadata": {
    "slideshow": {
     "slide_type": "-"
    }
   },
   "outputs": [],
   "source": [
    "e = np.empty(shape=(2, 3))\n",
    "e"
   ]
  },
  {
   "cell_type": "markdown",
   "metadata": {},
   "source": [
    "   - but **not** without values !\n",
    "   - a memory place has **always** a value\n",
    "   - but you have **avoided** the **cost** of initialisation"
   ]
  },
  {
   "cell_type": "markdown",
   "metadata": {
    "slideshow": {
     "slide_type": "slide"
    }
   },
   "source": [
    "## creating zeros or ones-initialized arrays"
   ]
  },
  {
   "cell_type": "markdown",
   "metadata": {},
   "source": [
    "a *(3 x 4)* matrix of 32-bits integers initialized with *1*"
   ]
  },
  {
   "cell_type": "code",
   "execution_count": null,
   "metadata": {
    "slideshow": {
     "slide_type": "-"
    }
   },
   "outputs": [],
   "source": [
    "np.ones(shape=(3, 4), dtype=np.int16)"
   ]
  },
  {
   "cell_type": "markdown",
   "metadata": {},
   "source": [
    "a *(4 x 5)* matrix initialized with *1*"
   ]
  },
  {
   "cell_type": "code",
   "execution_count": null,
   "metadata": {
    "cell_style": "split"
   },
   "outputs": [],
   "source": [
    "z = np.zeros(shape=(4, 5))\n",
    "z"
   ]
  },
  {
   "cell_type": "code",
   "execution_count": null,
   "metadata": {
    "cell_style": "split"
   },
   "outputs": [],
   "source": [
    "z.dtype"
   ]
  },
  {
   "cell_type": "markdown",
   "metadata": {
    "slideshow": {
     "slide_type": "slide"
    }
   },
   "source": [
    "## dimensions"
   ]
  },
  {
   "cell_type": "markdown",
   "metadata": {
    "slideshow": {
     "slide_type": "-"
    }
   },
   "source": [
    "a **shape = (n, )** shaped array is **not** a **multi-dimensional** array"
   ]
  },
  {
   "cell_type": "code",
   "execution_count": null,
   "metadata": {
    "cell_style": "split"
   },
   "outputs": [],
   "source": [
    "a = np.array([1, 2, 3])\n",
    "a"
   ]
  },
  {
   "cell_type": "code",
   "execution_count": null,
   "metadata": {
    "cell_style": "split"
   },
   "outputs": [],
   "source": [
    "a.shape"
   ]
  },
  {
   "cell_type": "markdown",
   "metadata": {},
   "source": [
    "a **shape = (n, p)** shaped array is a **multi-dimensional** array"
   ]
  },
  {
   "cell_type": "code",
   "execution_count": null,
   "metadata": {
    "cell_style": "split"
   },
   "outputs": [],
   "source": [
    "b = np.array( [[1, 2, 3]] )\n",
    "b"
   ]
  },
  {
   "cell_type": "code",
   "execution_count": null,
   "metadata": {
    "cell_style": "split"
   },
   "outputs": [],
   "source": [
    "b.shape"
   ]
  },
  {
   "cell_type": "markdown",
   "metadata": {
    "slideshow": {
     "slide_type": "slide"
    }
   },
   "source": [
    "## as many dimensions as you want"
   ]
  },
  {
   "cell_type": "markdown",
   "metadata": {
    "cell_style": "split"
   },
   "source": [
    "we create a structure of:\n",
    "   - *two* times, *three* blocks\n",
    "   - of *four* matrices\n",
    "   - having *five* rows and *six* columns\n",
    "   "
   ]
  },
  {
   "cell_type": "code",
   "execution_count": null,
   "metadata": {
    "cell_style": "split"
   },
   "outputs": [],
   "source": [
    "d = np.ones(shape=(2, 3, 4, 5, 6))\n",
    "d.shape"
   ]
  },
  {
   "cell_type": "markdown",
   "metadata": {},
   "source": [
    "the two lasts are *always* **rows** and **columns**"
   ]
  },
  {
   "cell_type": "markdown",
   "metadata": {
    "slideshow": {
     "slide_type": "slide"
    }
   },
   "source": [
    "**very difficult to see on a slide ...**"
   ]
  },
  {
   "cell_type": "code",
   "execution_count": null,
   "metadata": {},
   "outputs": [],
   "source": [
    "# np.ones(shape=(2, 3, 4, 2, 2))  # 2 times, 3 blocks, 4 matrices, of size (2 x 2)"
   ]
  },
  {
   "cell_type": "markdown",
   "metadata": {
    "slideshow": {
     "slide_type": "slide"
    }
   },
   "source": [
    "## initialising arrays with random numbers\n",
    "   - lots of functions *numpy.random.rand*, *numpy.random.randint*, *numpy.random.randn*"
   ]
  },
  {
   "cell_type": "markdown",
   "metadata": {},
   "source": [
    "we generate\n",
    "   - *2* matrices of *3* rows and *4* columns\n",
    "   - of 8-bits integers **randomly** generated between *1* and *100*"
   ]
  },
  {
   "cell_type": "code",
   "execution_count": null,
   "metadata": {},
   "outputs": [],
   "source": [
    "nmin, nmax = 1, 100\n",
    "np.random.randint(nmin, nmax, size=(2, 3, 4), dtype=np.int8) # nmin included, nmax excluded"
   ]
  },
  {
   "cell_type": "markdown",
   "metadata": {
    "slideshow": {
     "slide_type": "slide"
    }
   },
   "source": [
    "### ask for help !"
   ]
  },
  {
   "cell_type": "code",
   "execution_count": null,
   "metadata": {},
   "outputs": [],
   "source": [
    "# np.random.randint?"
   ]
  },
  {
   "cell_type": "code",
   "execution_count": null,
   "metadata": {},
   "outputs": [],
   "source": [
    "# help(np.random.randint)"
   ]
  },
  {
   "cell_type": "markdown",
   "metadata": {
    "slideshow": {
     "slide_type": "slide"
    }
   },
   "source": [
    "## generating a normal distribution of $\\mathcal{N(\\mu, \\sigma^2)}$\n",
    "   - with *numpy.random.randn* "
   ]
  },
  {
   "cell_type": "markdown",
   "metadata": {},
   "source": [
    "we generates random samples from a *standard normal distribution* $\\mathcal{N(\\mu=0, \\sigma^2=1)}$"
   ]
  },
  {
   "cell_type": "code",
   "execution_count": null,
   "metadata": {},
   "outputs": [],
   "source": [
    "a = np.random.randn(2, 3)\n",
    "a"
   ]
  },
  {
   "cell_type": "markdown",
   "metadata": {},
   "source": [
    "we generates a normal distribution $\\mathcal{N(\\mu=2.5, \\sigma^2=0.09)}$"
   ]
  },
  {
   "cell_type": "code",
   "execution_count": null,
   "metadata": {
    "cell_style": "split"
   },
   "outputs": [],
   "source": [
    "sigma = 0.03\n",
    "mu = 2.5\n",
    "\n",
    "sigma * a + mu"
   ]
  },
  {
   "cell_type": "code",
   "execution_count": null,
   "metadata": {
    "cell_style": "split"
   },
   "outputs": [],
   "source": [
    "# the same for short\n",
    "np.random.normal(mu, sigma, size=(2, 3))"
   ]
  },
  {
   "cell_type": "markdown",
   "metadata": {
    "slideshow": {
     "slide_type": "slide"
    }
   },
   "source": [
    "##  reshaping *numpy.ndarray*\n",
    "   - with the method *numpy.ndarray.reshape*"
   ]
  },
  {
   "cell_type": "code",
   "execution_count": null,
   "metadata": {
    "cell_style": "center"
   },
   "outputs": [],
   "source": [
    "a = np.array([1, 2, 3, 4])\n",
    "b = a.reshape(2, 2)\n",
    "b"
   ]
  },
  {
   "cell_type": "markdown",
   "metadata": {},
   "source": [
    "   - it changes the **shape** of an array (even a multi-dimensional one)\n",
    "   - by creating a **new view** with a **new indexing**\n",
    "   - it does not change the **original underlying** array   \n",
    "   - **no** underlying array is generated only **indexes** are    \n",
    "   - the **resulting** array and the **original** one have the **same** underlying memory array"
   ]
  },
  {
   "cell_type": "markdown",
   "metadata": {
    "slideshow": {
     "slide_type": "slide"
    }
   },
   "source": [
    "### dimension must match\n",
    "   - the dimension must be a multiple of the number of elements"
   ]
  },
  {
   "cell_type": "code",
   "execution_count": null,
   "metadata": {},
   "outputs": [],
   "source": [
    "a = np.array([1, 2, 3, 4, 5, 6, 7, 8, 9, 10, 11, 12])\n",
    "b1 = a.reshape(2, 6)\n",
    "b2 = b1.reshape(2, 2, 3)\n",
    "b3 = b2.reshape(1, 1, 3, 4)"
   ]
  },
  {
   "cell_type": "code",
   "execution_count": null,
   "metadata": {
    "cell_style": "split"
   },
   "outputs": [],
   "source": [
    "b2"
   ]
  },
  {
   "cell_type": "code",
   "execution_count": null,
   "metadata": {
    "cell_style": "split"
   },
   "outputs": [],
   "source": [
    "b3"
   ]
  },
  {
   "cell_type": "markdown",
   "metadata": {},
   "source": [
    "*b1* is a **view** on *a*, *b2* is a **view** on *b1* and *b3* is a **view** on *b2*"
   ]
  },
  {
   "cell_type": "markdown",
   "metadata": {
    "slideshow": {
     "slide_type": "slide"
    }
   },
   "source": [
    "## accessing elements\n",
    "   - depends on the **geometry** of the views"
   ]
  },
  {
   "cell_type": "code",
   "execution_count": null,
   "metadata": {
    "cell_style": "split"
   },
   "outputs": [],
   "source": [
    "a[0] = 99 # we change a"
   ]
  },
  {
   "cell_type": "code",
   "execution_count": null,
   "metadata": {
    "cell_style": "split"
   },
   "outputs": [],
   "source": [
    "b1[0][0] # it changes b1"
   ]
  },
  {
   "cell_type": "code",
   "execution_count": null,
   "metadata": {
    "cell_style": "split"
   },
   "outputs": [],
   "source": [
    "b2[0][0][0] # it changes b2"
   ]
  },
  {
   "cell_type": "code",
   "execution_count": null,
   "metadata": {
    "cell_style": "split"
   },
   "outputs": [],
   "source": [
    "b3[0][0][0][0] # it changes b3"
   ]
  },
  {
   "cell_type": "markdown",
   "metadata": {
    "slideshow": {
     "slide_type": "slide"
    }
   },
   "source": [
    "## flattening an array with *numpy.ravel* \n",
    "   - it returns a **view** on the **original data** (when possible)"
   ]
  },
  {
   "cell_type": "code",
   "execution_count": null,
   "metadata": {},
   "outputs": [],
   "source": [
    "a = np.array([[1, 2], [3, 4], [5, 6]])\n",
    "a"
   ]
  },
  {
   "cell_type": "code",
   "execution_count": null,
   "metadata": {
    "cell_style": "center"
   },
   "outputs": [],
   "source": [
    "a_ravel = a.ravel()"
   ]
  },
  {
   "cell_type": "markdown",
   "metadata": {
    "cell_style": "split"
   },
   "source": [
    "   - if we modify **a_ravel**\n",
    "   - **a** will be modified"
   ]
  },
  {
   "cell_type": "code",
   "execution_count": null,
   "metadata": {
    "cell_style": "split"
   },
   "outputs": [],
   "source": [
    "a[0][0] = 99; a_ravel[0]"
   ]
  },
  {
   "cell_type": "markdown",
   "metadata": {
    "slideshow": {
     "slide_type": "slide"
    }
   },
   "source": [
    "## flattening an array with *numpy.ndarray.flatten* \n",
    "   - it always returns a **copy** of the **original data**"
   ]
  },
  {
   "cell_type": "code",
   "execution_count": null,
   "metadata": {},
   "outputs": [],
   "source": [
    "a = np.array([[1, 2], [3, 4], [5, 6]])\n",
    "a"
   ]
  },
  {
   "cell_type": "code",
   "execution_count": null,
   "metadata": {},
   "outputs": [],
   "source": [
    "a_flatten = a.flatten()"
   ]
  },
  {
   "cell_type": "markdown",
   "metadata": {
    "cell_style": "split"
   },
   "source": [
    "   - if we modify **a_flatten**\n",
    "   - **a** will **not** be modified"
   ]
  },
  {
   "cell_type": "code",
   "execution_count": null,
   "metadata": {
    "cell_style": "split"
   },
   "outputs": [],
   "source": [
    "a_flatten[2] = 111 ; a[1][0]"
   ]
  },
  {
   "cell_type": "markdown",
   "metadata": {
    "slideshow": {
     "slide_type": "slide"
    }
   },
   "source": [
    "## iteration on a flattened version of the array \n",
    "   - *numpy.ndarray.flat* returns a flat **iterator** over the array"
   ]
  },
  {
   "cell_type": "code",
   "execution_count": null,
   "metadata": {
    "cell_style": "center"
   },
   "outputs": [],
   "source": [
    "a = np.random.randint(0, 20, 6).reshape(2, 3)\n",
    "a"
   ]
  },
  {
   "cell_type": "code",
   "execution_count": null,
   "metadata": {
    "cell_style": "center"
   },
   "outputs": [],
   "source": [
    "a[1][2] == a.flat[3]"
   ]
  },
  {
   "cell_type": "markdown",
   "metadata": {
    "slideshow": {
     "slide_type": "slide"
    }
   },
   "source": [
    "### example\n",
    "   - we get the index of the **minimum**\n",
    "   - (function *numpy.ndarray.argmin* i.e. argument of the min)\n",
    "   - we obtain an **index** on the **flat** array\n",
    "   - we use the **flat iter** to get the element"
   ]
  },
  {
   "cell_type": "code",
   "execution_count": null,
   "metadata": {},
   "outputs": [],
   "source": [
    "a.min(), a.argmin()"
   ]
  },
  {
   "cell_type": "code",
   "execution_count": null,
   "metadata": {},
   "outputs": [],
   "source": [
    "a.flat[  a.argmin()  ] == a.min()"
   ]
  },
  {
   "cell_type": "markdown",
   "metadata": {
    "slideshow": {
     "slide_type": "slide"
    }
   },
   "source": [
    "## resizing an array with the method *ndarray.resize*"
   ]
  },
  {
   "cell_type": "markdown",
   "metadata": {},
   "source": [
    "   - it change the shape of an array **in-place**\n",
    "   - i.e. the indexing of the **original array** is **changed**\n",
    "\n",
    "   - we have the same restriction as for the reshaping\n",
    "   - the new **dimension** must **match** the number of elements of the **original array**"
   ]
  },
  {
   "cell_type": "code",
   "execution_count": null,
   "metadata": {},
   "outputs": [],
   "source": [
    "a = np.array([1, 2, 3, 4, 5, 6, 7, 8, 9, 10, 11, 12])\n",
    "a.shape"
   ]
  },
  {
   "cell_type": "code",
   "execution_count": null,
   "metadata": {
    "cell_style": "split"
   },
   "outputs": [],
   "source": [
    "a.resize(2, 2, 3)  # indexes of a are modified"
   ]
  },
  {
   "cell_type": "code",
   "execution_count": null,
   "metadata": {
    "cell_style": "split"
   },
   "outputs": [],
   "source": [
    "a.shape"
   ]
  },
  {
   "cell_type": "code",
   "execution_count": null,
   "metadata": {
    "cell_style": "split"
   },
   "outputs": [],
   "source": [
    "a.resize(2, 6) # indexes of a are modified\n",
    "a"
   ]
  },
  {
   "cell_type": "code",
   "execution_count": null,
   "metadata": {
    "cell_style": "split"
   },
   "outputs": [],
   "source": [
    "a.shape"
   ]
  },
  {
   "cell_type": "markdown",
   "metadata": {
    "slideshow": {
     "slide_type": "slide"
    }
   },
   "source": [
    "## repeating elements of an array to create a new one"
   ]
  },
  {
   "cell_type": "code",
   "execution_count": null,
   "metadata": {
    "cell_style": "center"
   },
   "outputs": [],
   "source": [
    "a = np.array([[1, 2], [3, 4]])\n",
    "a"
   ]
  },
  {
   "cell_type": "markdown",
   "metadata": {},
   "source": [
    "we **repeat** each element *3* times and return a **flattened** array"
   ]
  },
  {
   "cell_type": "code",
   "execution_count": null,
   "metadata": {
    "cell_style": "center"
   },
   "outputs": [],
   "source": [
    "np.repeat(a, 3)"
   ]
  },
  {
   "cell_type": "markdown",
   "metadata": {
    "slideshow": {
     "slide_type": "slide"
    }
   },
   "source": [
    "## axes of an array"
   ]
  },
  {
   "cell_type": "markdown",
   "metadata": {
    "cell_style": "split"
   },
   "source": [
    "two **axes**: **rows** (indice *0*) and  **columns** (indice *1*)"
   ]
  },
  {
   "cell_type": "code",
   "execution_count": null,
   "metadata": {
    "cell_style": "split"
   },
   "outputs": [],
   "source": [
    "a = np.random.randint(0, 20, 12).reshape(3, 4)\n",
    "a"
   ]
  },
  {
   "cell_type": "markdown",
   "metadata": {
    "cell_style": "split"
   },
   "source": [
    "three **axes**:\n",
    "   - **blocks** (indice *0*)\n",
    "   - **rows** (indice *1*)\n",
    "   - **columns** (indice *2*"
   ]
  },
  {
   "cell_type": "code",
   "execution_count": null,
   "metadata": {
    "cell_style": "split"
   },
   "outputs": [],
   "source": [
    "a = np.random.randint(0, 20, 12).reshape(2, 2, 3)\n",
    "a"
   ]
  },
  {
   "cell_type": "markdown",
   "metadata": {
    "slideshow": {
     "slide_type": "slide"
    }
   },
   "source": [
    "## repeating along an axis of the array 1/2"
   ]
  },
  {
   "cell_type": "code",
   "execution_count": null,
   "metadata": {},
   "outputs": [],
   "source": [
    "a = np.array([[1, 2], [3, 4]])\n",
    "a"
   ]
  },
  {
   "cell_type": "markdown",
   "metadata": {
    "cell_style": "split"
   },
   "source": [
    "**axis 0** we repeat the **rows**"
   ]
  },
  {
   "cell_type": "markdown",
   "metadata": {
    "cell_style": "split"
   },
   "source": [
    "**axis 1** we repeat the **columns**"
   ]
  },
  {
   "cell_type": "code",
   "execution_count": null,
   "metadata": {
    "cell_style": "split"
   },
   "outputs": [],
   "source": [
    "# repeating each row 2 times\n",
    "np.repeat(a, 2, axis=0)"
   ]
  },
  {
   "cell_type": "code",
   "execution_count": null,
   "metadata": {
    "cell_style": "split"
   },
   "outputs": [],
   "source": [
    "# repeating the first column 2 times\n",
    "#           the second column 3 times\n",
    "np.repeat(a, (2, 3), axis=1)"
   ]
  },
  {
   "cell_type": "markdown",
   "metadata": {
    "slideshow": {
     "slide_type": "slide"
    }
   },
   "source": [
    "## repeating along an axis of the array 2/2"
   ]
  },
  {
   "cell_type": "code",
   "execution_count": null,
   "metadata": {
    "cell_style": "center"
   },
   "outputs": [],
   "source": [
    "a = np.array([1, 2, 3, 4, 5, 6, 7, 8, 9, 10, 11, 12]).reshape(2, 2, 3)\n",
    "a # we have two blocks of 2 rows and 3 columns"
   ]
  },
  {
   "cell_type": "code",
   "execution_count": null,
   "metadata": {
    "cell_style": "split"
   },
   "outputs": [],
   "source": [
    "# we repeat each block 2 times\n",
    "np.repeat(a, 2, axis=0)"
   ]
  },
  {
   "cell_type": "code",
   "execution_count": null,
   "metadata": {
    "cell_style": "split"
   },
   "outputs": [],
   "source": [
    "# we repeat first block 2 times\n",
    "#           second block 1 times \n",
    "np.repeat(a, (2, 1), axis=0)"
   ]
  },
  {
   "cell_type": "markdown",
   "metadata": {
    "slideshow": {
     "slide_type": "slide"
    }
   },
   "source": [
    "## tiling an array with the function *numpy.tile*"
   ]
  },
  {
   "cell_type": "code",
   "execution_count": null,
   "metadata": {},
   "outputs": [],
   "source": [
    "a = np.array([1, 2, 3, 4]).reshape(2, 2)\n",
    "a"
   ]
  },
  {
   "cell_type": "markdown",
   "metadata": {
    "cell_style": "split"
   },
   "source": [
    "we tile the array\n",
    "   - 2 times in column axis"
   ]
  },
  {
   "cell_type": "code",
   "execution_count": null,
   "metadata": {
    "cell_style": "split"
   },
   "outputs": [],
   "source": [
    "np.tile(a, 3)"
   ]
  },
  {
   "cell_type": "markdown",
   "metadata": {},
   "source": [
    "---"
   ]
  },
  {
   "cell_type": "markdown",
   "metadata": {
    "cell_style": "split",
    "slideshow": {
     "slide_type": "-"
    }
   },
   "source": [
    "we tile the array\n",
    "   - 2 times in row axis\n",
    "   - 3 times in column axis"
   ]
  },
  {
   "cell_type": "code",
   "execution_count": null,
   "metadata": {
    "cell_style": "split"
   },
   "outputs": [],
   "source": [
    "np.tile(a, (2, 3))"
   ]
  },
  {
   "cell_type": "markdown",
   "metadata": {
    "slideshow": {
     "slide_type": "slide"
    }
   },
   "source": [
    "## concatenating arrays with the method *numpy.ndarray.concatenate*\n",
    "\n",
    "   - it **returns** a **new** object of type *numpy.ndarray*"
   ]
  },
  {
   "cell_type": "code",
   "execution_count": null,
   "metadata": {},
   "outputs": [],
   "source": [
    "a = np.array([[1, 2, 3], \n",
    "              [4, 5, 6]])\n",
    "b = np.array([[10, 20, 30],\n",
    "              [40, 50, 60]])"
   ]
  },
  {
   "cell_type": "markdown",
   "metadata": {},
   "source": [
    "you concatenate along an **axis**, in a 2-dimensional array:\n",
    "   - rows are **added** on top of each other ($0$ is for **rows**)\n",
    "   - columns are **added** after each other ($1$ is for **columns**)"
   ]
  },
  {
   "cell_type": "code",
   "execution_count": null,
   "metadata": {
    "cell_style": "split"
   },
   "outputs": [],
   "source": [
    "np.concatenate((a, b), axis=0)"
   ]
  },
  {
   "cell_type": "code",
   "execution_count": null,
   "metadata": {
    "cell_style": "split"
   },
   "outputs": [],
   "source": [
    "np.concatenate((a, b), axis=1)"
   ]
  },
  {
   "cell_type": "markdown",
   "metadata": {
    "slideshow": {
     "slide_type": "slide"
    }
   },
   "source": [
    "## stacking  python arrays along an axis with the function *numpy.stack*\n",
    "   - you **join** a sequence of **arrays** along an **axis**"
   ]
  },
  {
   "cell_type": "code",
   "execution_count": null,
   "metadata": {},
   "outputs": [],
   "source": [
    "a = [0, 2, 3,], [5, 6, 7], [8, 9, 10]"
   ]
  },
  {
   "cell_type": "markdown",
   "metadata": {
    "cell_style": "split"
   },
   "source": [
    "**axis 0**: sub-arrays became rows "
   ]
  },
  {
   "cell_type": "code",
   "execution_count": null,
   "metadata": {
    "cell_style": "split"
   },
   "outputs": [],
   "source": [
    "np.stack(a, axis = 0)"
   ]
  },
  {
   "cell_type": "markdown",
   "metadata": {
    "cell_style": "split"
   },
   "source": [
    "**axis 1** : sub-arrays became columns"
   ]
  },
  {
   "cell_type": "code",
   "execution_count": null,
   "metadata": {
    "cell_style": "split"
   },
   "outputs": [],
   "source": [
    "np.stack(a, axis = 1)"
   ]
  },
  {
   "cell_type": "markdown",
   "metadata": {},
   "source": [
    "   - see also *np.dstack*, *np.hstack*, *np.vstack*, *numpy.column_stack*"
   ]
  },
  {
   "cell_type": "markdown",
   "metadata": {
    "slideshow": {
     "slide_type": "slide"
    }
   },
   "source": [
    "## **concatenation** in higher dimensions (a full example) [1/4]"
   ]
  },
  {
   "cell_type": "markdown",
   "metadata": {},
   "source": [
    "we create two *numpy.ndarray* *a* and *b*, each having *2* groups of *3* matrices of *4* rows and *5* columns"
   ]
  },
  {
   "cell_type": "code",
   "execution_count": null,
   "metadata": {},
   "outputs": [],
   "source": [
    "a = np.array(np.arange(0, 240, 2)) # even numbers from 0 to 238\n",
    "a.resize(2, 3, 4, 5)               # 2 groups of 3 matrix of 4 rows and 5 columns"
   ]
  },
  {
   "cell_type": "code",
   "execution_count": null,
   "metadata": {},
   "outputs": [],
   "source": [
    "b = np.array(np.arange(1, 241, 2)) # odd numbers from 1 to 249\n",
    "b.resize(2, 3, 4, 5)               # 2 groups of 3 matrix of 4 rows and 5 columns"
   ]
  },
  {
   "cell_type": "markdown",
   "metadata": {
    "slideshow": {
     "slide_type": "slide"
    }
   },
   "source": [
    "### **concatenation** along axis $0$ [2/4]\n",
    "   - we stacking the $2$ times ($3$ matrices of size $4 \\times 5$ of the two arrays)\n",
    "   - i.e. we obtain $4$ times $3$ matrices of size $4 \\times 5$"
   ]
  },
  {
   "cell_type": "code",
   "execution_count": null,
   "metadata": {
    "cell_style": "split"
   },
   "outputs": [],
   "source": [
    "c = np.concatenate((a, b), axis=0)\n",
    "c.shape"
   ]
  },
  {
   "cell_type": "markdown",
   "metadata": {
    "cell_style": "split"
   },
   "source": [
    "   - $c[0]$ is $a[0]$\n",
    "   - $c[1]$ is $a[1]$\n",
    "   - $c[2]$ is $b[0]$\n",
    "   - $c[3]$ is $b[1]$"
   ]
  },
  {
   "cell_type": "code",
   "execution_count": null,
   "metadata": {},
   "outputs": [],
   "source": [
    "np.all( c[0] == a[0] )   # we compare arrays we obtain an array of booleans\n",
    "                         # we check if all elements are true"
   ]
  },
  {
   "cell_type": "markdown",
   "metadata": {
    "slideshow": {
     "slide_type": "slide"
    }
   },
   "source": [
    "### **concatenation** of *a* and *b* **along** axis $1$ [3/4]\n",
    "   - it is like stacking the $3$ matrices of size $4 \\times 5$ of the two arrays\n",
    "   - i.e. we obtain $2$ times $6$ matrices of size $4 \\times 5$\n",
    "      - the three first matrices come from *a* (even numbers)\n",
    "      - the three other matrices come from *b* (odd numbers)"
   ]
  },
  {
   "cell_type": "code",
   "execution_count": null,
   "metadata": {},
   "outputs": [],
   "source": [
    "d = np.concatenate((a, b), axis=1)\n",
    "d.shape"
   ]
  },
  {
   "cell_type": "markdown",
   "metadata": {
    "slideshow": {
     "slide_type": "slide"
    }
   },
   "source": [
    "### **concatenation** of *a* and *b* **along** axis $2$ [4/4]\n",
    "   - in our example, it is like **stacking** the rows of the matrices ($4 \\times 5$)\n",
    "   - i.e. we obtain $2$ times $3$ matrices of size $8 \\times 5$\n",
    "      - the first four rows of the matrices come from *a* (even numbers)\n",
    "      - the other rows come from *b* (odd numbers)\n",
    "            \n",
    "   - same for last **axis** $3$"
   ]
  },
  {
   "cell_type": "code",
   "execution_count": null,
   "metadata": {
    "slideshow": {
     "slide_type": "slide"
    }
   },
   "outputs": [],
   "source": [
    "d = np.concatenate((a, b), axis=2)\n",
    "d.shape"
   ]
  },
  {
   "cell_type": "markdown",
   "metadata": {
    "slideshow": {
     "slide_type": "slide"
    }
   },
   "source": [
    "## spliting arrays with the method *numpy.ndarray.split*"
   ]
  },
  {
   "cell_type": "markdown",
   "metadata": {},
   "source": [
    "   - You split along a dimension i.e. along an **axis**\n",
    "   - for 2-dimensional arrays ($0$ is for **rows**, $1$ is for **columns**)"
   ]
  },
  {
   "cell_type": "markdown",
   "metadata": {},
   "source": [
    "   - an array of $30$ elements between $0$ and $30$\n",
    "   - is created with a **shape** $(30, )$ using the function *nyumpy.arange*\n",
    "   - and **reshaped** to a $5 \\times 6$ matrix"
   ]
  },
  {
   "cell_type": "code",
   "execution_count": null,
   "metadata": {},
   "outputs": [],
   "source": [
    "a = np.array(np.arange(1, 31)).reshape((5, 6)) # one 5 x 6 matrix of 64-bits integers\n",
    "a"
   ]
  },
  {
   "cell_type": "code",
   "execution_count": null,
   "metadata": {},
   "outputs": [],
   "source": [
    "a.dtype, a.shape"
   ]
  },
  {
   "cell_type": "markdown",
   "metadata": {},
   "source": [
    "to **split**\n",
    "   - you indicate the way to split: integer or sub-arrays\n",
    "   - and the **axis** to split"
   ]
  },
  {
   "cell_type": "markdown",
   "metadata": {},
   "source": [
    "**split** giving an integer $n$:\n",
    "   - it splits along the **axis** in two sub-arrays\n",
    "   - the first array contains the $n$ elements (if possible)\n",
    "   - the last sub-array contains what remains\n",
    "   - the last sub-array can be empty\n",
    "\n",
    "   \n",
    "   \n",
    "   \n",
    "   - if the index exceeds the shape\n",
    "   - a partial sub-array is returned"
   ]
  },
  {
   "cell_type": "code",
   "execution_count": null,
   "metadata": {},
   "outputs": [],
   "source": [
    "np.split(a, [3]) # in axis 0 by default (rows)\n",
    "                 # you split in two sub-arrays\n",
    "                 #   - the first is a 3 x 6 sub-array\n",
    "                 #   - the second is a 2 x 6 partial sub-array"
   ]
  },
  {
   "cell_type": "code",
   "execution_count": null,
   "metadata": {},
   "outputs": [],
   "source": [
    "np.split(a, [6]) # the first sub-array is the 5 x 6 array\n",
    "                 # the second sub-array is an empty-array"
   ]
  },
  {
   "cell_type": "code",
   "execution_count": null,
   "metadata": {},
   "outputs": [],
   "source": [
    "np.split(a, [10]) # the first sub-array is the 5 x 6 array\n",
    "                  # the second sub-array is an empty-array"
   ]
  },
  {
   "cell_type": "code",
   "execution_count": null,
   "metadata": {},
   "outputs": [],
   "source": [
    "np.split(a, [3], axis=1) # the first sub-array contains the 3 columns\n",
    "                         # the second the 3 others"
   ]
  },
  {
   "cell_type": "code",
   "execution_count": null,
   "metadata": {},
   "outputs": [],
   "source": [
    "np.split(a, [6], axis=1) # the first sub-array contains the 3 columns\n",
    "                         # the second is empty"
   ]
  },
  {
   "cell_type": "markdown",
   "metadata": {},
   "source": [
    "**split** giving an **section**:\n",
    "   - you indicate along which **axis** the array must be split\n",
    "   - and you indicate the sections\n",
    "   - e.g. **[p, q]** in **axis 0** results in:\n",
    "      - the **first** **p** elements of the axis\n",
    "      - then the elements from **p** to **q** (**q** is not included)\n",
    "      - then the elements from **q** to the end"
   ]
  },
  {
   "cell_type": "code",
   "execution_count": null,
   "metadata": {},
   "outputs": [],
   "source": [
    "a"
   ]
  },
  {
   "cell_type": "code",
   "execution_count": null,
   "metadata": {},
   "outputs": [],
   "source": [
    "np.split(a, [2, 4], axis=0) # the 2 first rows (indices 0 and 1)\n",
    "                            # then the rows from indice 2 to 4 not included (indice 3 and 4)\n",
    "                            # then the last row (indice 4)"
   ]
  },
  {
   "cell_type": "code",
   "execution_count": null,
   "metadata": {},
   "outputs": [],
   "source": [
    "a1, a2, a3 = np.split(a, [2, 5], axis=1) # the two first columns\n",
    "                                         # then the columns from 2 to 5 (not included)\n",
    "                                         # then the last column"
   ]
  },
  {
   "cell_type": "code",
   "execution_count": null,
   "metadata": {},
   "outputs": [],
   "source": [
    "a1.shape, a2.shape, a3.shape"
   ]
  },
  {
   "cell_type": "markdown",
   "metadata": {},
   "source": [
    "#### spliting in higher dimensions"
   ]
  },
  {
   "cell_type": "code",
   "execution_count": null,
   "metadata": {},
   "outputs": [],
   "source": [
    "a = np.array(np.arange(1, 61)).reshape((2, 5, 6)) # 2 arrays of 5 x 6 matrix\n",
    "a"
   ]
  },
  {
   "cell_type": "markdown",
   "metadata": {},
   "source": [
    "along **axis 0**\n",
    "   - i have two matrices of shape $5 \\times 6$"
   ]
  },
  {
   "cell_type": "code",
   "execution_count": null,
   "metadata": {},
   "outputs": [],
   "source": [
    "np.split(a, [1], axis=0) # i split the axis 0 in two, one matrix in each sub-array"
   ]
  },
  {
   "cell_type": "markdown",
   "metadata": {},
   "source": [
    "along **axis 1** (rows of the matrices)"
   ]
  },
  {
   "cell_type": "code",
   "execution_count": null,
   "metadata": {},
   "outputs": [],
   "source": [
    "a"
   ]
  },
  {
   "cell_type": "code",
   "execution_count": null,
   "metadata": {},
   "outputs": [],
   "source": [
    "a1, a2 = np.split(a, [2], axis=1) # we obtain two sub-arrays\n",
    "                                  # they have each:\n",
    "                                  #    - two times one array of size 2 x six (the [2])\n",
    "                                  # the first has two matrices with the first 2 rows (as requested by [2])\n",
    "                                  # the second has the remaining three rows"
   ]
  },
  {
   "cell_type": "code",
   "execution_count": null,
   "metadata": {},
   "outputs": [],
   "source": [
    "a1"
   ]
  },
  {
   "cell_type": "code",
   "execution_count": null,
   "metadata": {},
   "outputs": [],
   "source": [
    "a2"
   ]
  },
  {
   "cell_type": "code",
   "execution_count": null,
   "metadata": {},
   "outputs": [],
   "source": [
    "a1.shape, a2.shape"
   ]
  },
  {
   "cell_type": "code",
   "execution_count": null,
   "metadata": {},
   "outputs": [],
   "source": [
    "a1, a2"
   ]
  },
  {
   "cell_type": "markdown",
   "metadata": {
    "slideshow": {
     "slide_type": "slide"
    }
   },
   "source": []
  },
  {
   "cell_type": "markdown",
   "metadata": {},
   "source": [
    "## 8) deleting elements, rows and columns"
   ]
  },
  {
   "cell_type": "markdown",
   "metadata": {},
   "source": [
    "   - **delete** return a new array"
   ]
  },
  {
   "cell_type": "code",
   "execution_count": null,
   "metadata": {},
   "outputs": [],
   "source": [
    "a = np.arange(0, 12).reshape(3, 4)\n",
    "a"
   ]
  },
  {
   "cell_type": "markdown",
   "metadata": {},
   "source": [
    "   - deleting **rows**"
   ]
  },
  {
   "cell_type": "code",
   "execution_count": null,
   "metadata": {},
   "outputs": [],
   "source": [
    "np.delete(a, [0], axis=0)"
   ]
  },
  {
   "cell_type": "markdown",
   "metadata": {},
   "source": [
    "   - deleting **column** "
   ]
  },
  {
   "cell_type": "code",
   "execution_count": null,
   "metadata": {},
   "outputs": [],
   "source": [
    "np.delete(a, [0, 3], axis=1)"
   ]
  },
  {
   "cell_type": "markdown",
   "metadata": {},
   "source": [
    "   - deleting **elements**"
   ]
  },
  {
   "cell_type": "code",
   "execution_count": null,
   "metadata": {},
   "outputs": [],
   "source": [
    "np.delete(a, [0, 6, 11])"
   ]
  },
  {
   "cell_type": "code",
   "execution_count": null,
   "metadata": {},
   "outputs": [],
   "source": [
    "# x.put?"
   ]
  },
  {
   "cell_type": "markdown",
   "metadata": {},
   "source": [
    "## XXX) sorting an array "
   ]
  },
  {
   "cell_type": "markdown",
   "metadata": {},
   "source": [
    "   - *numpy.sort* returns a **copy** of the array\n",
    "   - *numpy.ndarray.sort* sorts the array **in place**\n",
    "      \n",
    "   - you sort along an **axis**"
   ]
  },
  {
   "cell_type": "code",
   "execution_count": null,
   "metadata": {},
   "outputs": [],
   "source": [
    "a = np.random.randint(0, 10, (3, 4))\n",
    "a"
   ]
  },
  {
   "cell_type": "markdown",
   "metadata": {},
   "source": [
    "   - we can sort in the **axis** of the **column**\n",
    "   - i.e. the **columns** will be sorted for each **row**\n",
    "   - i.e. **row** will end-up **sorted**"
   ]
  },
  {
   "cell_type": "code",
   "execution_count": null,
   "metadata": {},
   "outputs": [],
   "source": [
    "np.sort(a, axis=1)  # a.sort() will modify a in place"
   ]
  },
  {
   "cell_type": "markdown",
   "metadata": {},
   "source": [
    "  - we can sort along the **axis** of the **rows**"
   ]
  }
 ],
 "metadata": {
  "celltoolbar": "Slideshow",
  "ipub": {
   "sphinx": {
    "toggle_input": true,
    "toggle_input_all": true,
    "toggle_output": true,
    "toggle_output_all": true
   }
  },
  "kernelspec": {
   "display_name": "Python 3",
   "language": "python",
   "name": "python3"
  },
  "language_info": {
   "codemirror_mode": {
    "name": "ipython",
    "version": 3
   },
   "file_extension": ".py",
   "mimetype": "text/x-python",
   "name": "python",
   "nbconvert_exporter": "python",
   "pygments_lexer": "ipython3",
   "version": "3.7.3"
  },
  "notebookname": "creation and utilities",
  "rise": {
   "autolaunch": true,
   "slideNumber": "c/t",
   "start_slideshow_at": "selected",
   "theme": "sky",
   "transition": "cube"
  },
  "version": "1.0"
 },
 "nbformat": 4,
 "nbformat_minor": 4
}
