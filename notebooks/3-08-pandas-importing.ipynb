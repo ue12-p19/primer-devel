{
 "cells": [
  {
   "cell_type": "markdown",
   "metadata": {},
   "source": [
    "<div class=\"licence\">\n",
    "<span>Licence CC BY-NC-ND</span>\n",
    "<span>Valérie Roy</span>\n",
    "<span><img src=\"media/ensmp-25-alpha.png\" /></span>\n",
    "</div>"
   ]
  },
  {
   "cell_type": "markdown",
   "metadata": {},
   "source": [
    "# Importing data in pandas"
   ]
  },
  {
   "cell_type": "code",
   "execution_count": null,
   "metadata": {},
   "outputs": [],
   "source": [
    "import numpy as np\n",
    "import pandas as pd"
   ]
  },
  {
   "cell_type": "markdown",
   "metadata": {},
   "source": [
    "## common file formats"
   ]
  },
  {
   "cell_type": "markdown",
   "metadata": {},
   "source": [
    "   - **pandas** can **import** files of **a lot of formats**\n",
    "      - CSV, JSON, HTML, Excel, ...\n",
    "   - let us play with the **csv** format  \n",
    "   - [RTFM about the others](http://pandas.pydata.org/pandas-docs/stable/user_guide/io.html)"
   ]
  },
  {
   "cell_type": "markdown",
   "metadata": {
    "slideshow": {
     "slide_type": "slide"
    }
   },
   "source": [
    "## writing a csv file\n",
    "\n",
    "*csv* stands for \"comma separated values\""
   ]
  },
  {
   "cell_type": "markdown",
   "metadata": {},
   "source": [
    "   - to write a **csv** use the **method** *pandas.DataFrame.to_csv*"
   ]
  },
  {
   "cell_type": "code",
   "execution_count": null,
   "metadata": {
    "slideshow": {
     "slide_type": "subslide"
    }
   },
   "outputs": [],
   "source": [
    "# just preparing a dataframe...\n",
    "\n",
    "distance = pd.Series(\n",
    "    [0.387, 0.723, 30, 1., 5.203, 1.523, 9.6, 19.19],\n",
    "    index=['Mercury', 'Venus', 'Neptune', 'Earth', \n",
    "           'Jupiter', 'Mars', 'Saturn', 'Uranus'])\n",
    "\n",
    "lowest_temp = pd.Series(\n",
    "    [-200.0, 446.0,  -90.0, -125.0, -140.0],\n",
    "    index=['Mercury', 'Venus', 'Earth', 'Jupiter', 'Mars'])\n",
    "\n",
    "highest_temp = pd.Series(\n",
    "    [430.0, 490.0, 60.0, 17.0, 20.0],\n",
    "    index=['Mercury', 'Venus', 'Earth', 'Jupiter', 'Mars'])\n",
    "\n",
    "planets = pd.DataFrame(\n",
    "   {'distance': distance,\n",
    "    'lowest temperature': lowest_temp, \n",
    "    'highest temperature': highest_temp, \n",
    "    'origin':'solar system'})"
   ]
  },
  {
   "cell_type": "code",
   "execution_count": null,
   "metadata": {
    "cell_style": "center",
    "slideshow": {
     "slide_type": "subslide"
    }
   },
   "outputs": [],
   "source": [
    "planets"
   ]
  },
  {
   "cell_type": "code",
   "execution_count": null,
   "metadata": {},
   "outputs": [],
   "source": [
    "planets.index"
   ]
  },
  {
   "cell_type": "code",
   "execution_count": null,
   "metadata": {},
   "outputs": [],
   "source": [
    "# this will store our data in file \"planets.csv\"\n",
    "planets.to_csv('planets.csv', index_label='names', float_format='%.3f')"
   ]
  },
  {
   "cell_type": "markdown",
   "metadata": {
    "slideshow": {
     "slide_type": "subslide"
    }
   },
   "source": [
    "   - a file **planets.csv** has been **created** in your current folder\n",
    "   - we gave a **name** to the **rows** index"
   ]
  },
  {
   "cell_type": "markdown",
   "metadata": {},
   "source": [
    "   - the csv **format** is very **simple**: a $2 \\times 2$ matrix, where:\n",
    "   - by default, the **first** line is the **columns** header  \n",
    "    (**labels** if any, else **indexes**)\n",
    "   - the **other** lines are **rows**, one per line,  \n",
    "     with values **separed by** ','"
   ]
  },
  {
   "cell_type": "code",
   "execution_count": null,
   "metadata": {
    "slideshow": {
     "slide_type": "subslide"
    }
   },
   "outputs": [],
   "source": [
    "# here is the actual file contents\n",
    "\n",
    "!cat planets.csv"
   ]
  },
  {
   "cell_type": "markdown",
   "metadata": {
    "slideshow": {
     "slide_type": "slide"
    }
   },
   "source": [
    "## reading a *csv* file\n",
    "\n",
    "- to **read** a **csv** use the **method** *pandas.DataFrame.read_csv*"
   ]
  },
  {
   "cell_type": "code",
   "execution_count": null,
   "metadata": {},
   "outputs": [],
   "source": [
    "# this returns a dataframe allright\n",
    "df_from_file = pd.read_csv('planets.csv')\n",
    "\n",
    "# BUT: the file does have names for the columns\n",
    "# however nothing says that the first column\n",
    "# should be the index..\n",
    "# so let us enforce that\n",
    "\n",
    "df_from_file = df_from_file.set_index('names')     "
   ]
  },
  {
   "cell_type": "code",
   "execution_count": null,
   "metadata": {},
   "outputs": [],
   "source": [
    "df_from_file"
   ]
  },
  {
   "cell_type": "markdown",
   "metadata": {
    "slideshow": {
     "slide_type": "subslide"
    }
   },
   "source": [
    "**digression**"
   ]
  },
  {
   "cell_type": "code",
   "execution_count": null,
   "metadata": {
    "slideshow": {
     "slide_type": ""
    }
   },
   "outputs": [],
   "source": [
    "# NOTE that in the mix we have lost a bit of precision\n",
    "\n",
    "df_from_file == planets"
   ]
  },
  {
   "cell_type": "markdown",
   "metadata": {
    "slideshow": {
     "slide_type": "subslide"
    }
   },
   "source": [
    "**2 phenomena are at work here**\n",
    "\n",
    "- we had explicitly used format `.3f` \n",
    "\n",
    "> `planets.to_csv('planets.csv', index_label='names',\n",
    ">   float_format='%.3f')\n",
    "\n",
    "- even without that, floats **always** come with precision issues [see e.g. this issue on GH](https://github.com/pandas-dev/pandas/issues/17154)\n",
    "\n",
    "> *trying to get exact equality out of floating points is generally a losing battle*"
   ]
  },
  {
   "cell_type": "code",
   "execution_count": null,
   "metadata": {},
   "outputs": [],
   "source": [
    "planets.loc['Mars', 'distance'], df_from_file.loc['Mars', 'distance']"
   ]
  },
  {
   "cell_type": "markdown",
   "metadata": {
    "slideshow": {
     "slide_type": "subslide"
    }
   },
   "source": [
    "**See also**\n",
    "\n",
    "method *pandas.DataFrame.read_csv*\n",
    "   - has many optional **parameters** that you can **set**\n",
    "   - see the help"
   ]
  },
  {
   "cell_type": "code",
   "execution_count": null,
   "metadata": {},
   "outputs": [],
   "source": [
    "#pd.read_csv?"
   ]
  },
  {
   "cell_type": "code",
   "execution_count": null,
   "metadata": {
    "jupyter": {
     "source_hidden": true
    }
   },
   "outputs": [],
   "source": [
    "#pd.DataFrame.to_csv?"
   ]
  }
 ],
 "metadata": {
  "celltoolbar": "Slideshow",
  "ipub": {
   "sphinx": {
    "toggle_input": true,
    "toggle_input_all": true,
    "toggle_output": true,
    "toggle_output_all": true
   }
  },
  "kernelspec": {
   "display_name": "Python 3",
   "language": "python",
   "name": "python3"
  },
  "language_info": {
   "codemirror_mode": {
    "name": "ipython",
    "version": 3
   },
   "file_extension": ".py",
   "mimetype": "text/x-python",
   "name": "python",
   "nbconvert_exporter": "python",
   "pygments_lexer": "ipython3",
   "version": "3.7.3"
  },
  "notebookname": "importing",
  "rise": {
   "autolaunch": true,
   "slideNumber": "c/t",
   "start_slideshow_at": "selected",
   "theme": "sky",
   "transition": "cube"
  },
  "version": "1.0"
 },
 "nbformat": 4,
 "nbformat_minor": 4
}
