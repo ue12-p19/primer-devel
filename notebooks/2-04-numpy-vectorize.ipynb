{
 "cells": [
  {
   "cell_type": "markdown",
   "metadata": {},
   "source": [
    "<div class=\"licence\">\n",
    "<span>Licence CC BY-NC-ND</span>\n",
    "<span>Valérie Roy</span>\n",
    "<span><img src=\"media/ensmp-25-alpha.png\" /></span>\n",
    "</div>"
   ]
  },
  {
   "cell_type": "code",
   "execution_count": null,
   "metadata": {},
   "outputs": [],
   "source": [
    "import numpy as np"
   ]
  },
  {
   "cell_type": "markdown",
   "metadata": {
    "slideshow": {
     "slide_type": "slide"
    }
   },
   "source": [
    "# vectorized operations and UFunc\n",
    "(Universal Function)"
   ]
  },
  {
   "cell_type": "markdown",
   "metadata": {
    "slideshow": {
     "slide_type": "slide"
    }
   },
   "source": [
    "## never use a pythoh-loop on *numpy.ndarray*\n",
    "\n",
    "when you apply a **function** to **each** element of a *numpy.ndarray*:\n",
    "   - **never** use a *python* **loop** !\n",
    "   - **always** use the **vectorized** version of the **function**"
   ]
  },
  {
   "cell_type": "markdown",
   "metadata": {
    "slideshow": {
     "slide_type": "-"
    }
   },
   "source": [
    "**why ?**\n",
    "   - for the sake of **computation time**\n",
    "   - iterative version are always **slowler**\n",
    "   \n",
    "   - *numpy* provides **optimized functions for its numeric types**"
   ]
  },
  {
   "cell_type": "markdown",
   "metadata": {
    "slideshow": {
     "slide_type": "slide"
    }
   },
   "source": [
    "**there is no magic !**"
   ]
  },
  {
   "cell_type": "markdown",
   "metadata": {
    "slideshow": {
     "slide_type": "-"
    }
   },
   "source": [
    "   - the **loop** is simply done in the **underlying library** (in C)\n",
    "   - but it is **much faster**"
   ]
  },
  {
   "cell_type": "markdown",
   "metadata": {},
   "source": [
    "*numpy* vectorized functions are called **UFuncs** (universal functions)\n",
    "   - see https://docs.scipy.org/doc/numpy/reference/ufuncs.html"
   ]
  },
  {
   "cell_type": "markdown",
   "metadata": {
    "slideshow": {
     "slide_type": "slide"
    }
   },
   "source": [
    "## magic function"
   ]
  },
  {
   "cell_type": "markdown",
   "metadata": {
    "slideshow": {
     "slide_type": "-"
    }
   },
   "source": [
    "   - using the **magic function** *%timeit*\n",
    "   - we will compute the **execution time** of functions\n",
    "   - to **get an idea** of what's going on\n",
    "   \n",
    "   \n",
    "   - but **never** deduce **intangible rules** from **execution times**\n",
    "   - (too many parameters are **at play**)"
   ]
  },
  {
   "cell_type": "markdown",
   "metadata": {
    "slideshow": {
     "slide_type": "-"
    }
   },
   "source": [
    "the **magic** functions *%timeit*\n",
    "\n",
    "   - it measures **execution time** of **small code snippet**\n",
    "   - note that it won't be **relevant** on a **small** number of elements"
   ]
  },
  {
   "cell_type": "markdown",
   "metadata": {
    "slideshow": {
     "slide_type": "slide"
    }
   },
   "source": [
    "## computing execution time\n",
    "\n",
    "we **raise** each element of an array *a* to the **power** of *2*\n",
    "\n",
    "the array must be **\"big enough\"** for the **computation time** to be **relevant**"
   ]
  },
  {
   "cell_type": "code",
   "execution_count": null,
   "metadata": {
    "slideshow": {
     "slide_type": "-"
    }
   },
   "outputs": [],
   "source": [
    "a = np.arange(1, 10000) "
   ]
  },
  {
   "cell_type": "markdown",
   "metadata": {},
   "source": [
    "   1. with a **python loop** by creating a **python-list**\n",
    "   1. with a **python loop** by creating a **numpy.ndarray**\n",
    "   1. with a **python comprehension**\n",
    "   1. with a **vectorized numpy operation**\n",
    "   1. with a **vectorized numpy function**"
   ]
  },
  {
   "cell_type": "markdown",
   "metadata": {
    "cell_style": "center",
    "slideshow": {
     "slide_type": "slide"
    }
   },
   "source": [
    "1) with a **python loop** by creating a **python-list**"
   ]
  },
  {
   "cell_type": "code",
   "execution_count": null,
   "metadata": {
    "cell_style": "center"
   },
   "outputs": [],
   "source": [
    "l = []"
   ]
  },
  {
   "cell_type": "code",
   "execution_count": null,
   "metadata": {
    "cell_style": "center"
   },
   "outputs": [],
   "source": [
    "%timeit -n 5 for e in a: l.append(e**2)"
   ]
  },
  {
   "cell_type": "markdown",
   "metadata": {
    "slideshow": {
     "slide_type": "slide"
    }
   },
   "source": [
    "2) with a python **loop**, by creating a **numpy.ndarray**"
   ]
  },
  {
   "cell_type": "code",
   "execution_count": null,
   "metadata": {},
   "outputs": [],
   "source": [
    "l = np.empty(a.shape)\n",
    "%timeit -n 5 for i in np.arange(0, a.shape[0]): l[i] = a[i]**2"
   ]
  },
  {
   "cell_type": "markdown",
   "metadata": {
    "slideshow": {
     "slide_type": "slide"
    }
   },
   "source": [
    "3) with a python **comprehension**"
   ]
  },
  {
   "cell_type": "code",
   "execution_count": null,
   "metadata": {},
   "outputs": [],
   "source": [
    "%timeit -n 5 [e**2 for e in a]"
   ]
  },
  {
   "cell_type": "markdown",
   "metadata": {
    "slideshow": {
     "slide_type": "slide"
    }
   },
   "source": [
    "4) with a **vectorized** *numpy* operation"
   ]
  },
  {
   "cell_type": "code",
   "execution_count": null,
   "metadata": {},
   "outputs": [],
   "source": [
    "%timeit -n 5 a**2"
   ]
  },
  {
   "cell_type": "markdown",
   "metadata": {
    "slideshow": {
     "slide_type": "slide"
    }
   },
   "source": [
    "5) with a **vectorized** *numpy* function"
   ]
  },
  {
   "cell_type": "code",
   "execution_count": null,
   "metadata": {},
   "outputs": [],
   "source": [
    "%timeit -n 5 np.power(a, 2)"
   ]
  },
  {
   "cell_type": "markdown",
   "metadata": {
    "slideshow": {
     "slide_type": "slide"
    }
   },
   "source": [
    "**conclusion**\n",
    "   - vectorized operations and functions are **way** much faster !\n",
    "   - never use **python loop**"
   ]
  },
  {
   "cell_type": "markdown",
   "metadata": {
    "slideshow": {
     "slide_type": "slide"
    }
   },
   "source": [
    "## classical operators **are** **UFuncs**\n",
    "   - when applied to *numpy.ndarray*\n",
    "   - classical **operators** are **mapped** to their *numpy* **ufuncs** counterpart\n",
    "\n",
    "\n",
    "| operator | numpy function    |\n",
    "|----------|-------------------|\n",
    "|   $+$    | *numpy.add* |\n",
    "|   $-$    | *numpy.substract*|\n",
    "|   $-$    | *numpy.negative* |\n",
    "|   $*$    | *numpy.multiply* |\n",
    "|   $/$    | *numpy.divide* |\n",
    "|   $//$   | *numpy.floor_divide* |\n",
    "|   $\\%$   | *numpy.mod* |\n",
    "|   $**$   | *numpy.power* |"
   ]
  },
  {
   "cell_type": "markdown",
   "metadata": {
    "slideshow": {
     "slide_type": "slide"
    }
   },
   "source": [
    "## adding elements to elements two *numpy.ndarray*"
   ]
  },
  {
   "cell_type": "code",
   "execution_count": null,
   "metadata": {
    "slideshow": {
     "slide_type": "-"
    }
   },
   "outputs": [],
   "source": [
    "a = np.array([1, 2, 3, 4, 5])\n",
    "b = np.array([10, 20, 30, 40, 50])"
   ]
  },
  {
   "cell_type": "code",
   "execution_count": null,
   "metadata": {
    "slideshow": {
     "slide_type": "-"
    }
   },
   "outputs": [],
   "source": [
    "a + b"
   ]
  },
  {
   "cell_type": "code",
   "execution_count": null,
   "metadata": {
    "cell_style": "split"
   },
   "outputs": [],
   "source": [
    "a = np.arange(1, 100000)\n",
    "b = np.arange(1, 100000)\n",
    "%timeit -n 5 a + b"
   ]
  },
  {
   "cell_type": "code",
   "execution_count": null,
   "metadata": {
    "cell_style": "split"
   },
   "outputs": [],
   "source": [
    "a = np.arange(1, 100000)\n",
    "b = np.arange(1, 100000)\n",
    "%timeit -n 5 np.add(a, b)"
   ]
  },
  {
   "cell_type": "markdown",
   "metadata": {
    "slideshow": {
     "slide_type": "slide"
    }
   },
   "source": [
    "## adding *python lists* elements by elements "
   ]
  },
  {
   "cell_type": "markdown",
   "metadata": {
    "slideshow": {
     "slide_type": "-"
    }
   },
   "source": [
    "because, in python **list** *+* is **concatenation**  \n",
    "to add **element-by-element** you must use *numpy.add*"
   ]
  },
  {
   "cell_type": "code",
   "execution_count": null,
   "metadata": {
    "cell_style": "split"
   },
   "outputs": [],
   "source": [
    "c = [1, 2, 3, 4, 5]\n",
    "d = [10, 20, 30, 40, 50]"
   ]
  },
  {
   "cell_type": "code",
   "execution_count": null,
   "metadata": {
    "cell_style": "split"
   },
   "outputs": [],
   "source": [
    "c + d # concatenation of the two lists !"
   ]
  },
  {
   "cell_type": "code",
   "execution_count": null,
   "metadata": {},
   "outputs": [],
   "source": [
    "np.add(c, d)"
   ]
  },
  {
   "cell_type": "code",
   "execution_count": null,
   "metadata": {
    "cell_style": "center"
   },
   "outputs": [],
   "source": [
    "a = list(range(1, 100000))\n",
    "b = list(range(1, 100000))\n",
    "%timeit -n 5 np.add(a, b)"
   ]
  },
  {
   "cell_type": "markdown",
   "metadata": {
    "slideshow": {
     "slide_type": "slide"
    }
   },
   "source": [
    "**a function add for python list and numpy ndarrays**"
   ]
  },
  {
   "cell_type": "code",
   "execution_count": null,
   "metadata": {},
   "outputs": [],
   "source": [
    "def add (x, y):\n",
    "    return np.add(x, y)\n",
    "add(c, d)"
   ]
  },
  {
   "cell_type": "code",
   "execution_count": null,
   "metadata": {
    "cell_style": "split"
   },
   "outputs": [],
   "source": [
    "a = list(range(1, 100000))\n",
    "b = list(range(1, 100000))\n",
    "%timeit -n 5 add(a, b)"
   ]
  },
  {
   "cell_type": "code",
   "execution_count": null,
   "metadata": {
    "cell_style": "split"
   },
   "outputs": [],
   "source": [
    "a = np.arange(1, 100000)\n",
    "b = np.arange(1, 100000)\n",
    "%timeit -n 5 add(a, b)"
   ]
  },
  {
   "cell_type": "markdown",
   "metadata": {
    "slideshow": {
     "slide_type": "slide"
    }
   },
   "source": [
    "## there are many other **UFuncs** functions \n",
    "\n",
    "| function         | numpy function    |\n",
    "|------------------|-------------------|\n",
    "| comparison       | *numpy.greater*, *numpy.less*, *numpy.equal*, ...|\n",
    "|   absolute       | *numpy.absolute* or *numpy.abs* |\n",
    "|   trigonometry   | *numpy.sin*, *numpy.cos*, ... |\n",
    "|   exponentiation | *numpy.exp*, *numpy.exp2*, .. |\n",
    "|   logarithm      | *np.log*, *np.log2*, *numpy.log10* |\n",
    "|   Floating point | *numpy.isinf*, ....|\n",
    "| not a number     | *numpy.isnan*, *numpy.isnull*, ...|\n",
    "\n"
   ]
  },
  {
   "cell_type": "markdown",
   "metadata": {
    "slideshow": {
     "slide_type": "slide"
    }
   },
   "source": [
    "## checking if a function is a **UFunc**\n",
    "\n",
    "a **UFunc** is a *numpy.ufunc* object thus its **type** is *numpy.ufunc*  \n",
    "\n",
    "\n",
    "ask for  **help**\n",
    "   - *help(np.sum)*\n",
    "   - *numpy.sum?*\n",
    "   - *numpy.info(numpy.sum)*"
   ]
  },
  {
   "cell_type": "code",
   "execution_count": null,
   "metadata": {
    "cell_style": "split"
   },
   "outputs": [],
   "source": [
    "type(np.sum) # numpy.sum is not a Ufunc"
   ]
  },
  {
   "cell_type": "code",
   "execution_count": null,
   "metadata": {
    "cell_style": "split"
   },
   "outputs": [],
   "source": [
    "type(np.add) # numpty.ad is a UFunc"
   ]
  },
  {
   "cell_type": "code",
   "execution_count": null,
   "metadata": {
    "cell_style": "split"
   },
   "outputs": [],
   "source": [
    "# help(np.add)"
   ]
  },
  {
   "cell_type": "code",
   "execution_count": null,
   "metadata": {
    "cell_style": "split"
   },
   "outputs": [],
   "source": [
    "# np.add?"
   ]
  },
  {
   "cell_type": "code",
   "execution_count": null,
   "metadata": {
    "cell_style": "split"
   },
   "outputs": [],
   "source": [
    "# np.info(np.add)"
   ]
  },
  {
   "cell_type": "markdown",
   "metadata": {
    "slideshow": {
     "slide_type": "slide"
    }
   },
   "source": [
    "## conclusion\n",
    "   - **writing** code using **vectorization** can be **harder** than **loop-based** python **code**\n",
    "   - but for the sake of **time performance** you **cannot** avoid it\n",
    "   \n",
    "   \n",
    "   - it is just **another way** to **think** your problem\n",
    "   - you might need to **use** **different** algorithms or **invent** **new** ones"
   ]
  }
 ],
 "metadata": {
  "celltoolbar": "Slideshow",
  "ipub": {
   "sphinx": {
    "toggle_input": true,
    "toggle_input_all": true,
    "toggle_output": true,
    "toggle_output_all": true
   }
  },
  "kernelspec": {
   "display_name": "Python 3",
   "language": "python",
   "name": "python3"
  },
  "language_info": {
   "codemirror_mode": {
    "name": "ipython",
    "version": 3
   },
   "file_extension": ".py",
   "mimetype": "text/x-python",
   "name": "python",
   "nbconvert_exporter": "python",
   "pygments_lexer": "ipython3",
   "version": "3.7.3"
  },
  "notebookname": "vectorizing",
  "rise": {
   "autolaunch": true,
   "slideNumber": "c/t",
   "start_slideshow_at": "selected",
   "theme": "sky",
   "transition": "cube"
  },
  "version": "1.0"
 },
 "nbformat": 4,
 "nbformat_minor": 4
}
