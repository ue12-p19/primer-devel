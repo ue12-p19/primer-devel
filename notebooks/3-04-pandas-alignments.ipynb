{
 "cells": [
  {
   "cell_type": "markdown",
   "metadata": {
    "slideshow": {
     "slide_type": ""
    }
   },
   "source": [
    "<div class=\"licence\">\n",
    "<span>Licence CC BY-NC-ND</span>\n",
    "<span>Valérie Roy</span>\n",
    "<span><img src=\"media/ensmp-25-alpha.png\" /></span>\n",
    "</div>"
   ]
  },
  {
   "cell_type": "markdown",
   "metadata": {},
   "source": [
    "# **alignment** of **labels** (rows, columns)"
   ]
  },
  {
   "cell_type": "markdown",
   "metadata": {},
   "source": [
    "   - *pandas* automatically **align labels**  \n",
    "     to **perform** binary operations\n",
    "   - operations will be performed on values with the **same row** and **same column** label"
   ]
  },
  {
   "cell_type": "markdown",
   "metadata": {},
   "source": [
    "   - to have **label alignement** you must use **pandas** **Ufuncs**, not the **numpy**\n",
    "   - *numpy* Ufuncs will **operate** on the underlying **ndarray** independently of the **labels**"
   ]
  },
  {
   "cell_type": "code",
   "execution_count": null,
   "metadata": {},
   "outputs": [],
   "source": [
    "import numpy as np\n",
    "import pandas as pd"
   ]
  },
  {
   "cell_type": "markdown",
   "metadata": {
    "slideshow": {
     "slide_type": "slide"
    }
   },
   "source": [
    "## **alignment** on *pandas.Series* (on **rows** labels)"
   ]
  },
  {
   "cell_type": "code",
   "execution_count": null,
   "metadata": {},
   "outputs": [],
   "source": [
    "s1 = pd.Series([1, 2, 3, 4],     index=['a', 'b', 'c', 'a'])\n",
    "s2 = pd.Series([10, 20, 30, 40], index=['a', 'e', 'f', 'c'])"
   ]
  },
  {
   "cell_type": "code",
   "execution_count": null,
   "metadata": {},
   "outputs": [],
   "source": [
    "s1 + s2  # s1['a'] + s2['a'] = 1 + 10\n",
    "         # s1['a'] + s2['a'] = 4 + 10\n",
    "         # s1['b'] + np.NaN  \n",
    "         # s1['c'] + s2['c'] = 3 + 40\n",
    "         # np.NaN + s2['e']\n",
    "         # np.NaN + s2['f']"
   ]
  },
  {
   "cell_type": "markdown",
   "metadata": {
    "slideshow": {
     "slide_type": "subslide"
    }
   },
   "source": [
    "   - **missing** values are replaced by *numpy.NaN*\n",
    "   - note that a *numpy.NaN* **\"contaminates\"** an expression:\n",
    "      - *numpy.NaN + 20 = numpy.Nan*"
   ]
  },
  {
   "cell_type": "code",
   "execution_count": null,
   "metadata": {},
   "outputs": [],
   "source": [
    "s1.add(s2) # the same as s1 + s2"
   ]
  },
  {
   "cell_type": "markdown",
   "metadata": {
    "slideshow": {
     "slide_type": "subslide"
    }
   },
   "source": [
    "   - you can **fill** missing values\n",
    "   - (here missing values are replaced by $0$)"
   ]
  },
  {
   "cell_type": "code",
   "execution_count": null,
   "metadata": {},
   "outputs": [],
   "source": [
    "s1.add(s2, fill_value=0)"
   ]
  },
  {
   "cell_type": "markdown",
   "metadata": {
    "slideshow": {
     "slide_type": "subslide"
    }
   },
   "source": [
    "   - **but** *numpy* **does not align** labels"
   ]
  },
  {
   "cell_type": "code",
   "execution_count": null,
   "metadata": {},
   "outputs": [],
   "source": [
    "np.add(s1, s2) # it adds the two numpy.ndarrays"
   ]
  },
  {
   "cell_type": "markdown",
   "metadata": {
    "slideshow": {
     "slide_type": "slide"
    }
   },
   "source": [
    "## **alignment** on *pandas.DataFrame* ( on **rows** and **columns** labels)"
   ]
  },
  {
   "cell_type": "markdown",
   "metadata": {},
   "source": [
    "example\n",
    "   - number of **kilometers** done in **bicycles**, **cars** and **bus**\n",
    "   - by **Garance**, **Nathalie** et **Baptiste**"
   ]
  },
  {
   "cell_type": "code",
   "execution_count": null,
   "metadata": {
    "slideshow": {
     "slide_type": "subslide"
    }
   },
   "outputs": [],
   "source": [
    "names = ['Garance', 'Nathalie', 'Baptiste']\n",
    "\n",
    "bicycle = pd.Series([280, 340, 150], index=['Garance', 'Nathalie', 'Baptiste'])\n",
    "car = pd.Series([1500, 450, 670], index=['Garance', 'Nathalie', 'Baptiste'])\n",
    "bus = pd.Series([30, 11, 36], index=['Garance', 'Nathalie', 'Baptiste'])\n",
    "\n",
    "trips_in_january = pd.DataFrame({'bicycle':bicycle, 'car': car, 'bus': bus})\n"
   ]
  },
  {
   "cell_type": "code",
   "execution_count": null,
   "metadata": {
    "slideshow": {
     "slide_type": ""
    }
   },
   "outputs": [],
   "source": [
    "trips_in_january"
   ]
  },
  {
   "cell_type": "code",
   "execution_count": null,
   "metadata": {
    "slideshow": {
     "slide_type": "subslide"
    }
   },
   "outputs": [],
   "source": [
    "bicycle = pd.Series([130, 80], index=['Garance', 'Baptiste']) # missing Nathalie's values\n",
    "car = pd.Series([270, 890], index=['Nathalie', 'Baptiste'])  # missing Garance's values\n",
    "bus = pd.Series([27, 130], index=['Garance', 'Nathalie'])    # missing Baptiste' values\n",
    "\n",
    "trips_in_february = pd.DataFrame({'bicycle':bicycle, 'car': car, 'bus': bus})"
   ]
  },
  {
   "cell_type": "code",
   "execution_count": null,
   "metadata": {},
   "outputs": [],
   "source": [
    "trips_in_february # missing values are np.NaN"
   ]
  },
  {
   "cell_type": "code",
   "execution_count": null,
   "metadata": {
    "slideshow": {
     "slide_type": "subslide"
    }
   },
   "outputs": [],
   "source": [
    "trips_with_NaN = trips_in_january + trips_in_february # alignment is done on rows and columns"
   ]
  },
  {
   "cell_type": "code",
   "execution_count": null,
   "metadata": {},
   "outputs": [],
   "source": [
    "trips_with_NaN"
   ]
  },
  {
   "cell_type": "code",
   "execution_count": null,
   "metadata": {
    "slideshow": {
     "slide_type": "subslide"
    }
   },
   "outputs": [],
   "source": [
    "trips = trips_in_january.add(trips_in_february, fill_value=0)  # alignment is done on rows and columns"
   ]
  },
  {
   "cell_type": "code",
   "execution_count": null,
   "metadata": {},
   "outputs": [],
   "source": [
    "trips"
   ]
  },
  {
   "cell_type": "markdown",
   "metadata": {
    "slideshow": {
     "slide_type": "slide"
    }
   },
   "source": [
    "## **alignment** on *pandas.Series*  and *pandas.DataFrame*"
   ]
  },
  {
   "cell_type": "code",
   "execution_count": null,
   "metadata": {},
   "outputs": [],
   "source": [
    "df = pd.DataFrame({'a': [1, 2, 3], 'b': [10, 20, 30], 'c': [100, 200, 300]}, \n",
    "                  index=['x', 'y', 'z'])"
   ]
  },
  {
   "cell_type": "code",
   "execution_count": null,
   "metadata": {
    "cell_style": "split",
    "slideshow": {
     "slide_type": ""
    }
   },
   "outputs": [],
   "source": [
    "df"
   ]
  },
  {
   "cell_type": "code",
   "execution_count": null,
   "metadata": {
    "cell_style": "split"
   },
   "outputs": [],
   "source": [
    "# we will add a **row**\n",
    "s_row = pd.Series([0.10, 0.20, 0.30], \n",
    "                  index=['a', 'b', 'c'])\n",
    "s_row"
   ]
  },
  {
   "cell_type": "markdown",
   "metadata": {
    "slideshow": {
     "slide_type": "subslide"
    }
   },
   "source": [
    "   - the *pandas.Series* is considered as a **row**\n",
    "   - the row is **broadcasted** on the three indexes\n",
    "   - the **alignement** is done on the **row** and the **columns** **labels**"
   ]
  },
  {
   "cell_type": "code",
   "execution_count": null,
   "metadata": {},
   "outputs": [],
   "source": [
    "df + s_row"
   ]
  },
  {
   "cell_type": "code",
   "execution_count": null,
   "metadata": {
    "slideshow": {
     "slide_type": "subslide"
    }
   },
   "outputs": [],
   "source": [
    "# now we tried the same trick\n",
    "# but indexed on the columns instead \n",
    "\n",
    "s_col = pd.Series([1000, 2000, 3000], index=['x', 'y', 'z'])"
   ]
  },
  {
   "cell_type": "code",
   "execution_count": null,
   "metadata": {},
   "outputs": [],
   "source": [
    "df + s_col # it is wrong !\n",
    "           # for pandas, the series is a **row**\n",
    "           # 'x', 'y' and 'z' are considered as new **columns**\n",
    "           # (axis is 1)"
   ]
  },
  {
   "cell_type": "markdown",
   "metadata": {
    "slideshow": {
     "slide_type": "subslide"
    }
   },
   "source": [
    "you must indicate the **axis**\n",
    "   - *axis=0* **means** that the **Series labels** are **indexes**\n",
    "   - the **broadcast** is done **column-wise**"
   ]
  },
  {
   "cell_type": "code",
   "execution_count": null,
   "metadata": {
    "jupyter": {
     "source_hidden": true
    }
   },
   "outputs": [],
   "source": [
    "df.add(s_col, axis=0)\n",
    "# s_col is 'x' [1000]\n",
    "#          'y' [2000]\n",
    "#          'z' [3000]\n",
    "\n",
    "# s_col broadcasted is 'x' [1000][1000][1000]\n",
    "#                      'y' [2000][2000][2000]\n",
    "#                      'z' [3000][3000][3000]"
   ]
  }
 ],
 "metadata": {
  "celltoolbar": "Slideshow",
  "ipub": {
   "sphinx": {
    "toggle_input": true,
    "toggle_input_all": true,
    "toggle_output": true,
    "toggle_output_all": true
   }
  },
  "kernelspec": {
   "display_name": "Python 3",
   "language": "python",
   "name": "python3"
  },
  "language_info": {
   "codemirror_mode": {
    "name": "ipython",
    "version": 3
   },
   "file_extension": ".py",
   "mimetype": "text/x-python",
   "name": "python",
   "nbconvert_exporter": "python",
   "pygments_lexer": "ipython3",
   "version": "3.7.3"
  },
  "notebookname": "alignments",
  "rise": {
   "autolaunch": true,
   "slideNumber": "c/t",
   "start_slideshow_at": "selected",
   "theme": "sky",
   "transition": "cube"
  },
  "version": "1.0"
 },
 "nbformat": 4,
 "nbformat_minor": 4
}
