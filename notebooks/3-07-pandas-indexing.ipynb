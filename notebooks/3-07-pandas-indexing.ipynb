{
 "cells": [
  {
   "cell_type": "markdown",
   "metadata": {},
   "source": [
    "<div class=\"licence\">\n",
    "<span>Licence CC BY-NC-ND</span>\n",
    "<span>Valérie Roy</span>\n",
    "<span><img src=\"media/ensmp-25-alpha.png\" /></span>\n",
    "</div>"
   ]
  },
  {
   "cell_type": "markdown",
   "metadata": {
    "jupyter": {
     "source_hidden": true
    }
   },
   "source": [
    "# **multi indexing** in  *pandas*"
   ]
  },
  {
   "cell_type": "markdown",
   "metadata": {},
   "source": [
    "   - in a *pandas.DataFrame* axis labels are **rows** and **columns** labels\n",
    "   - they are represented by *Index* **objects**\n",
    "   - with **row** and **column** **Index** you have **two-dimensional structured** arrays "
   ]
  },
  {
   "cell_type": "code",
   "execution_count": null,
   "metadata": {},
   "outputs": [],
   "source": [
    "import numpy as np\n",
    "import pandas as pd"
   ]
  },
  {
   "cell_type": "code",
   "execution_count": null,
   "metadata": {
    "cell_style": "split",
    "slideshow": {
     "slide_type": "subslide"
    }
   },
   "outputs": [],
   "source": [
    "df = pd.DataFrame(\n",
    "  {'row': [0, 1, 2],\n",
    "   'one_X': [1, 2, 3],\n",
    "   'one_Y': [4, 5, 6],\n",
    "   'two_X': [10, 20, 30],\n",
    "   'two-Y': [40, 50, 60]})\n",
    "df"
   ]
  },
  {
   "cell_type": "code",
   "execution_count": null,
   "metadata": {
    "cell_style": "split"
   },
   "outputs": [],
   "source": [
    "# we set the index to the 'row' column\n",
    "df = df.set_index('row')   \n",
    "df"
   ]
  },
  {
   "cell_type": "markdown",
   "metadata": {
    "slideshow": {
     "slide_type": "subslide"
    }
   },
   "source": [
    "   - this example appears to be more **structured**\n",
    "   - we can see **two labelled pairs** of values $(X_{one}, Y_{one})$ and $(X_{two}, Y_{two})$\n",
    "   - the **first** pair is labelled by **one** and the **second** by **two**"
   ]
  },
  {
   "cell_type": "markdown",
   "metadata": {},
   "source": [
    "   - there is a **hierarchy** in the labels"
   ]
  },
  {
   "cell_type": "markdown",
   "metadata": {},
   "source": [
    "the **two pairs** of values $(X_{one}, Y_{one})$ and $(X_{two}, Y_{two})$ can be seen as:\n",
    "   - **two labels**: $one$ and $two$\n",
    "   - with **two values** labelled **X** and **Y** each\n",
    "   - with **three values** each indexed by the label **row**"
   ]
  },
  {
   "cell_type": "markdown",
   "metadata": {
    "slideshow": {
     "slide_type": "subslide"
    }
   },
   "source": [
    "something like this:\n",
    "\n",
    "|$\\  $ |one   |$\\ $ |$\\ $ |two | $\\ $|\n",
    "|-     |-     |-    |    -|  - |-    |\n",
    "|$\\ $  |**X**     |**Y**    |$\\ $ |**X**   |**Y**    |\n",
    "|**row**   | $\\ $ |$\\ $ |$\\ $ |$\\ $|$\\ $ | \n",
    "|**0**  |1     |4    |$\\ $ |10  |40   |\n",
    "|**1**  |2     |5    |$\\ $ |20  |50   |\n",
    "|**2**  |3     |6    |$\\ $ |30  |60   |\n"
   ]
  },
  {
   "cell_type": "markdown",
   "metadata": {
    "slideshow": {
     "slide_type": "subslide"
    }
   },
   "source": [
    "it is **multi-indexing**\n",
    "\n",
    "   - you want to express **multi-dimensionality** in a data structure of **lower dimension**\n",
    "      - a *pandas.Series* with **more than one** dimension\n",
    "      - a *pandas.DataFrame* with **more than two** dimensions\n",
    "      \n",
    "      \n",
    "\n",
    "   - **columns** **Index** will be **replaced by** a **columns multiIndex**"
   ]
  },
  {
   "cell_type": "markdown",
   "metadata": {},
   "source": [
    "   - you express the **multi-indexing** by **tuples** of **related labels**"
   ]
  },
  {
   "cell_type": "code",
   "execution_count": null,
   "metadata": {
    "cell_style": "center"
   },
   "outputs": [],
   "source": [
    "tuples_from_pairs = [\n",
    "    ('one', 'X'), ('one', 'Y'),\n",
    "    ('two', 'X'), ('two', 'Y')]"
   ]
  },
  {
   "cell_type": "code",
   "execution_count": null,
   "metadata": {},
   "outputs": [],
   "source": [
    "# we create a multi-index object from the tuples\n",
    "pd.MultiIndex.from_tuples(tuples_from_pairs)"
   ]
  },
  {
   "cell_type": "markdown",
   "metadata": {
    "slideshow": {
     "slide_type": "subslide"
    }
   },
   "source": [
    "a multi-index is **composed** of:\n",
    "   - the **levels** (groups of labels in ***descending*** **levels** like $[[one, two], [X, Y]]$)\n",
    "   - their **coding**"
   ]
  },
  {
   "cell_type": "markdown",
   "metadata": {},
   "source": [
    "   - you **replace** the columns index by a columns multi-index"
   ]
  },
  {
   "cell_type": "code",
   "execution_count": null,
   "metadata": {},
   "outputs": [],
   "source": [
    "df.columns = pd.MultiIndex.from_tuples(tuples_from_pairs)\n",
    "\n",
    "df"
   ]
  },
  {
   "cell_type": "markdown",
   "metadata": {
    "slideshow": {
     "slide_type": "subslide"
    }
   },
   "source": [
    "   - you have now an indexing with **hierarchical columns**"
   ]
  },
  {
   "cell_type": "markdown",
   "metadata": {},
   "source": [
    "   - to  **access** multi-index  use the *pandas.DataFrame.loc* and *pandas.DataFrame.loc*\n",
    "   - the first index is the row and the second is the column"
   ]
  },
  {
   "cell_type": "code",
   "execution_count": null,
   "metadata": {
    "cell_style": "split"
   },
   "outputs": [],
   "source": [
    "# first rows, all columns\n",
    "df.loc[0]"
   ]
  },
  {
   "cell_type": "code",
   "execution_count": null,
   "metadata": {
    "cell_style": "split"
   },
   "outputs": [],
   "source": [
    "# first rows, columns 'one'\n",
    "df.loc[0, 'one'] "
   ]
  },
  {
   "cell_type": "code",
   "execution_count": null,
   "metadata": {},
   "outputs": [],
   "source": [
    "df.loc[0, ['one', 'two']] # first row\n",
    "                          # list of columns 'one' and 'two'"
   ]
  },
  {
   "cell_type": "markdown",
   "metadata": {
    "slideshow": {
     "slide_type": "subslide"
    }
   },
   "source": [
    "   - the index of the columns is **hierarchical**\n",
    "   - i.e. it can be described using **tuples** of **labels**\n",
    "   - the same **tuples** you use to construct the **multi-index**\n",
    "   - $(one, X), (one, Y), (two, X), (two, Y)$"
   ]
  },
  {
   "cell_type": "markdown",
   "metadata": {},
   "source": [
    "   - you can use **tuples** of **labels** with **.loc**"
   ]
  },
  {
   "cell_type": "code",
   "execution_count": null,
   "metadata": {},
   "outputs": [],
   "source": [
    "df.loc[0, ('two', 'X')] # first row\n",
    "                        # columns label ('one', 'X')"
   ]
  },
  {
   "cell_type": "code",
   "execution_count": null,
   "metadata": {},
   "outputs": [],
   "source": [
    "df.loc[[0,2], ('two', 'X')] # columns label ('one', 'X')\n",
    "                            # of first and third rows"
   ]
  },
  {
   "cell_type": "markdown",
   "metadata": {
    "slideshow": {
     "slide_type": "subslide"
    }
   },
   "source": [
    "   - you can use **.iloc**"
   ]
  },
  {
   "cell_type": "code",
   "execution_count": null,
   "metadata": {},
   "outputs": [],
   "source": [
    "df.iloc[0] # first row"
   ]
  },
  {
   "cell_type": "markdown",
   "metadata": {
    "slideshow": {
     "slide_type": "subslide"
    }
   },
   "source": [
    "   - multi-index on **rows** and **columns**"
   ]
  },
  {
   "cell_type": "code",
   "execution_count": null,
   "metadata": {
    "cell_style": "split"
   },
   "outputs": [],
   "source": [
    "# index for years and visits\n",
    "index = pd.MultiIndex.from_product(\n",
    "    [[2013, 2014],\n",
    "     [1, 2, 3]],\n",
    "    names=['year', 'visit'])"
   ]
  },
  {
   "cell_type": "code",
   "execution_count": null,
   "metadata": {
    "cell_style": "split"
   },
   "outputs": [],
   "source": [
    "# columns for clients and medical data\n",
    "columns = pd.MultiIndex.from_product(\n",
    "    [['Alice', 'Bob'],\n",
    "     ['before test', 'after test']],\n",
    "    names=['Patient', 'HearthRate'])"
   ]
  },
  {
   "cell_type": "code",
   "execution_count": null,
   "metadata": {},
   "outputs": [],
   "source": [
    "data = np.random.randint(60, 100, 24).reshape(6, 4) # heart rates between 60 and 100 beats\n",
    "\n",
    "medical_data = pd.DataFrame(data, index=index, columns=columns)\n",
    "medical_data"
   ]
  },
  {
   "cell_type": "code",
   "execution_count": null,
   "metadata": {
    "slideshow": {
     "slide_type": "subslide"
    }
   },
   "outputs": [],
   "source": [
    "medical_data.columns"
   ]
  },
  {
   "cell_type": "code",
   "execution_count": null,
   "metadata": {},
   "outputs": [],
   "source": [
    "medical_data.loc[:, 'Alice'] # all medical data on Alice"
   ]
  },
  {
   "cell_type": "code",
   "execution_count": null,
   "metadata": {
    "slideshow": {
     "slide_type": "subslide"
    }
   },
   "outputs": [],
   "source": [
    "medical_data.loc[(2013, 2), ('Alice', 'before test')] # Alice's HearthRate 'before test'\n",
    "                                                      # in the second visit in 2013,"
   ]
  },
  {
   "cell_type": "code",
   "execution_count": null,
   "metadata": {},
   "outputs": [],
   "source": [
    "medical_data.loc[(2013, 2), ('Alice', 'before test')] = 82"
   ]
  },
  {
   "cell_type": "markdown",
   "metadata": {},
   "source": [
    "   - you **must** use **.loc** or **.iloc** to modify an element\n",
    "   - never use direct access\n",
    "   - http://pandas.pydata.org/pandas-docs/stable/indexing.html#returning-a-view-versus-a"
   ]
  },
  {
   "cell_type": "code",
   "execution_count": null,
   "metadata": {
    "slideshow": {
     "slide_type": "subslide"
    }
   },
   "outputs": [],
   "source": [
    "medical_data < 80 # you can test"
   ]
  }
 ],
 "metadata": {
  "celltoolbar": "Slideshow",
  "ipub": {
   "sphinx": {
    "toggle_input": true,
    "toggle_input_all": true,
    "toggle_output": true,
    "toggle_output_all": true
   }
  },
  "kernelspec": {
   "display_name": "Python 3",
   "language": "python",
   "name": "python3"
  },
  "language_info": {
   "codemirror_mode": {
    "name": "ipython",
    "version": 3
   },
   "file_extension": ".py",
   "mimetype": "text/x-python",
   "name": "python",
   "nbconvert_exporter": "python",
   "pygments_lexer": "ipython3",
   "version": "3.7.3"
  },
  "notebookname": "indexing",
  "rise": {
   "autolaunch": true,
   "slideNumber": "c/t",
   "start_slideshow_at": "selected",
   "theme": "sky",
   "transition": "cube"
  },
  "version": "1.0"
 },
 "nbformat": 4,
 "nbformat_minor": 4
}
