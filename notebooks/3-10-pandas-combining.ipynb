{
 "cells": [
  {
   "cell_type": "markdown",
   "metadata": {},
   "source": [
    "<div class=\"licence\">\n",
    "<span>Licence CC BY-NC-ND</span>\n",
    "<span>Valérie Roy</span>\n",
    "<span><img src=\"media/ensmp-25-alpha.png\" /></span>\n",
    "</div>"
   ]
  },
  {
   "cell_type": "markdown",
   "metadata": {},
   "source": [
    "# combining datasets"
   ]
  },
  {
   "cell_type": "markdown",
   "metadata": {
    "slideshow": {
     "slide_type": "slide"
    }
   },
   "source": [
    "## concatenating **data frames** : *pandas.concat*"
   ]
  },
  {
   "cell_type": "markdown",
   "metadata": {},
   "source": [
    "   - you can **concatenate** *pandas.Series*\n",
    "   - you can **concatenate** *pandas.DataFrame*  \n",
    "     along a given **axis** (rows or columns)\n",
    "   - it generates a **new** *pandas.DataFrame*\n",
    "   - that has pieces \"glued together\"\n",
    "   - there are many optional **parameters** you can **set**"
   ]
  },
  {
   "cell_type": "code",
   "execution_count": null,
   "metadata": {},
   "outputs": [],
   "source": [
    "import numpy as np\n",
    "import pandas as pd"
   ]
  },
  {
   "cell_type": "markdown",
   "metadata": {
    "slideshow": {
     "slide_type": "slide"
    }
   },
   "source": [
    "### along the **columns axis**"
   ]
  },
  {
   "cell_type": "code",
   "execution_count": null,
   "metadata": {
    "cell_style": "split"
   },
   "outputs": [],
   "source": [
    "# preparing data (dc = dataset for concat)\n",
    "# x123\n",
    "dc01 = pd.DataFrame(\n",
    "    [[1.70, 67], [1.67, 59], [1.84, 78],\n",
    "     [1.86, 90,], [1.56, 45,], [1.57, 63]],\n",
    "    columns=['height', 'weight'],\n",
    "    index=['Gabriel', 'Emma', 'Jules',\n",
    "           'Louise', 'Hugo', 'Nathan'])"
   ]
  },
  {
   "cell_type": "code",
   "execution_count": null,
   "metadata": {
    "cell_style": "split"
   },
   "outputs": [],
   "source": [
    "dc02 = pd.DataFrame(\n",
    "    [['M', 'Lower'], ['F', 'Middle'], ['M', 'Lower'],\n",
    "     ['F', 'Middle'], ['M', 'Middle'], ['M', 'Lower']],\n",
    "    columns=['sex', 'income'],\n",
    "    index=['Gabriel', 'Emma', 'Jules',\n",
    "           'Louise', 'Hugo', 'Nathan'])"
   ]
  },
  {
   "cell_type": "markdown",
   "metadata": {},
   "source": [
    "*displayed on next slide...*"
   ]
  },
  {
   "cell_type": "markdown",
   "metadata": {
    "slideshow": {
     "slide_type": "subslide"
    }
   },
   "source": [
    "   - their **concatenation**"
   ]
  },
  {
   "cell_type": "code",
   "execution_count": null,
   "metadata": {
    "cell_style": "split"
   },
   "outputs": [],
   "source": [
    "dc01.head(2)"
   ]
  },
  {
   "cell_type": "code",
   "execution_count": null,
   "metadata": {
    "cell_style": "split"
   },
   "outputs": [],
   "source": [
    "dc02.head(2)"
   ]
  },
  {
   "cell_type": "code",
   "execution_count": null,
   "metadata": {},
   "outputs": [],
   "source": [
    "# remember that axis #0 = lines and axis #1 = columns\n",
    "dc03 = pd.concat([dc01, dc02], axis=1)\n",
    "dc03.head(2)"
   ]
  },
  {
   "cell_type": "markdown",
   "metadata": {
    "slideshow": {
     "slide_type": "slide"
    }
   },
   "source": [
    "### concatenation along the **rows** **axis** "
   ]
  },
  {
   "cell_type": "code",
   "execution_count": null,
   "metadata": {},
   "outputs": [],
   "source": [
    "# preparing data\n",
    "# x456\n",
    "dc04 = dc03\n",
    "dc05 = pd.DataFrame(\n",
    "    [[1.54, 45, 'F', 'Lower'],\n",
    "     [1.76, 84, 'F', 'Middle'],\n",
    "     [1.67, 72, 'F', 'Middle']],\n",
    "    columns=['height', 'weight', 'sex', 'income'],\n",
    "    index=['Alice', 'Paul', 'Léna'])"
   ]
  },
  {
   "cell_type": "markdown",
   "metadata": {
    "slideshow": {
     "slide_type": "subslide"
    }
   },
   "source": [
    "   - their **concatenation**"
   ]
  },
  {
   "cell_type": "code",
   "execution_count": null,
   "metadata": {
    "cell_style": "split"
   },
   "outputs": [],
   "source": [
    "print(len(dc04))\n",
    "dc04.head(2)"
   ]
  },
  {
   "cell_type": "code",
   "execution_count": null,
   "metadata": {
    "cell_style": "split"
   },
   "outputs": [],
   "source": [
    "print(len(dc05))\n",
    "dc05.head(2)\n"
   ]
  },
  {
   "cell_type": "code",
   "execution_count": null,
   "metadata": {
    "cell_style": "split"
   },
   "outputs": [],
   "source": [
    "dc06 = pd.concat([dc04, dc05], axis=0)\n",
    "\n",
    "print(len(dc06))"
   ]
  },
  {
   "cell_type": "code",
   "execution_count": null,
   "metadata": {
    "cell_style": "split"
   },
   "outputs": [],
   "source": [
    "display(dc06.head(1))\n",
    "display(dc06.tail(1))"
   ]
  },
  {
   "cell_type": "markdown",
   "metadata": {
    "slideshow": {
     "slide_type": "slide"
    }
   },
   "source": [
    "### concatenation with duplicate indexes"
   ]
  },
  {
   "cell_type": "code",
   "execution_count": null,
   "metadata": {},
   "outputs": [],
   "source": [
    "# preparing data\n",
    "# x789\n",
    "dc07 = pd.DataFrame(\n",
    "    [[1.54, 45, 'F', 'Lower'], \n",
    "     [1.76, 84, 'F', 'Middle'],\n",
    "     [1.67, 72, 'F', 'Middle']],\n",
    "    columns=['height', 'weight', 'sex', 'income'],\n",
    "    index=['Emma', 'Paul', 'Louise'])\n",
    "dc08 = dc03"
   ]
  },
  {
   "cell_type": "markdown",
   "metadata": {
    "slideshow": {
     "slide_type": "subslide"
    }
   },
   "source": [
    "- in case of duplicate indexes\n",
    "- by defaut you will get **several** indexes or columns with the **same name**"
   ]
  },
  {
   "cell_type": "code",
   "execution_count": null,
   "metadata": {
    "cell_style": "split",
    "slideshow": {
     "slide_type": ""
    }
   },
   "outputs": [],
   "source": [
    "# indexes in first dataset\n",
    "for name in dc07.index:\n",
    "    print(name, end=\" \")"
   ]
  },
  {
   "cell_type": "code",
   "execution_count": null,
   "metadata": {
    "cell_style": "split"
   },
   "outputs": [],
   "source": [
    "# same on second dataset\n",
    "for name in dc08.index:\n",
    "    print(name, end=\" \")"
   ]
  },
  {
   "cell_type": "code",
   "execution_count": null,
   "metadata": {},
   "outputs": [],
   "source": [
    "set(dc07.index).intersection(dc08.index) # or dc07.index.intersection(dc08.index)"
   ]
  },
  {
   "cell_type": "markdown",
   "metadata": {
    "slideshow": {
     "slide_type": "subslide"
    }
   },
   "source": [
    "   -  we concatenate in presence of two **duplicated** indexes"
   ]
  },
  {
   "cell_type": "code",
   "execution_count": null,
   "metadata": {},
   "outputs": [],
   "source": [
    "dc09 = pd.concat([dc07, dc08])\n",
    "\n",
    "# we find two 'Emma' entries \n",
    "# in the result's index\n",
    "\n",
    "dc09.loc['Emma'] "
   ]
  },
  {
   "cell_type": "markdown",
   "metadata": {
    "slideshow": {
     "slide_type": "subslide"
    }
   },
   "source": [
    "   - you can **force a raincheck** about **duplicate indexes**  \n",
    "     with the *verify_integrity* parameter"
   ]
  },
  {
   "cell_type": "code",
   "execution_count": null,
   "metadata": {},
   "outputs": [],
   "source": [
    "try:\n",
    "    dc09 = pd.concat([dc07, dc08], verify_integrity=True)\n",
    "except ValueError as e:\n",
    "    print(f\"OOPS {e}\")        "
   ]
  },
  {
   "cell_type": "markdown",
   "metadata": {
    "slideshow": {
     "slide_type": "subslide"
    }
   },
   "source": [
    "   - you can **concatenate** when **axis** are not **aligned**\n",
    "   - **missing values** are replaced by *numpy.NaN*"
   ]
  },
  {
   "cell_type": "code",
   "execution_count": null,
   "metadata": {},
   "outputs": [],
   "source": [
    "# preparing data\n",
    "dc10 = pd.DataFrame(\n",
    "    [[1.70, 67, 'Lower'], [1.67, 59, 'Middle']],\n",
    "    columns=['height', 'weight', 'income'],\n",
    "    index=['Paul', 'Louise'])\n",
    "\n",
    "dc11 = pd.DataFrame(\n",
    "    [[1.54, 45, 'F'], [1.76, 84, 'F']],\n",
    "    columns=['height', 'weight', 'sex'],\n",
    "    index=['Alice', 'Léna'])"
   ]
  },
  {
   "cell_type": "code",
   "execution_count": null,
   "metadata": {
    "cell_style": "split",
    "slideshow": {
     "slide_type": "subslide"
    }
   },
   "outputs": [],
   "source": [
    "# first dataframe\n",
    "# has no 'sex' column\n",
    "dc10.head(2)"
   ]
  },
  {
   "cell_type": "code",
   "execution_count": null,
   "metadata": {
    "cell_style": "split"
   },
   "outputs": [],
   "source": [
    "# second dataframe  \n",
    "# has no 'income' column\n",
    "\n",
    "dc11.head(2)"
   ]
  },
  {
   "cell_type": "code",
   "execution_count": null,
   "metadata": {
    "cell_style": "split"
   },
   "outputs": [],
   "source": [
    "# (we pass **sort=False** \n",
    "# to silence a warning)\n",
    "\n",
    "dc12 = pd.concat([dc10, dc11],\n",
    "                 axis=0, \n",
    "                 sort=False) \n",
    "dc12"
   ]
  },
  {
   "cell_type": "markdown",
   "metadata": {
    "cell_style": "split"
   },
   "source": [
    "- **resulting** dataframe contains NaN  \n",
    "  (not available, not a number, ...)\n",
    "\n",
    "- **NOTE** that the *pandas.append()*\n",
    "  function is a **shortcut** to **concat**  \n",
    "  with a **simplified interface**"
   ]
  },
  {
   "cell_type": "markdown",
   "metadata": {
    "slideshow": {
     "slide_type": "slide"
    }
   },
   "source": [
    "## combining datasets with *pandas.merge*"
   ]
  },
  {
   "cell_type": "markdown",
   "metadata": {},
   "source": [
    "   - the **rows** represent **objects** (like **objects** in a **data base**)\n",
    "   - you **merge** two **data frames** by **joining** objects"
   ]
  },
  {
   "cell_type": "markdown",
   "metadata": {},
   "source": [
    "   - two **rows** are **merged** if they have a **matching key**\n",
    "   - a **key** is defined by **one or several** columns **names**\n",
    "   - by default **merge** considers **all** columns with the **same name** in the data frames"
   ]
  },
  {
   "cell_type": "markdown",
   "metadata": {
    "slideshow": {
     "slide_type": "slide"
    }
   },
   "source": [
    "### **one-by-one** merge"
   ]
  },
  {
   "cell_type": "code",
   "execution_count": null,
   "metadata": {},
   "outputs": [],
   "source": [
    "# preparing data (dm = dataset for merge)\n",
    "dm01 = pd.DataFrame({'names': ['Gabriel', 'Emma', 'Jules'],\n",
    "                    'sex': ['M', 'F', 'M']})\n",
    "dm02 = pd.DataFrame({'names': ['Gabriel', 'Emma', 'Paul'],\n",
    "                    'incomes': ['Lower', 'Middle', 'Lower']})"
   ]
  },
  {
   "cell_type": "markdown",
   "metadata": {
    "slideshow": {
     "slide_type": "subslide"
    }
   },
   "source": [
    "   - there is **no duplicate entry** in the **key column**\n",
    "   - two **rows** are merged when the **key column** matches"
   ]
  },
  {
   "cell_type": "code",
   "execution_count": null,
   "metadata": {
    "cell_style": "split"
   },
   "outputs": [],
   "source": [
    "dm01"
   ]
  },
  {
   "cell_type": "code",
   "execution_count": null,
   "metadata": {
    "cell_style": "split"
   },
   "outputs": [],
   "source": [
    "dm02\n"
   ]
  },
  {
   "cell_type": "markdown",
   "metadata": {
    "cell_style": "split"
   },
   "source": [
    "   - datasets have 2 objects in common: ('Gabriel' and 'Emma')\n",
    "   - 'Jules' (and 'Paul') cannot be joined to another **object**\n",
    "   - we **merge** objects of the two **data frames** **one-by-one**"
   ]
  },
  {
   "cell_type": "code",
   "execution_count": null,
   "metadata": {
    "cell_style": "split"
   },
   "outputs": [],
   "source": [
    "dm03 = pd.merge(dm01, dm02)\n",
    "dm03"
   ]
  },
  {
   "cell_type": "markdown",
   "metadata": {
    "slideshow": {
     "slide_type": "slide"
    }
   },
   "source": [
    "### **one-by-one** merge with multi-column as key\n",
    "   - when key are not unique \n",
    "   - one can use **multi-columns** as key\n",
    "     to make them unique"
   ]
  },
  {
   "cell_type": "code",
   "execution_count": null,
   "metadata": {},
   "outputs": [],
   "source": [
    "# preparing data\n",
    "dm03 = pd.DataFrame({'names': ['Gabriel', 'Jules', 'Emma'],\n",
    "                    'incomes': ['Lower', 'Upper', 'Lower'],\n",
    "                    'height': [1.87, 1.67, 1.64]})\n",
    "\n",
    "dm04 = pd.DataFrame({'names': ['Gabriel', 'Jules', 'Emma'], \n",
    "                    'sex': ['M', 'M', 'F'],\n",
    "                    'incomes': ['Lower', 'Middle', 'Lower'],})"
   ]
  },
  {
   "cell_type": "code",
   "execution_count": null,
   "metadata": {
    "cell_style": "split",
    "slideshow": {
     "slide_type": "subslide"
    }
   },
   "outputs": [],
   "source": [
    "dm03"
   ]
  },
  {
   "cell_type": "code",
   "execution_count": null,
   "metadata": {
    "cell_style": "split"
   },
   "outputs": [],
   "source": [
    "dm04"
   ]
  },
  {
   "cell_type": "markdown",
   "metadata": {
    "cell_style": "split",
    "slideshow": {
     "slide_type": ""
    }
   },
   "source": [
    "- there are 2 common columns\n",
    "- think of the key as  \n",
    "  (name⋅income)\n",
    "- here again we have  \n",
    "  2 common objects\n",
    "- and 2 objects to discard\n",
    "- because  \n",
    " (Jules⋅Upper) != (Jules⋅Middle)"
   ]
  },
  {
   "cell_type": "code",
   "execution_count": null,
   "metadata": {
    "cell_style": "split",
    "slideshow": {
     "slide_type": ""
    }
   },
   "outputs": [],
   "source": [
    "pd.merge(dm03, dm04) "
   ]
  },
  {
   "cell_type": "markdown",
   "metadata": {
    "slideshow": {
     "slide_type": "slide"
    }
   },
   "source": [
    "### **many-to-one** merge"
   ]
  },
  {
   "cell_type": "code",
   "execution_count": null,
   "metadata": {},
   "outputs": [],
   "source": [
    "# preparing data\n",
    "dm05 = pd.DataFrame({'names': ['Gabriel', 'Jules', 'Emma'], \n",
    "                    'sex': ['M', 'M', 'F'],\n",
    "                    'height': [1.87, 1.67, 1.84]})\n",
    "\n",
    "dm06 = pd.DataFrame({'names': ['Gabriel', 'Emma', 'Jules'],\n",
    "                    'incomes': ['Lower', 'Middle', 'Lower'],})"
   ]
  },
  {
   "cell_type": "markdown",
   "metadata": {
    "slideshow": {
     "slide_type": "subslide"
    }
   },
   "source": [
    "   - one of the two **key columns** contains **duplicate values**\n",
    "   - a **one-to-one** strategy for each duplicated row is **applied**"
   ]
  },
  {
   "cell_type": "code",
   "execution_count": null,
   "metadata": {
    "cell_style": "split"
   },
   "outputs": [],
   "source": [
    "dm05"
   ]
  },
  {
   "cell_type": "code",
   "execution_count": null,
   "metadata": {
    "cell_style": "split"
   },
   "outputs": [],
   "source": [
    "dm06"
   ]
  },
  {
   "cell_type": "markdown",
   "metadata": {
    "cell_style": "split"
   },
   "source": [
    "every 'Jules' of the first \n",
    "dataframe is merged with \n",
    "the 'Jules' of the second data frame "
   ]
  },
  {
   "cell_type": "code",
   "execution_count": null,
   "metadata": {
    "cell_style": "split"
   },
   "outputs": [],
   "source": [
    "pd.merge(dm05, dm06) "
   ]
  },
  {
   "cell_type": "markdown",
   "metadata": {
    "slideshow": {
     "slide_type": "subslide"
    }
   },
   "source": [
    "   - another example"
   ]
  },
  {
   "cell_type": "code",
   "execution_count": null,
   "metadata": {},
   "outputs": [],
   "source": [
    "# preparing data\n",
    "dm07 = pd.DataFrame({'names': ['Gabriel', 'Emma', 'Jules'],\n",
    "                    'incomes': ['L', 'M', 'L']})\n",
    "dm08 = pd.DataFrame({'incomes': ['L', 'M', 'U'],\n",
    "                    'explanation': ['Lower', 'Middle', 'Upper']})"
   ]
  },
  {
   "cell_type": "code",
   "execution_count": null,
   "metadata": {
    "cell_style": "split",
    "slideshow": {
     "slide_type": "subslide"
    }
   },
   "outputs": [],
   "source": [
    "dm07"
   ]
  },
  {
   "cell_type": "code",
   "execution_count": null,
   "metadata": {
    "cell_style": "split"
   },
   "outputs": [],
   "source": [
    "dm08"
   ]
  },
  {
   "cell_type": "code",
   "execution_count": null,
   "metadata": {},
   "outputs": [],
   "source": [
    "pd.merge(dm07, dm08)"
   ]
  },
  {
   "cell_type": "markdown",
   "metadata": {
    "slideshow": {
     "slide_type": "slide"
    }
   },
   "source": [
    "### **many-to-many** merge"
   ]
  },
  {
   "cell_type": "markdown",
   "metadata": {},
   "source": [
    "   - both **key columns** contain duplicates **entries**\n",
    "   - a **cartesian product** is used"
   ]
  },
  {
   "cell_type": "code",
   "execution_count": null,
   "metadata": {},
   "outputs": [],
   "source": [
    "#preparing data\n",
    "dm09 = pd.DataFrame(\n",
    "    {'names': ['Gabriel', 'Jules', 'Jules'],   # two \"Jules\"\n",
    "     'height': [1.87, 1.67, 1.84]})\n",
    "dm10 = pd.DataFrame({'names': ['Gabriel', 'Jules', 'Jules'],   # two 'Jules'\n",
    "                    'incomes': ['Lower', 'Middle', 'Lower']})"
   ]
  },
  {
   "cell_type": "code",
   "execution_count": null,
   "metadata": {
    "cell_style": "split",
    "slideshow": {
     "slide_type": "subslide"
    }
   },
   "outputs": [],
   "source": [
    "dm09"
   ]
  },
  {
   "cell_type": "code",
   "execution_count": null,
   "metadata": {
    "cell_style": "split"
   },
   "outputs": [],
   "source": [
    "dm10"
   ]
  },
  {
   "cell_type": "code",
   "execution_count": null,
   "metadata": {},
   "outputs": [],
   "source": [
    "pd.merge(dm09, dm10) # four 'Jules\""
   ]
  },
  {
   "cell_type": "markdown",
   "metadata": {
    "slideshow": {
     "slide_type": "slide"
    }
   },
   "source": [
    "### controling **keys**"
   ]
  },
  {
   "cell_type": "markdown",
   "metadata": {},
   "source": [
    "   - you can **specify** the **key columns** with the parameter *on='names'*\n",
    "   - you can **link** columns with different **names** (parameters *left_on='names', right_on='identity')*"
   ]
  },
  {
   "cell_type": "code",
   "execution_count": null,
   "metadata": {},
   "outputs": [],
   "source": [
    "# preparing data\n",
    "dm11 = pd.DataFrame({'names': ['Gabriel', 'Jules', 'Emma'],\n",
    "                    'incomes': ['Lower', 'Upper', 'Lower'],\n",
    "                    'height': [1.87, 1.67, 1.64]})\n",
    "\n",
    "dm12 = pd.DataFrame({'names': ['Gabriel', 'Jules', 'Emma'], \n",
    "                    'sex': ['M', 'M', 'F'],\n",
    "                    'incomes': ['Lower', 'Middle', 'Lower'],})"
   ]
  },
  {
   "cell_type": "code",
   "execution_count": null,
   "metadata": {
    "cell_style": "split",
    "slideshow": {
     "slide_type": "subslide"
    }
   },
   "outputs": [],
   "source": [
    "dm11"
   ]
  },
  {
   "cell_type": "code",
   "execution_count": null,
   "metadata": {
    "cell_style": "split"
   },
   "outputs": [],
   "source": [
    "dm12"
   ]
  },
  {
   "cell_type": "code",
   "execution_count": null,
   "metadata": {},
   "outputs": [],
   "source": [
    "# incomes is no longer involved in the merging\n",
    "\n",
    "pd.merge(dm11, dm12, on=['names']) "
   ]
  },
  {
   "cell_type": "markdown",
   "metadata": {
    "slideshow": {
     "slide_type": "subslide"
    }
   },
   "source": [
    "**a last example**"
   ]
  },
  {
   "cell_type": "code",
   "execution_count": null,
   "metadata": {},
   "outputs": [],
   "source": [
    "# preparing data\n",
    "dm13 = pd.DataFrame({'names': ['Gabriel', 'Jules', 'Emma'],\n",
    "                    'incomes': ['Lower', 'Middle', 'Lower'],\n",
    "                    'height': [1.87, 1.67, 1.64]})\n",
    "\n",
    "dm14 = pd.DataFrame({'identity': ['Gabriel', 'Jules', 'Emma'], \n",
    "                    'sex': ['M', 'M', 'F'],\n",
    "                    'incomes': ['Lower', 'Middle', 'Lower'],})"
   ]
  },
  {
   "cell_type": "markdown",
   "metadata": {
    "slideshow": {
     "slide_type": "subslide"
    }
   },
   "source": [
    "   - columns **excluded** from the **key** are **renamed**\n",
    "   "
   ]
  },
  {
   "cell_type": "code",
   "execution_count": null,
   "metadata": {
    "cell_style": "split"
   },
   "outputs": [],
   "source": [
    "dm13"
   ]
  },
  {
   "cell_type": "code",
   "execution_count": null,
   "metadata": {
    "cell_style": "split"
   },
   "outputs": [],
   "source": [
    "dm14"
   ]
  },
  {
   "cell_type": "code",
   "execution_count": null,
   "metadata": {},
   "outputs": [],
   "source": [
    "# 'incomes' is excluded => incomes will be renamed\n",
    "pd.merge(dm13, dm14, left_on='names', right_on='identity')  "
   ]
  },
  {
   "cell_type": "markdown",
   "metadata": {
    "slideshow": {
     "slide_type": "slide"
    }
   },
   "source": [
    "**NOTES**\n",
    "\n",
    "- merge does not preserve the **index**\n",
    "- **join()** is a shortcut to **merge()**"
   ]
  }
 ],
 "metadata": {
  "celltoolbar": "Slideshow",
  "ipub": {
   "sphinx": {
    "toggle_input": true,
    "toggle_input_all": true,
    "toggle_output": true,
    "toggle_output_all": true
   }
  },
  "kernelspec": {
   "display_name": "Python 3",
   "language": "python",
   "name": "python3"
  },
  "language_info": {
   "codemirror_mode": {
    "name": "ipython",
    "version": 3
   },
   "file_extension": ".py",
   "mimetype": "text/x-python",
   "name": "python",
   "nbconvert_exporter": "python",
   "pygments_lexer": "ipython3",
   "version": "3.7.3"
  },
  "notebookname": "combining",
  "rise": {
   "autolaunch": true,
   "slideNumber": "c/t",
   "start_slideshow_at": "selected",
   "theme": "sky",
   "transition": "cube"
  },
  "version": "1.0"
 },
 "nbformat": 4,
 "nbformat_minor": 4
}
